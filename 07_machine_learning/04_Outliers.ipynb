{
 "cells": [
  {
   "cell_type": "code",
   "execution_count": 1,
   "id": "93598d6e",
   "metadata": {},
   "outputs": [
    {
     "data": {
      "application/vnd.microsoft.datawrangler.viewer.v0+json": {
       "columns": [
        {
         "name": "index",
         "rawType": "int64",
         "type": "integer"
        },
        {
         "name": "age",
         "rawType": "int64",
         "type": "integer"
        }
       ],
       "ref": "99f86a2b-6b97-4313-a833-ae1b4c8eb3b0",
       "rows": [
        [
         "0",
         "20"
        ],
        [
         "1",
         "21"
        ],
        [
         "2",
         "22"
        ],
        [
         "3",
         "23"
        ],
        [
         "4",
         "24"
        ],
        [
         "5",
         "25"
        ],
        [
         "6",
         "26"
        ],
        [
         "7",
         "27"
        ],
        [
         "8",
         "28"
        ],
        [
         "9",
         "29"
        ],
        [
         "10",
         "30"
        ],
        [
         "11",
         "50"
        ]
       ],
       "shape": {
        "columns": 1,
        "rows": 12
       }
      },
      "text/html": [
       "<div>\n",
       "<style scoped>\n",
       "    .dataframe tbody tr th:only-of-type {\n",
       "        vertical-align: middle;\n",
       "    }\n",
       "\n",
       "    .dataframe tbody tr th {\n",
       "        vertical-align: top;\n",
       "    }\n",
       "\n",
       "    .dataframe thead th {\n",
       "        text-align: right;\n",
       "    }\n",
       "</style>\n",
       "<table border=\"1\" class=\"dataframe\">\n",
       "  <thead>\n",
       "    <tr style=\"text-align: right;\">\n",
       "      <th></th>\n",
       "      <th>age</th>\n",
       "    </tr>\n",
       "  </thead>\n",
       "  <tbody>\n",
       "    <tr>\n",
       "      <th>0</th>\n",
       "      <td>20</td>\n",
       "    </tr>\n",
       "    <tr>\n",
       "      <th>1</th>\n",
       "      <td>21</td>\n",
       "    </tr>\n",
       "    <tr>\n",
       "      <th>2</th>\n",
       "      <td>22</td>\n",
       "    </tr>\n",
       "    <tr>\n",
       "      <th>3</th>\n",
       "      <td>23</td>\n",
       "    </tr>\n",
       "    <tr>\n",
       "      <th>4</th>\n",
       "      <td>24</td>\n",
       "    </tr>\n",
       "    <tr>\n",
       "      <th>5</th>\n",
       "      <td>25</td>\n",
       "    </tr>\n",
       "    <tr>\n",
       "      <th>6</th>\n",
       "      <td>26</td>\n",
       "    </tr>\n",
       "    <tr>\n",
       "      <th>7</th>\n",
       "      <td>27</td>\n",
       "    </tr>\n",
       "    <tr>\n",
       "      <th>8</th>\n",
       "      <td>28</td>\n",
       "    </tr>\n",
       "    <tr>\n",
       "      <th>9</th>\n",
       "      <td>29</td>\n",
       "    </tr>\n",
       "    <tr>\n",
       "      <th>10</th>\n",
       "      <td>30</td>\n",
       "    </tr>\n",
       "    <tr>\n",
       "      <th>11</th>\n",
       "      <td>50</td>\n",
       "    </tr>\n",
       "  </tbody>\n",
       "</table>\n",
       "</div>"
      ],
      "text/plain": [
       "    age\n",
       "0    20\n",
       "1    21\n",
       "2    22\n",
       "3    23\n",
       "4    24\n",
       "5    25\n",
       "6    26\n",
       "7    27\n",
       "8    28\n",
       "9    29\n",
       "10   30\n",
       "11   50"
      ]
     },
     "execution_count": 1,
     "metadata": {},
     "output_type": "execute_result"
    }
   ],
   "source": [
    "import pandas as pd\n",
    "import numpy as np\n",
    "\n",
    "# create the data\n",
    "data = pd.DataFrame({'age' : (20,21,22,23,24,25,26,27,28,29,30,50)})\n",
    "data"
   ]
  },
  {
   "cell_type": "code",
   "execution_count": 2,
   "id": "43d8bc77",
   "metadata": {},
   "outputs": [
    {
     "data": {
      "application/vnd.microsoft.datawrangler.viewer.v0+json": {
       "columns": [
        {
         "name": "index",
         "rawType": "int64",
         "type": "integer"
        },
        {
         "name": "age",
         "rawType": "int64",
         "type": "integer"
        },
        {
         "name": "Z-score",
         "rawType": "float64",
         "type": "float"
        }
       ],
       "ref": "b2afd40b-b259-4a51-9630-20908645987f",
       "rows": [
        [
         "0",
         "20",
         "-0.9389542818370389"
        ],
        [
         "1",
         "21",
         "-0.8063960302835745"
        ],
        [
         "2",
         "22",
         "-0.6738377787301102"
        ],
        [
         "3",
         "23",
         "-0.5412795271766458"
        ],
        [
         "4",
         "24",
         "-0.4087212756231815"
        ],
        [
         "5",
         "25",
         "-0.2761630240697172"
        ],
        [
         "6",
         "26",
         "-0.14360477251625287"
        ],
        [
         "7",
         "27",
         "-0.011046520962788537"
        ],
        [
         "8",
         "28",
         "0.1215117305906758"
        ],
        [
         "9",
         "29",
         "0.2540699821441401"
        ],
        [
         "10",
         "30",
         "0.38662823369760446"
        ],
        [
         "11",
         "50",
         "3.037793264766891"
        ]
       ],
       "shape": {
        "columns": 2,
        "rows": 12
       }
      },
      "text/html": [
       "<div>\n",
       "<style scoped>\n",
       "    .dataframe tbody tr th:only-of-type {\n",
       "        vertical-align: middle;\n",
       "    }\n",
       "\n",
       "    .dataframe tbody tr th {\n",
       "        vertical-align: top;\n",
       "    }\n",
       "\n",
       "    .dataframe thead th {\n",
       "        text-align: right;\n",
       "    }\n",
       "</style>\n",
       "<table border=\"1\" class=\"dataframe\">\n",
       "  <thead>\n",
       "    <tr style=\"text-align: right;\">\n",
       "      <th></th>\n",
       "      <th>age</th>\n",
       "      <th>Z-score</th>\n",
       "    </tr>\n",
       "  </thead>\n",
       "  <tbody>\n",
       "    <tr>\n",
       "      <th>0</th>\n",
       "      <td>20</td>\n",
       "      <td>-0.938954</td>\n",
       "    </tr>\n",
       "    <tr>\n",
       "      <th>1</th>\n",
       "      <td>21</td>\n",
       "      <td>-0.806396</td>\n",
       "    </tr>\n",
       "    <tr>\n",
       "      <th>2</th>\n",
       "      <td>22</td>\n",
       "      <td>-0.673838</td>\n",
       "    </tr>\n",
       "    <tr>\n",
       "      <th>3</th>\n",
       "      <td>23</td>\n",
       "      <td>-0.541280</td>\n",
       "    </tr>\n",
       "    <tr>\n",
       "      <th>4</th>\n",
       "      <td>24</td>\n",
       "      <td>-0.408721</td>\n",
       "    </tr>\n",
       "    <tr>\n",
       "      <th>5</th>\n",
       "      <td>25</td>\n",
       "      <td>-0.276163</td>\n",
       "    </tr>\n",
       "    <tr>\n",
       "      <th>6</th>\n",
       "      <td>26</td>\n",
       "      <td>-0.143605</td>\n",
       "    </tr>\n",
       "    <tr>\n",
       "      <th>7</th>\n",
       "      <td>27</td>\n",
       "      <td>-0.011047</td>\n",
       "    </tr>\n",
       "    <tr>\n",
       "      <th>8</th>\n",
       "      <td>28</td>\n",
       "      <td>0.121512</td>\n",
       "    </tr>\n",
       "    <tr>\n",
       "      <th>9</th>\n",
       "      <td>29</td>\n",
       "      <td>0.254070</td>\n",
       "    </tr>\n",
       "    <tr>\n",
       "      <th>10</th>\n",
       "      <td>30</td>\n",
       "      <td>0.386628</td>\n",
       "    </tr>\n",
       "    <tr>\n",
       "      <th>11</th>\n",
       "      <td>50</td>\n",
       "      <td>3.037793</td>\n",
       "    </tr>\n",
       "  </tbody>\n",
       "</table>\n",
       "</div>"
      ],
      "text/plain": [
       "    age   Z-score\n",
       "0    20 -0.938954\n",
       "1    21 -0.806396\n",
       "2    22 -0.673838\n",
       "3    23 -0.541280\n",
       "4    24 -0.408721\n",
       "5    25 -0.276163\n",
       "6    26 -0.143605\n",
       "7    27 -0.011047\n",
       "8    28  0.121512\n",
       "9    29  0.254070\n",
       "10   30  0.386628\n",
       "11   50  3.037793"
      ]
     },
     "execution_count": 2,
     "metadata": {},
     "output_type": "execute_result"
    }
   ],
   "source": [
    "\n",
    "# define mean and std\n",
    "mean = np.mean(data['age'])\n",
    "std = np.std(data['age'])\n",
    "\n",
    "# calculate the Z-score\n",
    "data['Z-score'] = (data['age'] - mean) / std\n",
    "data"
   ]
  },
  {
   "cell_type": "code",
   "execution_count": 3,
   "id": "3c2b25e9",
   "metadata": {},
   "outputs": [
    {
     "name": "stdout",
     "output_type": "stream",
     "text": [
      "---------------------------------------\n",
      "Here is the data with Outliers:\n",
      "    age   Z-score\n",
      "0    20 -0.938954\n",
      "1    21 -0.806396\n",
      "2    22 -0.673838\n",
      "3    23 -0.541280\n",
      "4    24 -0.408721\n",
      "5    25 -0.276163\n",
      "6    26 -0.143605\n",
      "7    27 -0.011047\n",
      "8    28  0.121512\n",
      "9    29  0.254070\n",
      "10   30  0.386628\n",
      "11   50  3.037793\n",
      "---------------------------------------\n",
      "Here are the outliers based on the Z-score threshold, 2:\n",
      "    age   Z-score\n",
      "11   50  3.037793\n",
      "---------------------------------------\n",
      "Here is the data without Outliers:\n",
      "    age   Z-score\n",
      "0    20 -0.938954\n",
      "1    21 -0.806396\n",
      "2    22 -0.673838\n",
      "3    23 -0.541280\n",
      "4    24 -0.408721\n",
      "5    25 -0.276163\n",
      "6    26 -0.143605\n",
      "7    27 -0.011047\n",
      "8    28  0.121512\n",
      "9    29  0.254070\n",
      "10   30  0.386628\n"
     ]
    }
   ],
   "source": [
    "\n",
    "\n",
    "# print the data\n",
    "print('---------------------------------------')\n",
    "print(f\"Here is the data with Outliers:\\n{data}\")\n",
    "print('---------------------------------------')\n",
    "# print the outliers\n",
    "print(f\"Here are the outliers based on the Z-score threshold, 2:\\n{data[data['Z-score'] > 3]}\")\n",
    "print(\"---------------------------------------\")\n",
    "# Remove the outliers\n",
    "data = data[data['Z-score'] <= 3]\n",
    "\n",
    "# print the data without outliers\n",
    "print(f\"Here is the data without Outliers:\\n{data}\")\n",
    "\n"
   ]
  },
  {
   "cell_type": "markdown",
   "id": "193c413d",
   "metadata": {},
   "source": [
    "# define outliers using scipy"
   ]
  },
  {
   "cell_type": "code",
   "execution_count": 4,
   "id": "132fcd18",
   "metadata": {},
   "outputs": [
    {
     "name": "stdout",
     "output_type": "stream",
     "text": [
      "-------------------------------------\n",
      "data:\n",
      "[2.5, 2.7, 2.9, 3.1, 3.3, 3.5, 3.7, 3.9, 101.0]\n",
      "-------------------------------------\n",
      "Indices of Outliers: [8]\n",
      "outliers [101.0]\n",
      "-------------------------------------\n",
      "data without outliers [2.5, 2.7, 2.9, 3.1, 3.3, 3.5, 3.7, 3.9]\n"
     ]
    }
   ],
   "source": [
    "# import libraries\n",
    "import pandas as pd\n",
    "from scipy import stats\n",
    "\n",
    "# create the data \n",
    "data = [2.5,2.7,2.9,3.1,3.3,3.5,3.7,3.9,101.0]\n",
    "\n",
    "# calculate the z-score using stats from scipy\n",
    "z_score = np.abs(stats.zscore(data))\n",
    "\n",
    "# define outliers\n",
    "threshold = 2.5\n",
    "outliers = np.where(z_score > threshold)[0]\n",
    "\n",
    "# print the data\n",
    "print('-------------------------------------')\n",
    "print(f\"data:\\n{data}\")\n",
    "print('-------------------------------------')\n",
    "print(\"Indices of Outliers:\", outliers)\n",
    "print(\"outliers\", [data[i] for i in outliers])\n",
    "\n",
    "# remove outliers\n",
    "data = [data[i] for i in range(len(data)) if i not in outliers]\n",
    "print('-------------------------------------')\n",
    "print(\"data without outliers\", data)"
   ]
  },
  {
   "cell_type": "markdown",
   "id": "c187714f",
   "metadata": {},
   "source": [
    "# IQR method"
   ]
  },
  {
   "cell_type": "code",
   "execution_count": 5,
   "id": "5aca31ae",
   "metadata": {},
   "outputs": [
    {
     "name": "stdout",
     "output_type": "stream",
     "text": [
      "-------------------------------------\n",
      "Here is the data with outliers:\n",
      "    age\n",
      "0    20\n",
      "1    21\n",
      "2    22\n",
      "3    23\n",
      "4    24\n",
      "5    25\n",
      "6    26\n",
      "7    27\n",
      "8    28\n",
      "9    29\n",
      "10   30\n",
      "11   50\n",
      "-------------------------------------\n",
      "Here is the outliers based on the IQR method:\n",
      "    age\n",
      "11   50\n",
      "-------------------------------------\n",
      "Here is the data without outliers\n",
      "    age\n",
      "0    20\n",
      "1    21\n",
      "2    22\n",
      "3    23\n",
      "4    24\n",
      "5    25\n",
      "6    26\n",
      "7    27\n",
      "8    28\n",
      "9    29\n",
      "10   30\n"
     ]
    }
   ],
   "source": [
    "# import libraries\n",
    "import pandas as pd\n",
    "import numpy as np\n",
    "\n",
    "# create the data\n",
    "data = pd.DataFrame({'age' : [20,21,22,23,24,25,26,27,28,29,30,50]})\n",
    "\n",
    "# calculate Q1 ad Q3 value\n",
    "Q1 = np.percentile(data['age'], 25, interpolation='midpoint')\n",
    "Q3 = np.percentile(data['age'], 75, interpolation='midpoint')\n",
    "# define IQR\n",
    "IQR = Q3 - Q1\n",
    "\n",
    "# define upper and lower bound\n",
    "lower_bound = Q1 - (1.5 * IQR)\n",
    "upper_bound = Q3 + (1.5 * IQR)\n",
    "\n",
    "# print the data \n",
    "print(\"-------------------------------------\")\n",
    "print(f\"Here is the data with outliers:\\n{data}\")\n",
    "print(\"-------------------------------------\")\n",
    "print(f\"Here is the outliers based on the IQR method:\\n{data[(data['age'] < lower_bound) | (data['age'] > upper_bound)]}\")\n",
    "# remove the data\n",
    "data = data[(data['age'] >= lower_bound) & (data['age'] <= upper_bound)]\n",
    "print(\"-------------------------------------\")\n",
    "print(f\"Here is the data without outliers\\n{data}\")"
   ]
  },
  {
   "cell_type": "markdown",
   "id": "4eeb6b6b",
   "metadata": {},
   "source": [
    "# (K-Means) Clustering Method"
   ]
  },
  {
   "cell_type": "code",
   "execution_count": 7,
   "id": "5bf7df9c",
   "metadata": {},
   "outputs": [
    {
     "name": "stdout",
     "output_type": "stream",
     "text": [
      "print: [[2, 2], [3, 3], [3, 4], [30, 30], [31, 31], [32, 32]]\n",
      "outliers: [[30, 30], [31, 31], [32, 32]]\n",
      "data without outliers: [[2, 2], [3, 3], [3, 4]]\n"
     ]
    }
   ],
   "source": [
    "# import libraries\n",
    "from sklearn.cluster import KMeans\n",
    "# create the data\n",
    "data = [[2,2], [3,3], [3,4], [30,30], [31,31], [32,32]]\n",
    "# Create a K-Means model with two clusters (normal and outliers)\n",
    "kmeans = KMeans(n_clusters=2, n_init=10)\n",
    "kmeans.fit(data)\n",
    "\n",
    "# predict cluster labels\n",
    "labels = kmeans.predict(data)\n",
    "\n",
    "#Identify outliers based on cluster labels\n",
    "outliers = [data[i] for i, label in enumerate(labels) if label == 1]\n",
    "\n",
    "# print data\n",
    "print(\"print:\", data)\n",
    "print(\"outliers:\", outliers)\n",
    "# remove outliers\n",
    "data = [data[i] for i, label in enumerate(labels) if label == 0]\n",
    "print(\"data without outliers:\", data)\n"
   ]
  }
 ],
 "metadata": {
  "kernelspec": {
   "display_name": "python_ml",
   "language": "python",
   "name": "python3"
  },
  "language_info": {
   "codemirror_mode": {
    "name": "ipython",
    "version": 3
   },
   "file_extension": ".py",
   "mimetype": "text/x-python",
   "name": "python",
   "nbconvert_exporter": "python",
   "pygments_lexer": "ipython3",
   "version": "3.11.13"
  }
 },
 "nbformat": 4,
 "nbformat_minor": 5
}
