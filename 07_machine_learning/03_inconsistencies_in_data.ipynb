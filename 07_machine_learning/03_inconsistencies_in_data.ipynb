{
 "cells": [
  {
   "cell_type": "code",
   "execution_count": 75,
   "id": "d483d15b",
   "metadata": {},
   "outputs": [],
   "source": [
    "import pandas as pd"
   ]
  },
  {
   "cell_type": "code",
   "execution_count": 76,
   "id": "6b211a12",
   "metadata": {},
   "outputs": [],
   "source": [
    "data = {\n",
    "    'date': ['2021-12-01', '01-12-2022', '2022/12/01', '12-01-2021'],\n",
    "    'country': ['USA', 'U.S.A.', 'America', 'United States'],\n",
    "    'name': ['Aammar', 'Amaar', 'Hamza', 'Hazma'],\n",
    "    'sales_2020': [100, 200, None, 200],\n",
    "    'sales_2021': [None, 150, 300, 150]\n",
    "}\n",
    "# make pandas dataframe\n",
    "df = pd.DataFrame(data)"
   ]
  },
  {
   "cell_type": "code",
   "execution_count": 77,
   "id": "f7905e6c",
   "metadata": {},
   "outputs": [
    {
     "data": {
      "application/vnd.microsoft.datawrangler.viewer.v0+json": {
       "columns": [
        {
         "name": "index",
         "rawType": "int64",
         "type": "integer"
        },
        {
         "name": "date",
         "rawType": "object",
         "type": "string"
        },
        {
         "name": "country",
         "rawType": "object",
         "type": "string"
        },
        {
         "name": "name",
         "rawType": "object",
         "type": "string"
        },
        {
         "name": "sales_2020",
         "rawType": "float64",
         "type": "float"
        },
        {
         "name": "sales_2021",
         "rawType": "float64",
         "type": "float"
        }
       ],
       "ref": "1557afdf-09b7-45be-8219-188a3c43a94d",
       "rows": [
        [
         "0",
         "2021-12-01",
         "USA",
         "Aammar",
         "100.0",
         null
        ],
        [
         "1",
         "01-12-2022",
         "U.S.A.",
         "Amaar",
         "200.0",
         "150.0"
        ],
        [
         "2",
         "2022/12/01",
         "America",
         "Hamza",
         null,
         "300.0"
        ],
        [
         "3",
         "12-01-2021",
         "United States",
         "Hazma",
         "200.0",
         "150.0"
        ]
       ],
       "shape": {
        "columns": 5,
        "rows": 4
       }
      },
      "text/html": [
       "<div>\n",
       "<style scoped>\n",
       "    .dataframe tbody tr th:only-of-type {\n",
       "        vertical-align: middle;\n",
       "    }\n",
       "\n",
       "    .dataframe tbody tr th {\n",
       "        vertical-align: top;\n",
       "    }\n",
       "\n",
       "    .dataframe thead th {\n",
       "        text-align: right;\n",
       "    }\n",
       "</style>\n",
       "<table border=\"1\" class=\"dataframe\">\n",
       "  <thead>\n",
       "    <tr style=\"text-align: right;\">\n",
       "      <th></th>\n",
       "      <th>date</th>\n",
       "      <th>country</th>\n",
       "      <th>name</th>\n",
       "      <th>sales_2020</th>\n",
       "      <th>sales_2021</th>\n",
       "    </tr>\n",
       "  </thead>\n",
       "  <tbody>\n",
       "    <tr>\n",
       "      <th>0</th>\n",
       "      <td>2021-12-01</td>\n",
       "      <td>USA</td>\n",
       "      <td>Aammar</td>\n",
       "      <td>100.0</td>\n",
       "      <td>NaN</td>\n",
       "    </tr>\n",
       "    <tr>\n",
       "      <th>1</th>\n",
       "      <td>01-12-2022</td>\n",
       "      <td>U.S.A.</td>\n",
       "      <td>Amaar</td>\n",
       "      <td>200.0</td>\n",
       "      <td>150.0</td>\n",
       "    </tr>\n",
       "    <tr>\n",
       "      <th>2</th>\n",
       "      <td>2022/12/01</td>\n",
       "      <td>America</td>\n",
       "      <td>Hamza</td>\n",
       "      <td>NaN</td>\n",
       "      <td>300.0</td>\n",
       "    </tr>\n",
       "    <tr>\n",
       "      <th>3</th>\n",
       "      <td>12-01-2021</td>\n",
       "      <td>United States</td>\n",
       "      <td>Hazma</td>\n",
       "      <td>200.0</td>\n",
       "      <td>150.0</td>\n",
       "    </tr>\n",
       "  </tbody>\n",
       "</table>\n",
       "</div>"
      ],
      "text/plain": [
       "         date        country    name  sales_2020  sales_2021\n",
       "0  2021-12-01            USA  Aammar       100.0         NaN\n",
       "1  01-12-2022         U.S.A.   Amaar       200.0       150.0\n",
       "2  2022/12/01        America   Hamza         NaN       300.0\n",
       "3  12-01-2021  United States   Hazma       200.0       150.0"
      ]
     },
     "execution_count": 77,
     "metadata": {},
     "output_type": "execute_result"
    }
   ],
   "source": [
    "df.head()"
   ]
  },
  {
   "cell_type": "code",
   "execution_count": null,
   "id": "615aed9f",
   "metadata": {},
   "outputs": [
    {
     "name": "stdout",
     "output_type": "stream",
     "text": [
      "       date        country    name  sales_2020  sales_2021\n",
      "0  21-12-01            USA  Aammar       100.0         NaN\n",
      "1  22-12-01         U.S.A.   Amaar       200.0       150.0\n",
      "2  22-12-01        America   Hamza         NaN       300.0\n",
      "3  21-01-12  United States   Hazma       200.0       150.0\n"
     ]
    },
    {
     "name": "stderr",
     "output_type": "stream",
     "text": [
      "C:\\Users\\Dell\\AppData\\Local\\Temp\\ipykernel_6260\\2537483279.py:10: FutureWarning: Series.fillna with 'method' is deprecated and will raise in a future version. Use obj.ffill() or obj.bfill() instead.\n",
      "  df['date'] = df['date'].fillna(method='ffill')\n"
     ]
    }
   ],
   "source": [
    "# Standardizing the data format\n",
    "df['date_parsed'] = pd.to_datetime(df['date'], errors=\"coerce\")\n",
    "\n",
    "df.loc[df['date_parsed'].isna(), 'date_parsed'] = pd.to_datetime(\n",
    "    df.loc[df['date_parsed'].isna(), 'date'],\n",
    "    errors='coerce',\n",
    "    dayfirst=True\n",
    ")\n",
    "\n",
    "df['date'] = df['date_parsed'].dt.strftime('%y-%m-%d')\n",
    "\n",
    "df.drop(columns=['date_parsed'], inplace=True)\n",
    "\n",
    "df['date'] = df['date'].fillna(method='ffill')\n",
    "print(df)"
   ]
  },
  {
   "cell_type": "code",
   "execution_count": 79,
   "id": "6eb41ee8",
   "metadata": {},
   "outputs": [
    {
     "data": {
      "application/vnd.microsoft.datawrangler.viewer.v0+json": {
       "columns": [
        {
         "name": "index",
         "rawType": "int64",
         "type": "integer"
        },
        {
         "name": "date",
         "rawType": "object",
         "type": "string"
        },
        {
         "name": "country",
         "rawType": "object",
         "type": "string"
        },
        {
         "name": "name",
         "rawType": "object",
         "type": "string"
        },
        {
         "name": "sales_2020",
         "rawType": "float64",
         "type": "float"
        },
        {
         "name": "sales_2021",
         "rawType": "float64",
         "type": "float"
        }
       ],
       "ref": "20819191-3e68-4aee-b0e0-3fce750a43a5",
       "rows": [
        [
         "0",
         "21-12-01",
         "United States",
         "Aammar",
         "100.0",
         null
        ],
        [
         "1",
         "22-12-01",
         "United States",
         "Amaar",
         "200.0",
         "150.0"
        ],
        [
         "2",
         "22-12-01",
         "United States",
         "Hamza",
         null,
         "300.0"
        ],
        [
         "3",
         "21-01-12",
         "United States",
         "Hazma",
         "200.0",
         "150.0"
        ]
       ],
       "shape": {
        "columns": 5,
        "rows": 4
       }
      },
      "text/html": [
       "<div>\n",
       "<style scoped>\n",
       "    .dataframe tbody tr th:only-of-type {\n",
       "        vertical-align: middle;\n",
       "    }\n",
       "\n",
       "    .dataframe tbody tr th {\n",
       "        vertical-align: top;\n",
       "    }\n",
       "\n",
       "    .dataframe thead th {\n",
       "        text-align: right;\n",
       "    }\n",
       "</style>\n",
       "<table border=\"1\" class=\"dataframe\">\n",
       "  <thead>\n",
       "    <tr style=\"text-align: right;\">\n",
       "      <th></th>\n",
       "      <th>date</th>\n",
       "      <th>country</th>\n",
       "      <th>name</th>\n",
       "      <th>sales_2020</th>\n",
       "      <th>sales_2021</th>\n",
       "    </tr>\n",
       "  </thead>\n",
       "  <tbody>\n",
       "    <tr>\n",
       "      <th>0</th>\n",
       "      <td>21-12-01</td>\n",
       "      <td>United States</td>\n",
       "      <td>Aammar</td>\n",
       "      <td>100.0</td>\n",
       "      <td>NaN</td>\n",
       "    </tr>\n",
       "    <tr>\n",
       "      <th>1</th>\n",
       "      <td>22-12-01</td>\n",
       "      <td>United States</td>\n",
       "      <td>Amaar</td>\n",
       "      <td>200.0</td>\n",
       "      <td>150.0</td>\n",
       "    </tr>\n",
       "    <tr>\n",
       "      <th>2</th>\n",
       "      <td>22-12-01</td>\n",
       "      <td>United States</td>\n",
       "      <td>Hamza</td>\n",
       "      <td>NaN</td>\n",
       "      <td>300.0</td>\n",
       "    </tr>\n",
       "    <tr>\n",
       "      <th>3</th>\n",
       "      <td>21-01-12</td>\n",
       "      <td>United States</td>\n",
       "      <td>Hazma</td>\n",
       "      <td>200.0</td>\n",
       "      <td>150.0</td>\n",
       "    </tr>\n",
       "  </tbody>\n",
       "</table>\n",
       "</div>"
      ],
      "text/plain": [
       "       date        country    name  sales_2020  sales_2021\n",
       "0  21-12-01  United States  Aammar       100.0         NaN\n",
       "1  22-12-01  United States   Amaar       200.0       150.0\n",
       "2  22-12-01  United States   Hamza         NaN       300.0\n",
       "3  21-01-12  United States   Hazma       200.0       150.0"
      ]
     },
     "execution_count": 79,
     "metadata": {},
     "output_type": "execute_result"
    }
   ],
   "source": [
    "# Harmonize the name of the country\n",
    "country_mapping = {'USA': 'United States', 'U.S.A.':'United States', 'America' : 'United States'}\n",
    "df['country'] = df['country'].replace(country_mapping)\n",
    "df.head()"
   ]
  },
  {
   "cell_type": "code",
   "execution_count": 80,
   "id": "53f81b0a",
   "metadata": {},
   "outputs": [
    {
     "data": {
      "application/vnd.microsoft.datawrangler.viewer.v0+json": {
       "columns": [
        {
         "name": "index",
         "rawType": "int64",
         "type": "integer"
        },
        {
         "name": "date",
         "rawType": "object",
         "type": "string"
        },
        {
         "name": "country",
         "rawType": "object",
         "type": "string"
        },
        {
         "name": "name",
         "rawType": "object",
         "type": "string"
        },
        {
         "name": "sales_2020",
         "rawType": "float64",
         "type": "float"
        },
        {
         "name": "sales_2021",
         "rawType": "float64",
         "type": "float"
        }
       ],
       "ref": "ace89ac8-5ec1-4bf8-b65a-5db1f39d96dc",
       "rows": [
        [
         "0",
         "21-12-01",
         "United States",
         "Aammar",
         "100.0",
         null
        ],
        [
         "1",
         "22-12-01",
         "United States",
         "Aammar",
         "200.0",
         "150.0"
        ],
        [
         "2",
         "22-12-01",
         "United States",
         "Hamza",
         null,
         "300.0"
        ],
        [
         "3",
         "21-01-12",
         "United States",
         "Hamza",
         "200.0",
         "150.0"
        ]
       ],
       "shape": {
        "columns": 5,
        "rows": 4
       }
      },
      "text/html": [
       "<div>\n",
       "<style scoped>\n",
       "    .dataframe tbody tr th:only-of-type {\n",
       "        vertical-align: middle;\n",
       "    }\n",
       "\n",
       "    .dataframe tbody tr th {\n",
       "        vertical-align: top;\n",
       "    }\n",
       "\n",
       "    .dataframe thead th {\n",
       "        text-align: right;\n",
       "    }\n",
       "</style>\n",
       "<table border=\"1\" class=\"dataframe\">\n",
       "  <thead>\n",
       "    <tr style=\"text-align: right;\">\n",
       "      <th></th>\n",
       "      <th>date</th>\n",
       "      <th>country</th>\n",
       "      <th>name</th>\n",
       "      <th>sales_2020</th>\n",
       "      <th>sales_2021</th>\n",
       "    </tr>\n",
       "  </thead>\n",
       "  <tbody>\n",
       "    <tr>\n",
       "      <th>0</th>\n",
       "      <td>21-12-01</td>\n",
       "      <td>United States</td>\n",
       "      <td>Aammar</td>\n",
       "      <td>100.0</td>\n",
       "      <td>NaN</td>\n",
       "    </tr>\n",
       "    <tr>\n",
       "      <th>1</th>\n",
       "      <td>22-12-01</td>\n",
       "      <td>United States</td>\n",
       "      <td>Aammar</td>\n",
       "      <td>200.0</td>\n",
       "      <td>150.0</td>\n",
       "    </tr>\n",
       "    <tr>\n",
       "      <th>2</th>\n",
       "      <td>22-12-01</td>\n",
       "      <td>United States</td>\n",
       "      <td>Hamza</td>\n",
       "      <td>NaN</td>\n",
       "      <td>300.0</td>\n",
       "    </tr>\n",
       "    <tr>\n",
       "      <th>3</th>\n",
       "      <td>21-01-12</td>\n",
       "      <td>United States</td>\n",
       "      <td>Hamza</td>\n",
       "      <td>200.0</td>\n",
       "      <td>150.0</td>\n",
       "    </tr>\n",
       "  </tbody>\n",
       "</table>\n",
       "</div>"
      ],
      "text/plain": [
       "       date        country    name  sales_2020  sales_2021\n",
       "0  21-12-01  United States  Aammar       100.0         NaN\n",
       "1  22-12-01  United States  Aammar       200.0       150.0\n",
       "2  22-12-01  United States   Hamza         NaN       300.0\n",
       "3  21-01-12  United States   Hamza       200.0       150.0"
      ]
     },
     "execution_count": 80,
     "metadata": {},
     "output_type": "execute_result"
    }
   ],
   "source": [
    "# Correct the typographical mistakes in name\n",
    "df['name'] = df['name'].replace({'Amaar' : 'Aammar', 'Hazma': 'Hamza'})\n",
    "df.head()"
   ]
  },
  {
   "cell_type": "code",
   "execution_count": 81,
   "id": "686cd09c",
   "metadata": {},
   "outputs": [
    {
     "data": {
      "application/vnd.microsoft.datawrangler.viewer.v0+json": {
       "columns": [
        {
         "name": "index",
         "rawType": "int64",
         "type": "integer"
        },
        {
         "name": "date",
         "rawType": "object",
         "type": "string"
        },
        {
         "name": "country",
         "rawType": "object",
         "type": "string"
        },
        {
         "name": "name",
         "rawType": "object",
         "type": "string"
        },
        {
         "name": "sales_2020",
         "rawType": "float64",
         "type": "float"
        },
        {
         "name": "sales_2021",
         "rawType": "float64",
         "type": "float"
        }
       ],
       "ref": "c5f58006-ddd8-4a6d-b390-1eb86326896b",
       "rows": [
        [
         "0",
         "21-12-01",
         "United States",
         "Aammar",
         "100.0",
         null
        ],
        [
         "2",
         "22-12-01",
         "United States",
         "Hamza",
         null,
         "300.0"
        ]
       ],
       "shape": {
        "columns": 5,
        "rows": 2
       }
      },
      "text/html": [
       "<div>\n",
       "<style scoped>\n",
       "    .dataframe tbody tr th:only-of-type {\n",
       "        vertical-align: middle;\n",
       "    }\n",
       "\n",
       "    .dataframe tbody tr th {\n",
       "        vertical-align: top;\n",
       "    }\n",
       "\n",
       "    .dataframe thead th {\n",
       "        text-align: right;\n",
       "    }\n",
       "</style>\n",
       "<table border=\"1\" class=\"dataframe\">\n",
       "  <thead>\n",
       "    <tr style=\"text-align: right;\">\n",
       "      <th></th>\n",
       "      <th>date</th>\n",
       "      <th>country</th>\n",
       "      <th>name</th>\n",
       "      <th>sales_2020</th>\n",
       "      <th>sales_2021</th>\n",
       "    </tr>\n",
       "  </thead>\n",
       "  <tbody>\n",
       "    <tr>\n",
       "      <th>0</th>\n",
       "      <td>21-12-01</td>\n",
       "      <td>United States</td>\n",
       "      <td>Aammar</td>\n",
       "      <td>100.0</td>\n",
       "      <td>NaN</td>\n",
       "    </tr>\n",
       "    <tr>\n",
       "      <th>2</th>\n",
       "      <td>22-12-01</td>\n",
       "      <td>United States</td>\n",
       "      <td>Hamza</td>\n",
       "      <td>NaN</td>\n",
       "      <td>300.0</td>\n",
       "    </tr>\n",
       "  </tbody>\n",
       "</table>\n",
       "</div>"
      ],
      "text/plain": [
       "       date        country    name  sales_2020  sales_2021\n",
       "0  21-12-01  United States  Aammar       100.0         NaN\n",
       "2  22-12-01  United States   Hamza         NaN       300.0"
      ]
     },
     "execution_count": 81,
     "metadata": {},
     "output_type": "execute_result"
    }
   ],
   "source": [
    "# remove duplicates\n",
    "df = df.drop_duplicates(subset='name')\n",
    "df.head()"
   ]
  },
  {
   "cell_type": "code",
   "execution_count": 82,
   "id": "80e81351",
   "metadata": {},
   "outputs": [
    {
     "data": {
      "application/vnd.microsoft.datawrangler.viewer.v0+json": {
       "columns": [
        {
         "name": "index",
         "rawType": "int64",
         "type": "integer"
        },
        {
         "name": "date",
         "rawType": "object",
         "type": "string"
        },
        {
         "name": "country",
         "rawType": "object",
         "type": "string"
        },
        {
         "name": "name",
         "rawType": "object",
         "type": "string"
        },
        {
         "name": "sales_2020",
         "rawType": "float64",
         "type": "float"
        },
        {
         "name": "sales_2021",
         "rawType": "float64",
         "type": "float"
        }
       ],
       "ref": "7116d5be-fc2c-4203-ae39-18e972a5a0b9",
       "rows": [
        [
         "0",
         "21-12-01",
         "United States",
         "Aammar",
         "100.0",
         null
        ],
        [
         "2",
         "22-12-01",
         "United States",
         "Hamza",
         null,
         "300.0"
        ]
       ],
       "shape": {
        "columns": 5,
        "rows": 2
       }
      },
      "text/html": [
       "<div>\n",
       "<style scoped>\n",
       "    .dataframe tbody tr th:only-of-type {\n",
       "        vertical-align: middle;\n",
       "    }\n",
       "\n",
       "    .dataframe tbody tr th {\n",
       "        vertical-align: top;\n",
       "    }\n",
       "\n",
       "    .dataframe thead th {\n",
       "        text-align: right;\n",
       "    }\n",
       "</style>\n",
       "<table border=\"1\" class=\"dataframe\">\n",
       "  <thead>\n",
       "    <tr style=\"text-align: right;\">\n",
       "      <th></th>\n",
       "      <th>date</th>\n",
       "      <th>country</th>\n",
       "      <th>name</th>\n",
       "      <th>sales_2020</th>\n",
       "      <th>sales_2021</th>\n",
       "    </tr>\n",
       "  </thead>\n",
       "  <tbody>\n",
       "    <tr>\n",
       "      <th>0</th>\n",
       "      <td>21-12-01</td>\n",
       "      <td>United States</td>\n",
       "      <td>Aammar</td>\n",
       "      <td>100.0</td>\n",
       "      <td>NaN</td>\n",
       "    </tr>\n",
       "    <tr>\n",
       "      <th>2</th>\n",
       "      <td>22-12-01</td>\n",
       "      <td>United States</td>\n",
       "      <td>Hamza</td>\n",
       "      <td>NaN</td>\n",
       "      <td>300.0</td>\n",
       "    </tr>\n",
       "  </tbody>\n",
       "</table>\n",
       "</div>"
      ],
      "text/plain": [
       "       date        country    name  sales_2020  sales_2021\n",
       "0  21-12-01  United States  Aammar       100.0         NaN\n",
       "2  22-12-01  United States   Hamza         NaN       300.0"
      ]
     },
     "execution_count": 82,
     "metadata": {},
     "output_type": "execute_result"
    }
   ],
   "source": [
    "df.head()"
   ]
  },
  {
   "cell_type": "code",
   "execution_count": 83,
   "id": "1fc3a9f8",
   "metadata": {},
   "outputs": [
    {
     "data": {
      "application/vnd.microsoft.datawrangler.viewer.v0+json": {
       "columns": [
        {
         "name": "index",
         "rawType": "int64",
         "type": "integer"
        },
        {
         "name": "date",
         "rawType": "object",
         "type": "string"
        },
        {
         "name": "country",
         "rawType": "object",
         "type": "string"
        },
        {
         "name": "name",
         "rawType": "object",
         "type": "string"
        },
        {
         "name": "sales_2020",
         "rawType": "float64",
         "type": "float"
        },
        {
         "name": "sales_2021",
         "rawType": "float64",
         "type": "float"
        }
       ],
       "ref": "ef4f831e-fd59-46bf-ba7e-202a5dfb5a1c",
       "rows": [
        [
         "0",
         "21-12-01",
         "United States",
         "Aammar",
         "100.0",
         null
        ],
        [
         "2",
         "22-12-01",
         "United States",
         "Hamza",
         null,
         "300.0"
        ]
       ],
       "shape": {
        "columns": 5,
        "rows": 2
       }
      },
      "text/html": [
       "<div>\n",
       "<style scoped>\n",
       "    .dataframe tbody tr th:only-of-type {\n",
       "        vertical-align: middle;\n",
       "    }\n",
       "\n",
       "    .dataframe tbody tr th {\n",
       "        vertical-align: top;\n",
       "    }\n",
       "\n",
       "    .dataframe thead th {\n",
       "        text-align: right;\n",
       "    }\n",
       "</style>\n",
       "<table border=\"1\" class=\"dataframe\">\n",
       "  <thead>\n",
       "    <tr style=\"text-align: right;\">\n",
       "      <th></th>\n",
       "      <th>date</th>\n",
       "      <th>country</th>\n",
       "      <th>name</th>\n",
       "      <th>sales_2020</th>\n",
       "      <th>sales_2021</th>\n",
       "    </tr>\n",
       "  </thead>\n",
       "  <tbody>\n",
       "    <tr>\n",
       "      <th>0</th>\n",
       "      <td>21-12-01</td>\n",
       "      <td>United States</td>\n",
       "      <td>Aammar</td>\n",
       "      <td>100.0</td>\n",
       "      <td>NaN</td>\n",
       "    </tr>\n",
       "    <tr>\n",
       "      <th>2</th>\n",
       "      <td>22-12-01</td>\n",
       "      <td>United States</td>\n",
       "      <td>Hamza</td>\n",
       "      <td>NaN</td>\n",
       "      <td>300.0</td>\n",
       "    </tr>\n",
       "  </tbody>\n",
       "</table>\n",
       "</div>"
      ],
      "text/plain": [
       "       date        country    name  sales_2020  sales_2021\n",
       "0  21-12-01  United States  Aammar       100.0         NaN\n",
       "2  22-12-01  United States   Hamza         NaN       300.0"
      ]
     },
     "execution_count": 83,
     "metadata": {},
     "output_type": "execute_result"
    }
   ],
   "source": [
    "# 5. Resolving Contradictory data\n",
    "# For demonstration, let's assume sales_2021 should always higher than sales_2020\n",
    "# We'll remove rows where this condition is not met\n",
    "df = df.drop(df[df['sales_2021'] <= df['sales_2020']].index)\n",
    "df.head()"
   ]
  }
 ],
 "metadata": {
  "kernelspec": {
   "display_name": "python_ml",
   "language": "python",
   "name": "python3"
  },
  "language_info": {
   "codemirror_mode": {
    "name": "ipython",
    "version": 3
   },
   "file_extension": ".py",
   "mimetype": "text/x-python",
   "name": "python",
   "nbconvert_exporter": "python",
   "pygments_lexer": "ipython3",
   "version": "3.11.13"
  }
 },
 "nbformat": 4,
 "nbformat_minor": 5
}
