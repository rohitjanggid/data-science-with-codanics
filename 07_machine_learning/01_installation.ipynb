{
 "cells": [
  {
   "cell_type": "markdown",
   "id": "ce44e947",
   "metadata": {},
   "source": [
    "# Steps:\n",
    "1. Create a new conda environment `python_ml`\n",
    "2. install packages\n",
    "   1. python conda install python\n",
    "      1. pandas\n",
    "      2. numpy\n",
    "      3. seaborn\n",
    "      4. matplotlib\n",
    "      5. scipy\n",
    "      6. scikit-learn\n",
    "      7. jupyter \n",
    "      8. openpyxl\n",
    "      9. plotly\n",
    "\n",
    "# pip install....."
   ]
  },
  {
   "cell_type": "code",
   "execution_count": 2,
   "id": "33a0472c",
   "metadata": {},
   "outputs": [
    {
     "data": {
      "text/plain": [
       "array([0.5, 0.5])"
      ]
     },
     "execution_count": 2,
     "metadata": {},
     "output_type": "execute_result"
    }
   ],
   "source": [
    "import pandas as pd\n",
    "import numpy as np\n",
    "import seaborn as sns\n",
    "import matplotlib.pyplot as plt\n",
    "from sklearn import linear_model\n",
    "reg = linear_model.LinearRegression()\n",
    "reg.fit([[0,0],[1,1],[2,2]], [0,1,2])\n",
    "reg.coef_"
   ]
  }
 ],
 "metadata": {
  "kernelspec": {
   "display_name": "python_ml",
   "language": "python",
   "name": "python3"
  },
  "language_info": {
   "codemirror_mode": {
    "name": "ipython",
    "version": 3
   },
   "file_extension": ".py",
   "mimetype": "text/x-python",
   "name": "python",
   "nbconvert_exporter": "python",
   "pygments_lexer": "ipython3",
   "version": "3.11.13"
  }
 },
 "nbformat": 4,
 "nbformat_minor": 5
}
