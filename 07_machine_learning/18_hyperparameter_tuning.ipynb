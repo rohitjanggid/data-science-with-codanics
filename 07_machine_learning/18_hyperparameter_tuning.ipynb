{
 "cells": [
  {
   "cell_type": "markdown",
   "id": "8e141c87",
   "metadata": {},
   "source": [
    "# Hyperparameter Tuning\n",
    "\n",
    "Hyperparameter tuning is the process of finding best combination of hyperparameters for a given model.\n",
    "\n",
    "**Types:**\n",
    "\n",
    "- Grid search: Exhaustive search over all possible combinations of hyperparameters.\n",
    "- Random search: Randomly sample combinations of hyperparameters from a givet distribution.\n",
    "- Bayesian Optimization: Model the objective function and search for the maximum.\n",
    "- Gradiant-Based Optimization: Use gradient dascent to find the minimum of the objective function."
   ]
  },
  {
   "cell_type": "markdown",
   "id": "bc0041ad",
   "metadata": {},
   "source": [
    "# Cross Validation\n",
    "\n",
    "Cross validation is a technique used to evaluate the parformance of a model on unseen data. It is used to check how wall the data model generalize the new data."
   ]
  },
  {
   "cell_type": "code",
   "execution_count": 2,
   "id": "baf76316",
   "metadata": {},
   "outputs": [],
   "source": [
    "# load dataset\n",
    "from sklearn.datasets import load_iris\n",
    "\n",
    "iris = load_iris()\n",
    "X = iris.data\n",
    "y = iris.target"
   ]
  }
 ],
 "metadata": {
  "kernelspec": {
   "display_name": "python_ml",
   "language": "python",
   "name": "python3"
  },
  "language_info": {
   "codemirror_mode": {
    "name": "ipython",
    "version": 3
   },
   "file_extension": ".py",
   "mimetype": "text/x-python",
   "name": "python",
   "nbconvert_exporter": "python",
   "pygments_lexer": "ipython3",
   "version": "3.11.13"
  }
 },
 "nbformat": 4,
 "nbformat_minor": 5
}
