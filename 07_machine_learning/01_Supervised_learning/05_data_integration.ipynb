{
 "cells": [
  {
   "cell_type": "markdown",
   "id": "0589d33f",
   "metadata": {},
   "source": [
    "# Data Merge"
   ]
  },
  {
   "cell_type": "code",
   "execution_count": 6,
   "id": "10fd3f73",
   "metadata": {},
   "outputs": [
    {
     "data": {
      "application/vnd.microsoft.datawrangler.viewer.v0+json": {
       "columns": [
        {
         "name": "index",
         "rawType": "int64",
         "type": "integer"
        },
        {
         "name": "id",
         "rawType": "int64",
         "type": "integer"
        },
        {
         "name": "name",
         "rawType": "object",
         "type": "string"
        },
        {
         "name": "age",
         "rawType": "int64",
         "type": "integer"
        },
        {
         "name": "city",
         "rawType": "object",
         "type": "string"
        },
        {
         "name": "occupation",
         "rawType": "object",
         "type": "string"
        }
       ],
       "ref": "9e403236-30fe-472d-a71f-c47948721e8f",
       "rows": [
        [
         "0",
         "1",
         "rohit",
         "18",
         "ganganager",
         "MLengineer"
        ],
        [
         "1",
         "2",
         "jatin",
         "19",
         "bikaner",
         "docter"
        ],
        [
         "2",
         "3",
         "rahul",
         "20",
         "ganganger",
         "farmer"
        ]
       ],
       "shape": {
        "columns": 5,
        "rows": 3
       }
      },
      "text/html": [
       "<div>\n",
       "<style scoped>\n",
       "    .dataframe tbody tr th:only-of-type {\n",
       "        vertical-align: middle;\n",
       "    }\n",
       "\n",
       "    .dataframe tbody tr th {\n",
       "        vertical-align: top;\n",
       "    }\n",
       "\n",
       "    .dataframe thead th {\n",
       "        text-align: right;\n",
       "    }\n",
       "</style>\n",
       "<table border=\"1\" class=\"dataframe\">\n",
       "  <thead>\n",
       "    <tr style=\"text-align: right;\">\n",
       "      <th></th>\n",
       "      <th>id</th>\n",
       "      <th>name</th>\n",
       "      <th>age</th>\n",
       "      <th>city</th>\n",
       "      <th>occupation</th>\n",
       "    </tr>\n",
       "  </thead>\n",
       "  <tbody>\n",
       "    <tr>\n",
       "      <th>0</th>\n",
       "      <td>1</td>\n",
       "      <td>rohit</td>\n",
       "      <td>18</td>\n",
       "      <td>ganganager</td>\n",
       "      <td>MLengineer</td>\n",
       "    </tr>\n",
       "    <tr>\n",
       "      <th>1</th>\n",
       "      <td>2</td>\n",
       "      <td>jatin</td>\n",
       "      <td>19</td>\n",
       "      <td>bikaner</td>\n",
       "      <td>docter</td>\n",
       "    </tr>\n",
       "    <tr>\n",
       "      <th>2</th>\n",
       "      <td>3</td>\n",
       "      <td>rahul</td>\n",
       "      <td>20</td>\n",
       "      <td>ganganger</td>\n",
       "      <td>farmer</td>\n",
       "    </tr>\n",
       "  </tbody>\n",
       "</table>\n",
       "</div>"
      ],
      "text/plain": [
       "   id   name  age        city  occupation\n",
       "0   1  rohit   18  ganganager  MLengineer\n",
       "1   2  jatin   19     bikaner      docter\n",
       "2   3  rahul   20   ganganger      farmer"
      ]
     },
     "execution_count": 6,
     "metadata": {},
     "output_type": "execute_result"
    }
   ],
   "source": [
    "import pandas as pd\n",
    "\n",
    "# create dataset\n",
    "data1 = {\n",
    "    \"id\" : [1,2,3],\n",
    "    \"name\" : [\"rohit\", \"jatin\", \"rahul\"],\n",
    "    \"age\" : [18,19,20]\n",
    "}\n",
    "df1 = pd.DataFrame(data1)\n",
    "# Additional data\n",
    "data2 = {\n",
    "    \"id\" : [1,2,3],\n",
    "    \"city\" : [\"ganganager\", \"bikaner\", \"ganganger\"],\n",
    "    \"occupation\" : [\"MLengineer\", \"docter\", \"farmer\"]\n",
    "}\n",
    "df2 = pd.DataFrame(data2)\n",
    "\n",
    "# Merging dataframe on 'id'\n",
    "merge_df = pd.merge(df1, df2, on=\"id\", how=\"inner\")\n",
    "merge_df"
   ]
  },
  {
   "cell_type": "markdown",
   "id": "b5793e33",
   "metadata": {},
   "source": [
    "---\n",
    "# Concatination"
   ]
  },
  {
   "cell_type": "code",
   "execution_count": 1,
   "id": "0686e98a",
   "metadata": {},
   "outputs": [
    {
     "data": {
      "text/plain": [
       "(     Name  age\n",
       " 0   rohit   18\n",
       " 1  kartik   19\n",
       " 2    anuj   20\n",
       " 0   karan   21\n",
       " 1   rahul   22\n",
       " 2   vinod   23,\n",
       "      Name  age   address   province\n",
       " 0   rohit   18  anupgarh  rajasthan\n",
       " 1  kartik   19  gharsana  rajasthan\n",
       " 2    anuj   20       4lm  rajasthan)"
      ]
     },
     "execution_count": 1,
     "metadata": {},
     "output_type": "execute_result"
    }
   ],
   "source": [
    "import pandas as pd\n",
    "\n",
    "# create data1\n",
    "data1 = {'Name' : ['rohit', 'kartik', 'anuj'], 'age' : [18,19,20]}\n",
    "# create data2\n",
    "data2 = {'Name' : ['karan', 'rahul', 'vinod'], 'age' : [21,22,23]}\n",
    "# create data3\n",
    "data3 = {'address': ['anupgarh', 'gharsana', '4lm'], 'province' : ['rajasthan','rajasthan', 'rajasthan']}\n",
    "\n",
    "df1 = pd.DataFrame(data1)\n",
    "df2 = pd.DataFrame(data2)\n",
    "df3 = pd.DataFrame(data3)\n",
    "\n",
    "# concatenating rows\n",
    "concatenated_row = pd.concat([df1, df2])\n",
    "\n",
    "#concatenating columns \n",
    "concatenated_column = pd.concat([df1, df3], axis=1)\n",
    "\n",
    "concatenated_row, concatenated_column\n"
   ]
  }
 ],
 "metadata": {
  "kernelspec": {
   "display_name": "python_ml",
   "language": "python",
   "name": "python3"
  },
  "language_info": {
   "codemirror_mode": {
    "name": "ipython",
    "version": 3
   },
   "file_extension": ".py",
   "mimetype": "text/x-python",
   "name": "python",
   "nbconvert_exporter": "python",
   "pygments_lexer": "ipython3",
   "version": "3.11.13"
  }
 },
 "nbformat": 4,
 "nbformat_minor": 5
}
