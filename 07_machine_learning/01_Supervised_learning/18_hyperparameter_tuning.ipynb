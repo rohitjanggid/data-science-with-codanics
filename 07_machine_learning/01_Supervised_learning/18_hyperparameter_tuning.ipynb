{
 "cells": [
  {
   "cell_type": "markdown",
   "id": "8e141c87",
   "metadata": {},
   "source": [
    "# Hyperparameter Tuning\n",
    "\n",
    "Hyperparameter tuning is the process of finding best combination of hyperparameters for a given model.\n",
    "\n",
    "**Types:**\n",
    "\n",
    "- Grid search: Exhaustive search over all possible combinations of hyperparameters.\n",
    "- Random search: Randomly sample combinations of hyperparameters from a givet distribution.\n",
    "- Bayesian Optimization: Model the objective function and search for the maximum.\n",
    "- Gradiant-Based Optimization: Use gradient dascent to find the minimum of the objective function."
   ]
  },
  {
   "cell_type": "markdown",
   "id": "bc0041ad",
   "metadata": {},
   "source": [
    "# Cross Validation\n",
    "\n",
    "Cross validation is a technique used to evaluate the parformance of a model on unseen data. It is used to check how wall the data model generalize the new data."
   ]
  },
  {
   "cell_type": "code",
   "execution_count": 1,
   "id": "684e6856",
   "metadata": {},
   "outputs": [],
   "source": [
    "# import libraries\n",
    "from sklearn.ensemble import RandomForestClassifier\n",
    "from sklearn.metrics import accuracy_score, confusion_matrix, classification_report\n",
    "from sklearn.model_selection import train_test_split, GridSearchCV"
   ]
  },
  {
   "cell_type": "code",
   "execution_count": 2,
   "id": "baf76316",
   "metadata": {},
   "outputs": [],
   "source": [
    "# load dataset\n",
    "from sklearn.datasets import load_iris\n",
    "\n",
    "iris = load_iris()\n",
    "X = iris.data\n",
    "y = iris.target"
   ]
  },
  {
   "cell_type": "code",
   "execution_count": 4,
   "id": "2ae78bb0",
   "metadata": {},
   "outputs": [
    {
     "name": "stdout",
     "output_type": "stream",
     "text": [
      "Fitting 5 folds for each of 42 candidates, totalling 210 fits\n",
      "Best parameters:{'max_depth': 4, 'n_estimators': 50}\n"
     ]
    }
   ],
   "source": [
    "# define the model\n",
    "model = RandomForestClassifier()\n",
    "\n",
    "# create a parameter grid\n",
    "parm_grid = {\n",
    "    'n_estimators': [50,100,200,300,400,500],\n",
    "    'max_depth': [4,5,6,7,8,9,10]\n",
    "}\n",
    "\n",
    "# set up the grid\n",
    "grid = GridSearchCV(\n",
    "    estimator=model,\n",
    "    param_grid=parm_grid,\n",
    "    cv=5,\n",
    "    scoring='accuracy',\n",
    "    verbose=1,\n",
    "    n_jobs=1\n",
    ")\n",
    "\n",
    "# fit the model\n",
    "grid.fit(X,y)\n",
    "\n",
    "# print the best parameters\n",
    "print(f\"Best parameters:{grid.best_params_}\")"
   ]
  },
  {
   "cell_type": "code",
   "execution_count": 6,
   "id": "7d03866c",
   "metadata": {},
   "outputs": [
    {
     "name": "stdout",
     "output_type": "stream",
     "text": [
      "Fitting 5 folds for each of 20 candidates, totalling 100 fits\n",
      "Best parameters:{'n_estimators': 300, 'max_depth': 9, 'criterion': 'entropy', 'bootstrap': True}\n"
     ]
    }
   ],
   "source": [
    "from sklearn.model_selection import RandomizedSearchCV\n",
    "# define the model\n",
    "model = RandomForestClassifier()\n",
    "\n",
    "# create a parameter grid\n",
    "parm_grid = {\n",
    "    'n_estimators': [50,100,200,300,400,500],\n",
    "    'max_depth': [4,5,6,7,8,9,10],\n",
    "    'criterion': ['gini', 'entropy'],\n",
    "    'bootstrap': [True, False]\n",
    "}\n",
    "\n",
    "# set up the grid\n",
    "grid = RandomizedSearchCV(\n",
    "    estimator=model,\n",
    "    param_distributions=parm_grid,\n",
    "    cv=5,\n",
    "    scoring='accuracy',\n",
    "    verbose=1,\n",
    "    n_jobs=1,\n",
    "    n_iter=20\n",
    ")\n",
    "\n",
    "# fit the model\n",
    "grid.fit(X,y)\n",
    "\n",
    "# print the best parameters\n",
    "print(f\"Best parameters:{grid.best_params_}\")"
   ]
  }
 ],
 "metadata": {
  "kernelspec": {
   "display_name": "python_ml",
   "language": "python",
   "name": "python3"
  },
  "language_info": {
   "codemirror_mode": {
    "name": "ipython",
    "version": 3
   },
   "file_extension": ".py",
   "mimetype": "text/x-python",
   "name": "python",
   "nbconvert_exporter": "python",
   "pygments_lexer": "ipython3",
   "version": "3.11.13"
  }
 },
 "nbformat": 4,
 "nbformat_minor": 5
}
