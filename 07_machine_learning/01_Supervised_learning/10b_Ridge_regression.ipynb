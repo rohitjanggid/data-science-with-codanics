{
 "cells": [
  {
   "cell_type": "markdown",
   "id": "d707d532",
   "metadata": {},
   "source": [
    "# Ridge Regression"
   ]
  },
  {
   "cell_type": "code",
   "execution_count": 15,
   "id": "b77c59c8",
   "metadata": {},
   "outputs": [
    {
     "name": "stdout",
     "output_type": "stream",
     "text": [
      "Coefficients: [0.8 1.4]\n",
      "Intercept: 4.5\n"
     ]
    }
   ],
   "source": [
    "from sklearn.linear_model import Ridge\n",
    "import numpy as np\n",
    "\n",
    "# Example data\n",
    "X = np.array([[1,1], [1,2], [2,2], [2,3]])\n",
    "# Target value\n",
    "y = np.dot(X, np.array([1,2])) + 3\n",
    "\n",
    "#Ridge regression model\n",
    "ridge_reg = Ridge(alpha=1.0) # alpha is the equivalent of lambda in the formula\n",
    "ridge_reg.fit(X, y)\n",
    "\n",
    "# Coefficients\n",
    "print('Coefficients:', ridge_reg.coef_)\n",
    "# Intercept\n",
    "print('Intercept:', ridge_reg.intercept_)"
   ]
  },
  {
   "cell_type": "markdown",
   "id": "89a6e88a",
   "metadata": {},
   "source": [
    "# Comparing Simple linear regression vs. Ridge regression"
   ]
  },
  {
   "cell_type": "markdown",
   "id": "56c9364c",
   "metadata": {},
   "source": [
    "## 1. import libraries and load the data"
   ]
  },
  {
   "cell_type": "code",
   "execution_count": 16,
   "id": "9f83cfc6",
   "metadata": {},
   "outputs": [],
   "source": [
    "# import libraries\n",
    "import pandas as pd\n",
    "import numpy as np\n",
    "import seaborn as sns\n",
    "from sklearn.model_selection import train_test_split\n",
    "from sklearn.linear_model import LinearRegression, Ridge\n",
    "from sklearn.metrics import mean_squared_error, root_mean_squared_error, r2_score, mean_absolute_error, mean_absolute_percentage_error\n",
    "from sklearn.preprocessing import OneHotEncoder\n",
    "from sklearn.compose import ColumnTransformer\n",
    "from sklearn.pipeline import Pipeline\n",
    "\n",
    "# load the dataset\n",
    "df = sns.load_dataset('titanic')"
   ]
  },
  {
   "cell_type": "markdown",
   "id": "89640c8c",
   "metadata": {},
   "source": [
    "## 2. Preprocess the data"
   ]
  },
  {
   "cell_type": "code",
   "execution_count": 17,
   "id": "23fac44c",
   "metadata": {},
   "outputs": [
    {
     "name": "stderr",
     "output_type": "stream",
     "text": [
      "C:\\Users\\Dell\\AppData\\Local\\Temp\\ipykernel_20220\\4138239085.py:6: FutureWarning: A value is trying to be set on a copy of a DataFrame or Series through chained assignment using an inplace method.\n",
      "The behavior will change in pandas 3.0. This inplace method will never work because the intermediate object on which we are setting values always behaves as a copy.\n",
      "\n",
      "For example, when doing 'df[col].method(value, inplace=True)', try using 'df.method({col: value}, inplace=True)' or df[col] = df[col].method(value) instead, to perform the operation inplace on the original object.\n",
      "\n",
      "\n",
      "  df['age'].fillna(df['age'].median(), inplace=True)\n"
     ]
    }
   ],
   "source": [
    "# selecting the subset of columns for simplicity\n",
    "columns_to_use = ['survived', 'pclass', 'sex', 'age', 'fare']\n",
    "df = df[columns_to_use]\n",
    "\n",
    "# handling missing values\n",
    "df['age'].fillna(df['age'].median(), inplace=True)\n",
    "\n",
    "# define feature and target variables\n",
    "X = df.drop('survived', axis=1)\n",
    "y = df['survived']\n",
    "\n",
    "# train test split the dataset\n",
    "X_train, X_test, y_train, y_test = train_test_split(X, y, test_size=0.2,  random_state=0)"
   ]
  },
  {
   "cell_type": "markdown",
   "id": "e52f6dd8",
   "metadata": {},
   "source": [
    "## 3. Creating a Pipline"
   ]
  },
  {
   "cell_type": "code",
   "execution_count": 18,
   "id": "72973530",
   "metadata": {},
   "outputs": [],
   "source": [
    "# Define a pipline for OneHotEncoding and model\n",
    "categorical_features = ['sex']\n",
    "numarical_features = ['pclass', 'age', 'fare']\n",
    "\n",
    "# preprocessor\n",
    "preprocessor = ColumnTransformer(\n",
    "    transformers=[\n",
    "        ('num', 'passthrough', numarical_features),\n",
    "        ('cat', OneHotEncoder(), categorical_features)])\n",
    "\n",
    "# linear regression pipline\n",
    "lr_pipline = Pipeline(steps=[('preprocessor', preprocessor),\n",
    "                             ('regressor', LinearRegression())])\n",
    "\n",
    "# Ridge regression pipline\n",
    "ridge_pipline = Pipeline(steps=[('preprocessor', preprocessor),\n",
    "                                ('regressor', Ridge(alpha=1.0))])"
   ]
  },
  {
   "cell_type": "markdown",
   "id": "f14f7b50",
   "metadata": {},
   "source": [
    "## 4. Train and Evaluate the model"
   ]
  },
  {
   "cell_type": "code",
   "execution_count": 19,
   "id": "bfe010c7",
   "metadata": {},
   "outputs": [
    {
     "name": "stdout",
     "output_type": "stream",
     "text": [
      "Linear Regression MSE: 0.13684268526287452\n",
      "Rdige Regression MSE: 0.1368602274478447\n",
      "Linear Regression RMSE: 0.3699225395442599\n",
      "Rdige Regression RMSE: 0.3699462494036731\n",
      "Linear Regression MAE: 0.28882295584163387\n",
      "Rdige Regression MAE: 0.28923126730713655\n",
      "Linear Regression MAPE: 697272156502681.8\n",
      "Rdige Regression MAPE: 698032476179649.4\n",
      "Linear Regression R2: 0.4223219395905452\n",
      "Rdige Regression R2: 0.42224788568426985\n"
     ]
    }
   ],
   "source": [
    "# train and evaluate linear regression\n",
    "lr_pipline.fit(X_train, y_train)\n",
    "lr_pred = lr_pipline.predict(X_test)\n",
    "lr_mse = mean_squared_error(y_test, lr_pred)\n",
    "lr_rmse = np.sqrt(lr_mse)\n",
    "lr_mae = mean_absolute_error(y_test, lr_pred)\n",
    "lr_mape = mean_absolute_percentage_error(y_test, lr_pred)\n",
    "lr_r2 = r2_score(y_test, lr_pred)\n",
    "\n",
    "\n",
    "# train and evaluate Ridge regression\n",
    "ridge_pipline.fit(X_train, y_train)\n",
    "ridge_pred = ridge_pipline.predict(X_test)\n",
    "ridge_mse = mean_squared_error(y_test, ridge_pred)\n",
    "ridge_rmse = np.sqrt(ridge_mse)\n",
    "ridge_mae = mean_absolute_error(y_test, ridge_pred)\n",
    "ridge_mape = mean_absolute_percentage_error(y_test, ridge_pred)\n",
    "ridge_r2 = r2_score(y_test, ridge_pred)\n",
    "\n",
    "print('Linear Regression MSE:', lr_mse)\n",
    "print('Rdige Regression MSE:', ridge_mse)\n",
    "print('Linear Regression RMSE:', lr_rmse)\n",
    "print('Rdige Regression RMSE:', ridge_rmse)\n",
    "print('Linear Regression MAE:', lr_mae)\n",
    "print('Rdige Regression MAE:', ridge_mae)\n",
    "print('Linear Regression MAPE:', lr_mape)\n",
    "print('Rdige Regression MAPE:', ridge_mape)\n",
    "print('Linear Regression R2:', lr_r2)\n",
    "print('Rdige Regression R2:', ridge_r2)"
   ]
  }
 ],
 "metadata": {
  "kernelspec": {
   "display_name": "python_ml",
   "language": "python",
   "name": "python3"
  },
  "language_info": {
   "codemirror_mode": {
    "name": "ipython",
    "version": 3
   },
   "file_extension": ".py",
   "mimetype": "text/x-python",
   "name": "python",
   "nbconvert_exporter": "python",
   "pygments_lexer": "ipython3",
   "version": "3.11.13"
  }
 },
 "nbformat": 4,
 "nbformat_minor": 5
}
