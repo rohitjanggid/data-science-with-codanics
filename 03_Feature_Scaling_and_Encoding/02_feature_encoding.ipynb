{
 "cells": [
  {
   "cell_type": "markdown",
   "id": "6fa63a84",
   "metadata": {},
   "source": [
    "# Feature Encoding"
   ]
  },
  {
   "cell_type": "markdown",
   "id": "f2fa5268",
   "metadata": {},
   "source": [
    "## 1. One hot encoding"
   ]
  },
  {
   "cell_type": "code",
   "execution_count": 2,
   "id": "e7427a6e",
   "metadata": {},
   "outputs": [
    {
     "name": "stdout",
     "output_type": "stream",
     "text": [
      "   color\n",
      "0    red\n",
      "1  green\n",
      "2   blue\n",
      "3    red\n",
      "   color_blue  color_green  color_red\n",
      "0       False        False       True\n",
      "1       False         True      False\n",
      "2        True        False      False\n",
      "3       False        False       True\n"
     ]
    }
   ],
   "source": [
    "import pandas as pd\n",
    "#sample data\n",
    "data = {'color': ['red', 'green', 'blue', 'red']}\n",
    "df = pd.DataFrame(data)\n",
    "print(df)\n",
    "# one-hot enconding\n",
    "encoded_data = pd.get_dummies(df, columns=['color'])\n",
    "print(encoded_data)"
   ]
  },
  {
   "cell_type": "markdown",
   "id": "02b285e8",
   "metadata": {},
   "source": [
    "## 2. Label Encoding"
   ]
  },
  {
   "cell_type": "code",
   "execution_count": 4,
   "id": "6b2ad5a2",
   "metadata": {},
   "outputs": [
    {
     "name": "stdout",
     "output_type": "stream",
     "text": [
      "  animal\n",
      "0    dog\n",
      "1    cat\n",
      "2   bird\n",
      "3    dog\n",
      "  animal  animal_encoder\n",
      "0    dog               2\n",
      "1    cat               1\n",
      "2   bird               0\n",
      "3    dog               2\n"
     ]
    }
   ],
   "source": [
    "from sklearn.preprocessing import LabelEncoder\n",
    "# sample data\n",
    "data = {'animal':['dog', 'cat', 'bird', 'dog']}\n",
    "df = pd.DataFrame(data)\n",
    "print(df)\n",
    "\n",
    "# Label encoding\n",
    "label_encoder = LabelEncoder()\n",
    "df['animal_encoder'] = label_encoder.fit_transform(df['animal'])\n",
    "print(df)"
   ]
  },
  {
   "cell_type": "markdown",
   "id": "52a6917e",
   "metadata": {},
   "source": [
    "## 3. Ordianl encoding"
   ]
  },
  {
   "cell_type": "code",
   "execution_count": 5,
   "id": "8164066e",
   "metadata": {},
   "outputs": [
    {
     "name": "stdout",
     "output_type": "stream",
     "text": [
      "     size\n",
      "0   small\n",
      "1  medium\n",
      "2   large\n",
      "3  medium\n",
      "     size  animal_encoder\n",
      "0   small             0.0\n",
      "1  medium             1.0\n",
      "2   large             2.0\n",
      "3  medium             1.0\n"
     ]
    }
   ],
   "source": [
    "from sklearn.preprocessing import OrdinalEncoder\n",
    "# sample data\n",
    "data = {'size':['small', 'medium', 'large', 'medium']}\n",
    "df = pd.DataFrame(data)\n",
    "print(df)\n",
    "\n",
    "# ordinal encoding\n",
    "ordinal_encoder = OrdinalEncoder(categories=[['small','medium', 'large']])\n",
    "df['animal_encoder'] = ordinal_encoder.fit_transform(df[['size']])\n",
    "print(df)"
   ]
  }
 ],
 "metadata": {
  "kernelspec": {
   "display_name": "Python 3",
   "language": "python",
   "name": "python3"
  },
  "language_info": {
   "codemirror_mode": {
    "name": "ipython",
    "version": 3
   },
   "file_extension": ".py",
   "mimetype": "text/x-python",
   "name": "python",
   "nbconvert_exporter": "python",
   "pygments_lexer": "ipython3",
   "version": "3.10.18"
  }
 },
 "nbformat": 4,
 "nbformat_minor": 5
}
