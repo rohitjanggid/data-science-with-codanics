{
 "cells": [
  {
   "cell_type": "markdown",
   "id": "f50b11ce",
   "metadata": {},
   "source": [
    "# Google App Store EDA"
   ]
  },
  {
   "cell_type": "code",
   "execution_count": 1,
   "id": "766e45f7",
   "metadata": {},
   "outputs": [
    {
     "name": "stderr",
     "output_type": "stream",
     "text": [
      "c:\\Users\\Dell\\.conda\\envs\\python_eda\\lib\\site-packages\\tqdm\\auto.py:21: TqdmWarning: IProgress not found. Please update jupyter and ipywidgets. See https://ipywidgets.readthedocs.io/en/stable/user_install.html\n",
      "  from .autonotebook import tqdm as notebook_tqdm\n"
     ]
    },
    {
     "data": {
      "text/html": [
       "\n",
       "            <div>\n",
       "                <ins><a href=\"https://ydata.ai/register\">Upgrade to ydata-sdk</a></ins>\n",
       "                <p>\n",
       "                    Improve your data and profiling with ydata-sdk, featuring data quality scoring, redundancy detection, outlier identification, text validation, and synthetic data generation.\n",
       "                </p>\n",
       "            </div>\n",
       "            "
      ],
      "text/plain": [
       "<IPython.core.display.HTML object>"
      ]
     },
     "metadata": {},
     "output_type": "display_data"
    }
   ],
   "source": [
    "# Import libraries\n",
    "import pandas as pd\n",
    "import numpy as np\n",
    "import matplotlib.pyplot as plt\n",
    "import seaborn as sns\n",
    "import ydata_profiling as yd"
   ]
  },
  {
   "cell_type": "code",
   "execution_count": 2,
   "id": "cc0a3f38",
   "metadata": {},
   "outputs": [],
   "source": [
    "# import file\n",
    "df = pd.read_csv(\"./data/04_googleplaystore.csv\")"
   ]
  },
  {
   "cell_type": "code",
   "execution_count": 3,
   "id": "e75930e7",
   "metadata": {},
   "outputs": [
    {
     "name": "stdout",
     "output_type": "stream",
     "text": [
      "<class 'pandas.core.frame.DataFrame'>\n",
      "RangeIndex: 10841 entries, 0 to 10840\n",
      "Data columns (total 13 columns):\n",
      " #   Column          Non-Null Count  Dtype  \n",
      "---  ------          --------------  -----  \n",
      " 0   App             10841 non-null  object \n",
      " 1   Category        10840 non-null  object \n",
      " 2   Rating          9367 non-null   float64\n",
      " 3   Reviews         10841 non-null  int64  \n",
      " 4   Size            10841 non-null  object \n",
      " 5   Installs        10841 non-null  object \n",
      " 6   Type            10840 non-null  object \n",
      " 7   Price           10841 non-null  object \n",
      " 8   Content Rating  10841 non-null  object \n",
      " 9   Genres          10840 non-null  object \n",
      " 10  Last Updated    10841 non-null  object \n",
      " 11  Current Ver     10833 non-null  object \n",
      " 12  Android Ver     10839 non-null  object \n",
      "dtypes: float64(1), int64(1), object(11)\n",
      "memory usage: 1.1+ MB\n"
     ]
    }
   ],
   "source": [
    "# Chek the data\n",
    "df.info()"
   ]
  },
  {
   "cell_type": "code",
   "execution_count": 4,
   "id": "fed2d8ba",
   "metadata": {},
   "outputs": [
    {
     "data": {
      "application/vnd.microsoft.datawrangler.viewer.v0+json": {
       "columns": [
        {
         "name": "index",
         "rawType": "int64",
         "type": "integer"
        },
        {
         "name": "App",
         "rawType": "object",
         "type": "string"
        },
        {
         "name": "Category",
         "rawType": "object",
         "type": "string"
        },
        {
         "name": "Rating",
         "rawType": "float64",
         "type": "float"
        },
        {
         "name": "Reviews",
         "rawType": "int64",
         "type": "integer"
        },
        {
         "name": "Size",
         "rawType": "object",
         "type": "string"
        },
        {
         "name": "Installs",
         "rawType": "object",
         "type": "string"
        },
        {
         "name": "Type",
         "rawType": "object",
         "type": "string"
        },
        {
         "name": "Price",
         "rawType": "object",
         "type": "string"
        },
        {
         "name": "Content Rating",
         "rawType": "object",
         "type": "string"
        },
        {
         "name": "Genres",
         "rawType": "object",
         "type": "string"
        },
        {
         "name": "Last Updated",
         "rawType": "object",
         "type": "string"
        },
        {
         "name": "Current Ver",
         "rawType": "object",
         "type": "string"
        },
        {
         "name": "Android Ver",
         "rawType": "object",
         "type": "string"
        }
       ],
       "ref": "c2e12ae1-ff36-4662-8e88-6a48997173ee",
       "rows": [
        [
         "0",
         "Photo Editor & Candy Camera & Grid & ScrapBook",
         "ART_AND_DESIGN",
         "4.1",
         "159",
         "19M",
         "10,000+",
         "Free",
         "0",
         "Everyone",
         "Art & Design",
         "January 7, 2018",
         "1.0.0",
         "4.0.3 and up"
        ],
        [
         "1",
         "Coloring book moana",
         "ART_AND_DESIGN",
         "3.9",
         "967",
         "14M",
         "500,000+",
         "Free",
         "0",
         "Everyone",
         "Art & Design;Pretend Play",
         "January 15, 2018",
         "2.0.0",
         "4.0.3 and up"
        ],
        [
         "2",
         "U Launcher Lite – FREE Live Cool Themes, Hide Apps",
         "ART_AND_DESIGN",
         "4.7",
         "87510",
         "8.7M",
         "5,000,000+",
         "Free",
         "0",
         "Everyone",
         "Art & Design",
         "August 1, 2018",
         "1.2.4",
         "4.0.3 and up"
        ],
        [
         "3",
         "Sketch - Draw & Paint",
         "ART_AND_DESIGN",
         "4.5",
         "215644",
         "25M",
         "50,000,000+",
         "Free",
         "0",
         "Teen",
         "Art & Design",
         "June 8, 2018",
         "Varies with device",
         "4.2 and up"
        ],
        [
         "4",
         "Pixel Draw - Number Art Coloring Book",
         "ART_AND_DESIGN",
         "4.3",
         "967",
         "2.8M",
         "100,000+",
         "Free",
         "0",
         "Everyone",
         "Art & Design;Creativity",
         "June 20, 2018",
         "1.1",
         "4.4 and up"
        ]
       ],
       "shape": {
        "columns": 13,
        "rows": 5
       }
      },
      "text/html": [
       "<div>\n",
       "<style scoped>\n",
       "    .dataframe tbody tr th:only-of-type {\n",
       "        vertical-align: middle;\n",
       "    }\n",
       "\n",
       "    .dataframe tbody tr th {\n",
       "        vertical-align: top;\n",
       "    }\n",
       "\n",
       "    .dataframe thead th {\n",
       "        text-align: right;\n",
       "    }\n",
       "</style>\n",
       "<table border=\"1\" class=\"dataframe\">\n",
       "  <thead>\n",
       "    <tr style=\"text-align: right;\">\n",
       "      <th></th>\n",
       "      <th>App</th>\n",
       "      <th>Category</th>\n",
       "      <th>Rating</th>\n",
       "      <th>Reviews</th>\n",
       "      <th>Size</th>\n",
       "      <th>Installs</th>\n",
       "      <th>Type</th>\n",
       "      <th>Price</th>\n",
       "      <th>Content Rating</th>\n",
       "      <th>Genres</th>\n",
       "      <th>Last Updated</th>\n",
       "      <th>Current Ver</th>\n",
       "      <th>Android Ver</th>\n",
       "    </tr>\n",
       "  </thead>\n",
       "  <tbody>\n",
       "    <tr>\n",
       "      <th>0</th>\n",
       "      <td>Photo Editor &amp; Candy Camera &amp; Grid &amp; ScrapBook</td>\n",
       "      <td>ART_AND_DESIGN</td>\n",
       "      <td>4.1</td>\n",
       "      <td>159</td>\n",
       "      <td>19M</td>\n",
       "      <td>10,000+</td>\n",
       "      <td>Free</td>\n",
       "      <td>0</td>\n",
       "      <td>Everyone</td>\n",
       "      <td>Art &amp; Design</td>\n",
       "      <td>January 7, 2018</td>\n",
       "      <td>1.0.0</td>\n",
       "      <td>4.0.3 and up</td>\n",
       "    </tr>\n",
       "    <tr>\n",
       "      <th>1</th>\n",
       "      <td>Coloring book moana</td>\n",
       "      <td>ART_AND_DESIGN</td>\n",
       "      <td>3.9</td>\n",
       "      <td>967</td>\n",
       "      <td>14M</td>\n",
       "      <td>500,000+</td>\n",
       "      <td>Free</td>\n",
       "      <td>0</td>\n",
       "      <td>Everyone</td>\n",
       "      <td>Art &amp; Design;Pretend Play</td>\n",
       "      <td>January 15, 2018</td>\n",
       "      <td>2.0.0</td>\n",
       "      <td>4.0.3 and up</td>\n",
       "    </tr>\n",
       "    <tr>\n",
       "      <th>2</th>\n",
       "      <td>U Launcher Lite – FREE Live Cool Themes, Hide ...</td>\n",
       "      <td>ART_AND_DESIGN</td>\n",
       "      <td>4.7</td>\n",
       "      <td>87510</td>\n",
       "      <td>8.7M</td>\n",
       "      <td>5,000,000+</td>\n",
       "      <td>Free</td>\n",
       "      <td>0</td>\n",
       "      <td>Everyone</td>\n",
       "      <td>Art &amp; Design</td>\n",
       "      <td>August 1, 2018</td>\n",
       "      <td>1.2.4</td>\n",
       "      <td>4.0.3 and up</td>\n",
       "    </tr>\n",
       "    <tr>\n",
       "      <th>3</th>\n",
       "      <td>Sketch - Draw &amp; Paint</td>\n",
       "      <td>ART_AND_DESIGN</td>\n",
       "      <td>4.5</td>\n",
       "      <td>215644</td>\n",
       "      <td>25M</td>\n",
       "      <td>50,000,000+</td>\n",
       "      <td>Free</td>\n",
       "      <td>0</td>\n",
       "      <td>Teen</td>\n",
       "      <td>Art &amp; Design</td>\n",
       "      <td>June 8, 2018</td>\n",
       "      <td>Varies with device</td>\n",
       "      <td>4.2 and up</td>\n",
       "    </tr>\n",
       "    <tr>\n",
       "      <th>4</th>\n",
       "      <td>Pixel Draw - Number Art Coloring Book</td>\n",
       "      <td>ART_AND_DESIGN</td>\n",
       "      <td>4.3</td>\n",
       "      <td>967</td>\n",
       "      <td>2.8M</td>\n",
       "      <td>100,000+</td>\n",
       "      <td>Free</td>\n",
       "      <td>0</td>\n",
       "      <td>Everyone</td>\n",
       "      <td>Art &amp; Design;Creativity</td>\n",
       "      <td>June 20, 2018</td>\n",
       "      <td>1.1</td>\n",
       "      <td>4.4 and up</td>\n",
       "    </tr>\n",
       "  </tbody>\n",
       "</table>\n",
       "</div>"
      ],
      "text/plain": [
       "                                                 App        Category  Rating  \\\n",
       "0     Photo Editor & Candy Camera & Grid & ScrapBook  ART_AND_DESIGN     4.1   \n",
       "1                                Coloring book moana  ART_AND_DESIGN     3.9   \n",
       "2  U Launcher Lite – FREE Live Cool Themes, Hide ...  ART_AND_DESIGN     4.7   \n",
       "3                              Sketch - Draw & Paint  ART_AND_DESIGN     4.5   \n",
       "4              Pixel Draw - Number Art Coloring Book  ART_AND_DESIGN     4.3   \n",
       "\n",
       "   Reviews  Size     Installs  Type Price Content Rating  \\\n",
       "0      159   19M      10,000+  Free     0       Everyone   \n",
       "1      967   14M     500,000+  Free     0       Everyone   \n",
       "2    87510  8.7M   5,000,000+  Free     0       Everyone   \n",
       "3   215644   25M  50,000,000+  Free     0           Teen   \n",
       "4      967  2.8M     100,000+  Free     0       Everyone   \n",
       "\n",
       "                      Genres      Last Updated         Current Ver  \\\n",
       "0               Art & Design   January 7, 2018               1.0.0   \n",
       "1  Art & Design;Pretend Play  January 15, 2018               2.0.0   \n",
       "2               Art & Design    August 1, 2018               1.2.4   \n",
       "3               Art & Design      June 8, 2018  Varies with device   \n",
       "4    Art & Design;Creativity     June 20, 2018                 1.1   \n",
       "\n",
       "    Android Ver  \n",
       "0  4.0.3 and up  \n",
       "1  4.0.3 and up  \n",
       "2  4.0.3 and up  \n",
       "3    4.2 and up  \n",
       "4    4.4 and up  "
      ]
     },
     "execution_count": 4,
     "metadata": {},
     "output_type": "execute_result"
    }
   ],
   "source": [
    "# Lets have a look on data\n",
    "df.head()"
   ]
  },
  {
   "cell_type": "code",
   "execution_count": 5,
   "id": "db094968",
   "metadata": {},
   "outputs": [
    {
     "data": {
      "application/vnd.microsoft.datawrangler.viewer.v0+json": {
       "columns": [
        {
         "name": "index",
         "rawType": "int64",
         "type": "integer"
        },
        {
         "name": "App",
         "rawType": "object",
         "type": "string"
        },
        {
         "name": "Category",
         "rawType": "object",
         "type": "string"
        },
        {
         "name": "Rating",
         "rawType": "float64",
         "type": "float"
        },
        {
         "name": "Reviews",
         "rawType": "int64",
         "type": "integer"
        },
        {
         "name": "Size",
         "rawType": "object",
         "type": "string"
        },
        {
         "name": "Installs",
         "rawType": "object",
         "type": "string"
        },
        {
         "name": "Type",
         "rawType": "object",
         "type": "string"
        },
        {
         "name": "Price",
         "rawType": "object",
         "type": "string"
        },
        {
         "name": "Content Rating",
         "rawType": "object",
         "type": "string"
        },
        {
         "name": "Genres",
         "rawType": "object",
         "type": "string"
        },
        {
         "name": "Last Updated",
         "rawType": "object",
         "type": "string"
        },
        {
         "name": "Current Ver",
         "rawType": "object",
         "type": "string"
        },
        {
         "name": "Android Ver",
         "rawType": "object",
         "type": "string"
        }
       ],
       "ref": "b4ab61a3-318a-4977-b04e-d0e10c94e197",
       "rows": [
        [
         "982",
         "Comedy Central",
         "ENTERTAINMENT",
         "3.9",
         "22378",
         "19M",
         "1,000,000+",
         "Free",
         "0",
         "Teen",
         "Entertainment",
         "July 8, 2018",
         "11.45.0",
         "4.4 and up"
        ],
        [
         "7823",
         "CS Interview Questions (TechQ)",
         "FAMILY",
         "4.8",
         "33",
         "6.7M",
         "5,000+",
         "Free",
         "0",
         "Everyone",
         "Education",
         "January 27, 2017",
         "1.5",
         "4.1 and up"
        ]
       ],
       "shape": {
        "columns": 13,
        "rows": 2
       }
      },
      "text/html": [
       "<div>\n",
       "<style scoped>\n",
       "    .dataframe tbody tr th:only-of-type {\n",
       "        vertical-align: middle;\n",
       "    }\n",
       "\n",
       "    .dataframe tbody tr th {\n",
       "        vertical-align: top;\n",
       "    }\n",
       "\n",
       "    .dataframe thead th {\n",
       "        text-align: right;\n",
       "    }\n",
       "</style>\n",
       "<table border=\"1\" class=\"dataframe\">\n",
       "  <thead>\n",
       "    <tr style=\"text-align: right;\">\n",
       "      <th></th>\n",
       "      <th>App</th>\n",
       "      <th>Category</th>\n",
       "      <th>Rating</th>\n",
       "      <th>Reviews</th>\n",
       "      <th>Size</th>\n",
       "      <th>Installs</th>\n",
       "      <th>Type</th>\n",
       "      <th>Price</th>\n",
       "      <th>Content Rating</th>\n",
       "      <th>Genres</th>\n",
       "      <th>Last Updated</th>\n",
       "      <th>Current Ver</th>\n",
       "      <th>Android Ver</th>\n",
       "    </tr>\n",
       "  </thead>\n",
       "  <tbody>\n",
       "    <tr>\n",
       "      <th>982</th>\n",
       "      <td>Comedy Central</td>\n",
       "      <td>ENTERTAINMENT</td>\n",
       "      <td>3.9</td>\n",
       "      <td>22378</td>\n",
       "      <td>19M</td>\n",
       "      <td>1,000,000+</td>\n",
       "      <td>Free</td>\n",
       "      <td>0</td>\n",
       "      <td>Teen</td>\n",
       "      <td>Entertainment</td>\n",
       "      <td>July 8, 2018</td>\n",
       "      <td>11.45.0</td>\n",
       "      <td>4.4 and up</td>\n",
       "    </tr>\n",
       "    <tr>\n",
       "      <th>7823</th>\n",
       "      <td>CS Interview Questions (TechQ)</td>\n",
       "      <td>FAMILY</td>\n",
       "      <td>4.8</td>\n",
       "      <td>33</td>\n",
       "      <td>6.7M</td>\n",
       "      <td>5,000+</td>\n",
       "      <td>Free</td>\n",
       "      <td>0</td>\n",
       "      <td>Everyone</td>\n",
       "      <td>Education</td>\n",
       "      <td>January 27, 2017</td>\n",
       "      <td>1.5</td>\n",
       "      <td>4.1 and up</td>\n",
       "    </tr>\n",
       "  </tbody>\n",
       "</table>\n",
       "</div>"
      ],
      "text/plain": [
       "                                 App       Category  Rating  Reviews  Size  \\\n",
       "982                   Comedy Central  ENTERTAINMENT     3.9    22378   19M   \n",
       "7823  CS Interview Questions (TechQ)         FAMILY     4.8       33  6.7M   \n",
       "\n",
       "        Installs  Type Price Content Rating         Genres      Last Updated  \\\n",
       "982   1,000,000+  Free     0           Teen  Entertainment      July 8, 2018   \n",
       "7823      5,000+  Free     0       Everyone      Education  January 27, 2017   \n",
       "\n",
       "     Current Ver Android Ver  \n",
       "982      11.45.0  4.4 and up  \n",
       "7823         1.5  4.1 and up  "
      ]
     },
     "execution_count": 5,
     "metadata": {},
     "output_type": "execute_result"
    }
   ],
   "source": [
    "# Take samples from big dataset\n",
    "df.sample(2)"
   ]
  },
  {
   "cell_type": "code",
   "execution_count": 6,
   "id": "2b583cb4",
   "metadata": {},
   "outputs": [
    {
     "data": {
      "application/vnd.microsoft.datawrangler.viewer.v0+json": {
       "columns": [
        {
         "name": "index",
         "rawType": "object",
         "type": "string"
        },
        {
         "name": "Rating",
         "rawType": "float64",
         "type": "float"
        },
        {
         "name": "Reviews",
         "rawType": "float64",
         "type": "float"
        }
       ],
       "ref": "67309b9b-12f3-4482-ad3f-90703434a0ce",
       "rows": [
        [
         "count",
         "9367.0",
         "10841.0"
        ],
        [
         "mean",
         "4.191512757553112",
         "444111.9280509178"
        ],
        [
         "std",
         "0.5157352405794569",
         "2927628.6639741813"
        ],
        [
         "min",
         "1.0",
         "0.0"
        ],
        [
         "25%",
         "4.0",
         "38.0"
        ],
        [
         "50%",
         "4.3",
         "2094.0"
        ],
        [
         "75%",
         "4.5",
         "54768.0"
        ],
        [
         "max",
         "5.0",
         "78158306.0"
        ]
       ],
       "shape": {
        "columns": 2,
        "rows": 8
       }
      },
      "text/html": [
       "<div>\n",
       "<style scoped>\n",
       "    .dataframe tbody tr th:only-of-type {\n",
       "        vertical-align: middle;\n",
       "    }\n",
       "\n",
       "    .dataframe tbody tr th {\n",
       "        vertical-align: top;\n",
       "    }\n",
       "\n",
       "    .dataframe thead th {\n",
       "        text-align: right;\n",
       "    }\n",
       "</style>\n",
       "<table border=\"1\" class=\"dataframe\">\n",
       "  <thead>\n",
       "    <tr style=\"text-align: right;\">\n",
       "      <th></th>\n",
       "      <th>Rating</th>\n",
       "      <th>Reviews</th>\n",
       "    </tr>\n",
       "  </thead>\n",
       "  <tbody>\n",
       "    <tr>\n",
       "      <th>count</th>\n",
       "      <td>9367.000000</td>\n",
       "      <td>1.084100e+04</td>\n",
       "    </tr>\n",
       "    <tr>\n",
       "      <th>mean</th>\n",
       "      <td>4.191513</td>\n",
       "      <td>4.441119e+05</td>\n",
       "    </tr>\n",
       "    <tr>\n",
       "      <th>std</th>\n",
       "      <td>0.515735</td>\n",
       "      <td>2.927629e+06</td>\n",
       "    </tr>\n",
       "    <tr>\n",
       "      <th>min</th>\n",
       "      <td>1.000000</td>\n",
       "      <td>0.000000e+00</td>\n",
       "    </tr>\n",
       "    <tr>\n",
       "      <th>25%</th>\n",
       "      <td>4.000000</td>\n",
       "      <td>3.800000e+01</td>\n",
       "    </tr>\n",
       "    <tr>\n",
       "      <th>50%</th>\n",
       "      <td>4.300000</td>\n",
       "      <td>2.094000e+03</td>\n",
       "    </tr>\n",
       "    <tr>\n",
       "      <th>75%</th>\n",
       "      <td>4.500000</td>\n",
       "      <td>5.476800e+04</td>\n",
       "    </tr>\n",
       "    <tr>\n",
       "      <th>max</th>\n",
       "      <td>5.000000</td>\n",
       "      <td>7.815831e+07</td>\n",
       "    </tr>\n",
       "  </tbody>\n",
       "</table>\n",
       "</div>"
      ],
      "text/plain": [
       "            Rating       Reviews\n",
       "count  9367.000000  1.084100e+04\n",
       "mean      4.191513  4.441119e+05\n",
       "std       0.515735  2.927629e+06\n",
       "min       1.000000  0.000000e+00\n",
       "25%       4.000000  3.800000e+01\n",
       "50%       4.300000  2.094000e+03\n",
       "75%       4.500000  5.476800e+04\n",
       "max       5.000000  7.815831e+07"
      ]
     },
     "execution_count": 6,
     "metadata": {},
     "output_type": "execute_result"
    }
   ],
   "source": [
    "df.describe()"
   ]
  },
  {
   "cell_type": "markdown",
   "id": "b3e8441a",
   "metadata": {},
   "source": [
    "#  write down all the numeric variables ans make them numeric?\n",
    "1. size\n",
    "2. install\n",
    "3. price"
   ]
  },
  {
   "cell_type": "code",
   "execution_count": 7,
   "id": "a896a681",
   "metadata": {},
   "outputs": [
    {
     "data": {
      "application/vnd.microsoft.datawrangler.viewer.v0+json": {
       "columns": [
        {
         "name": "Size",
         "rawType": "object",
         "type": "string"
        },
        {
         "name": "count",
         "rawType": "int64",
         "type": "integer"
        }
       ],
       "ref": "ec223473-3598-49c9-a87a-6353d8a19f20",
       "rows": [
        [
         "Varies with device",
         "1695"
        ],
        [
         "11M",
         "198"
        ],
        [
         "12M",
         "196"
        ],
        [
         "14M",
         "194"
        ],
        [
         "13M",
         "191"
        ],
        [
         "15M",
         "184"
        ],
        [
         "17M",
         "160"
        ],
        [
         "19M",
         "154"
        ],
        [
         "26M",
         "149"
        ],
        [
         "16M",
         "149"
        ],
        [
         "25M",
         "143"
        ],
        [
         "20M",
         "139"
        ],
        [
         "21M",
         "138"
        ],
        [
         "10M",
         "136"
        ],
        [
         "24M",
         "136"
        ],
        [
         "18M",
         "133"
        ],
        [
         "23M",
         "117"
        ],
        [
         "22M",
         "114"
        ],
        [
         "29M",
         "103"
        ],
        [
         "27M",
         "97"
        ],
        [
         "28M",
         "95"
        ],
        [
         "30M",
         "84"
        ],
        [
         "33M",
         "79"
        ],
        [
         "3.3M",
         "77"
        ],
        [
         "37M",
         "76"
        ],
        [
         "35M",
         "72"
        ],
        [
         "31M",
         "70"
        ],
        [
         "2.9M",
         "69"
        ],
        [
         "2.3M",
         "68"
        ],
        [
         "2.5M",
         "68"
        ],
        [
         "3.4M",
         "65"
        ],
        [
         "2.8M",
         "65"
        ],
        [
         "32M",
         "63"
        ],
        [
         "3.7M",
         "63"
        ],
        [
         "34M",
         "63"
        ],
        [
         "3.9M",
         "62"
        ],
        [
         "3.0M",
         "62"
        ],
        [
         "3.8M",
         "62"
        ],
        [
         "40M",
         "62"
        ],
        [
         "44M",
         "61"
        ],
        [
         "4.0M",
         "61"
        ],
        [
         "36M",
         "60"
        ],
        [
         "48M",
         "59"
        ],
        [
         "46M",
         "59"
        ],
        [
         "4.2M",
         "59"
        ],
        [
         "5.0M",
         "58"
        ],
        [
         "3.6M",
         "57"
        ],
        [
         "3.1M",
         "56"
        ],
        [
         "39M",
         "56"
        ],
        [
         "3.2M",
         "55"
        ]
       ],
       "shape": {
        "columns": 1,
        "rows": 461
       }
      },
      "text/plain": [
       "Size\n",
       "Varies with device    1695\n",
       "11M                    198\n",
       "12M                    196\n",
       "14M                    194\n",
       "13M                    191\n",
       "                      ... \n",
       "253k                     1\n",
       "992k                     1\n",
       "658k                     1\n",
       "73k                      1\n",
       "246k                     1\n",
       "Name: count, Length: 461, dtype: int64"
      ]
     },
     "execution_count": 7,
     "metadata": {},
     "output_type": "execute_result"
    }
   ],
   "source": [
    "# To do that let's have look a unique values\n",
    "df['Size'].value_counts()"
   ]
  },
  {
   "cell_type": "markdown",
   "id": "10ab7dcc",
   "metadata": {},
   "source": [
    "1. convert KBs into M\n",
    "2. then remove M from all numbers\n",
    "3. Handle `varies with device`"
   ]
  },
  {
   "cell_type": "code",
   "execution_count": 8,
   "id": "2857f104",
   "metadata": {},
   "outputs": [
    {
     "data": {
      "text/plain": [
       "np.int64(0)"
      ]
     },
     "execution_count": 8,
     "metadata": {},
     "output_type": "execute_result"
    }
   ],
   "source": [
    "df['Size'].isnull().sum()"
   ]
  },
  {
   "cell_type": "code",
   "execution_count": 9,
   "id": "591bec6c",
   "metadata": {},
   "outputs": [],
   "source": [
    "def convert_size(size):\n",
    "    if size == 'varies with device' or pd.isnull(size):\n",
    "        return np.nan\n",
    "    size = size.strip().upper()\n",
    "    if size.endswith('M'):\n",
    "        return float(size[:-1])\n",
    "    elif size.endswith('K'):\n",
    "        return float(size[:-1]) / 1024\n",
    "    else:\n",
    "        return np.nan\n",
    "    \n",
    "df['Size_MB'] = df['Size'].apply(convert_size)"
   ]
  },
  {
   "cell_type": "code",
   "execution_count": 10,
   "id": "a5512b80",
   "metadata": {},
   "outputs": [],
   "source": [
    "df.drop('Size', axis=1, inplace=True)"
   ]
  },
  {
   "cell_type": "code",
   "execution_count": 11,
   "id": "c93a7ea6",
   "metadata": {},
   "outputs": [
    {
     "data": {
      "application/vnd.microsoft.datawrangler.viewer.v0+json": {
       "columns": [
        {
         "name": "index",
         "rawType": "int64",
         "type": "integer"
        },
        {
         "name": "App",
         "rawType": "object",
         "type": "string"
        },
        {
         "name": "Category",
         "rawType": "object",
         "type": "string"
        },
        {
         "name": "Rating",
         "rawType": "float64",
         "type": "float"
        },
        {
         "name": "Reviews",
         "rawType": "int64",
         "type": "integer"
        },
        {
         "name": "Installs",
         "rawType": "object",
         "type": "string"
        },
        {
         "name": "Type",
         "rawType": "object",
         "type": "string"
        },
        {
         "name": "Price",
         "rawType": "object",
         "type": "string"
        },
        {
         "name": "Content Rating",
         "rawType": "object",
         "type": "string"
        },
        {
         "name": "Genres",
         "rawType": "object",
         "type": "string"
        },
        {
         "name": "Last Updated",
         "rawType": "object",
         "type": "string"
        },
        {
         "name": "Current Ver",
         "rawType": "object",
         "type": "string"
        },
        {
         "name": "Android Ver",
         "rawType": "object",
         "type": "string"
        },
        {
         "name": "Size_MB",
         "rawType": "float64",
         "type": "float"
        }
       ],
       "ref": "9fe66237-f952-4713-a856-f50f76ad23b5",
       "rows": [
        [
         "0",
         "Photo Editor & Candy Camera & Grid & ScrapBook",
         "ART_AND_DESIGN",
         "4.1",
         "159",
         "10,000+",
         "Free",
         "0",
         "Everyone",
         "Art & Design",
         "January 7, 2018",
         "1.0.0",
         "4.0.3 and up",
         "19.0"
        ],
        [
         "1",
         "Coloring book moana",
         "ART_AND_DESIGN",
         "3.9",
         "967",
         "500,000+",
         "Free",
         "0",
         "Everyone",
         "Art & Design;Pretend Play",
         "January 15, 2018",
         "2.0.0",
         "4.0.3 and up",
         "14.0"
        ],
        [
         "2",
         "U Launcher Lite – FREE Live Cool Themes, Hide Apps",
         "ART_AND_DESIGN",
         "4.7",
         "87510",
         "5,000,000+",
         "Free",
         "0",
         "Everyone",
         "Art & Design",
         "August 1, 2018",
         "1.2.4",
         "4.0.3 and up",
         "8.7"
        ],
        [
         "3",
         "Sketch - Draw & Paint",
         "ART_AND_DESIGN",
         "4.5",
         "215644",
         "50,000,000+",
         "Free",
         "0",
         "Teen",
         "Art & Design",
         "June 8, 2018",
         "Varies with device",
         "4.2 and up",
         "25.0"
        ],
        [
         "4",
         "Pixel Draw - Number Art Coloring Book",
         "ART_AND_DESIGN",
         "4.3",
         "967",
         "100,000+",
         "Free",
         "0",
         "Everyone",
         "Art & Design;Creativity",
         "June 20, 2018",
         "1.1",
         "4.4 and up",
         "2.8"
        ]
       ],
       "shape": {
        "columns": 13,
        "rows": 5
       }
      },
      "text/html": [
       "<div>\n",
       "<style scoped>\n",
       "    .dataframe tbody tr th:only-of-type {\n",
       "        vertical-align: middle;\n",
       "    }\n",
       "\n",
       "    .dataframe tbody tr th {\n",
       "        vertical-align: top;\n",
       "    }\n",
       "\n",
       "    .dataframe thead th {\n",
       "        text-align: right;\n",
       "    }\n",
       "</style>\n",
       "<table border=\"1\" class=\"dataframe\">\n",
       "  <thead>\n",
       "    <tr style=\"text-align: right;\">\n",
       "      <th></th>\n",
       "      <th>App</th>\n",
       "      <th>Category</th>\n",
       "      <th>Rating</th>\n",
       "      <th>Reviews</th>\n",
       "      <th>Installs</th>\n",
       "      <th>Type</th>\n",
       "      <th>Price</th>\n",
       "      <th>Content Rating</th>\n",
       "      <th>Genres</th>\n",
       "      <th>Last Updated</th>\n",
       "      <th>Current Ver</th>\n",
       "      <th>Android Ver</th>\n",
       "      <th>Size_MB</th>\n",
       "    </tr>\n",
       "  </thead>\n",
       "  <tbody>\n",
       "    <tr>\n",
       "      <th>0</th>\n",
       "      <td>Photo Editor &amp; Candy Camera &amp; Grid &amp; ScrapBook</td>\n",
       "      <td>ART_AND_DESIGN</td>\n",
       "      <td>4.1</td>\n",
       "      <td>159</td>\n",
       "      <td>10,000+</td>\n",
       "      <td>Free</td>\n",
       "      <td>0</td>\n",
       "      <td>Everyone</td>\n",
       "      <td>Art &amp; Design</td>\n",
       "      <td>January 7, 2018</td>\n",
       "      <td>1.0.0</td>\n",
       "      <td>4.0.3 and up</td>\n",
       "      <td>19.0</td>\n",
       "    </tr>\n",
       "    <tr>\n",
       "      <th>1</th>\n",
       "      <td>Coloring book moana</td>\n",
       "      <td>ART_AND_DESIGN</td>\n",
       "      <td>3.9</td>\n",
       "      <td>967</td>\n",
       "      <td>500,000+</td>\n",
       "      <td>Free</td>\n",
       "      <td>0</td>\n",
       "      <td>Everyone</td>\n",
       "      <td>Art &amp; Design;Pretend Play</td>\n",
       "      <td>January 15, 2018</td>\n",
       "      <td>2.0.0</td>\n",
       "      <td>4.0.3 and up</td>\n",
       "      <td>14.0</td>\n",
       "    </tr>\n",
       "    <tr>\n",
       "      <th>2</th>\n",
       "      <td>U Launcher Lite – FREE Live Cool Themes, Hide ...</td>\n",
       "      <td>ART_AND_DESIGN</td>\n",
       "      <td>4.7</td>\n",
       "      <td>87510</td>\n",
       "      <td>5,000,000+</td>\n",
       "      <td>Free</td>\n",
       "      <td>0</td>\n",
       "      <td>Everyone</td>\n",
       "      <td>Art &amp; Design</td>\n",
       "      <td>August 1, 2018</td>\n",
       "      <td>1.2.4</td>\n",
       "      <td>4.0.3 and up</td>\n",
       "      <td>8.7</td>\n",
       "    </tr>\n",
       "    <tr>\n",
       "      <th>3</th>\n",
       "      <td>Sketch - Draw &amp; Paint</td>\n",
       "      <td>ART_AND_DESIGN</td>\n",
       "      <td>4.5</td>\n",
       "      <td>215644</td>\n",
       "      <td>50,000,000+</td>\n",
       "      <td>Free</td>\n",
       "      <td>0</td>\n",
       "      <td>Teen</td>\n",
       "      <td>Art &amp; Design</td>\n",
       "      <td>June 8, 2018</td>\n",
       "      <td>Varies with device</td>\n",
       "      <td>4.2 and up</td>\n",
       "      <td>25.0</td>\n",
       "    </tr>\n",
       "    <tr>\n",
       "      <th>4</th>\n",
       "      <td>Pixel Draw - Number Art Coloring Book</td>\n",
       "      <td>ART_AND_DESIGN</td>\n",
       "      <td>4.3</td>\n",
       "      <td>967</td>\n",
       "      <td>100,000+</td>\n",
       "      <td>Free</td>\n",
       "      <td>0</td>\n",
       "      <td>Everyone</td>\n",
       "      <td>Art &amp; Design;Creativity</td>\n",
       "      <td>June 20, 2018</td>\n",
       "      <td>1.1</td>\n",
       "      <td>4.4 and up</td>\n",
       "      <td>2.8</td>\n",
       "    </tr>\n",
       "  </tbody>\n",
       "</table>\n",
       "</div>"
      ],
      "text/plain": [
       "                                                 App        Category  Rating  \\\n",
       "0     Photo Editor & Candy Camera & Grid & ScrapBook  ART_AND_DESIGN     4.1   \n",
       "1                                Coloring book moana  ART_AND_DESIGN     3.9   \n",
       "2  U Launcher Lite – FREE Live Cool Themes, Hide ...  ART_AND_DESIGN     4.7   \n",
       "3                              Sketch - Draw & Paint  ART_AND_DESIGN     4.5   \n",
       "4              Pixel Draw - Number Art Coloring Book  ART_AND_DESIGN     4.3   \n",
       "\n",
       "   Reviews     Installs  Type Price Content Rating                     Genres  \\\n",
       "0      159      10,000+  Free     0       Everyone               Art & Design   \n",
       "1      967     500,000+  Free     0       Everyone  Art & Design;Pretend Play   \n",
       "2    87510   5,000,000+  Free     0       Everyone               Art & Design   \n",
       "3   215644  50,000,000+  Free     0           Teen               Art & Design   \n",
       "4      967     100,000+  Free     0       Everyone    Art & Design;Creativity   \n",
       "\n",
       "       Last Updated         Current Ver   Android Ver  Size_MB  \n",
       "0   January 7, 2018               1.0.0  4.0.3 and up     19.0  \n",
       "1  January 15, 2018               2.0.0  4.0.3 and up     14.0  \n",
       "2    August 1, 2018               1.2.4  4.0.3 and up      8.7  \n",
       "3      June 8, 2018  Varies with device    4.2 and up     25.0  \n",
       "4     June 20, 2018                 1.1    4.4 and up      2.8  "
      ]
     },
     "execution_count": 11,
     "metadata": {},
     "output_type": "execute_result"
    }
   ],
   "source": [
    "df.head()"
   ]
  },
  {
   "cell_type": "code",
   "execution_count": 12,
   "id": "5ce3e58c",
   "metadata": {},
   "outputs": [
    {
     "name": "stderr",
     "output_type": "stream",
     "text": [
      "C:\\Users\\Dell\\AppData\\Local\\Temp\\ipykernel_3480\\2027170918.py:1: FutureWarning: A value is trying to be set on a copy of a DataFrame or Series through chained assignment using an inplace method.\n",
      "The behavior will change in pandas 3.0. This inplace method will never work because the intermediate object on which we are setting values always behaves as a copy.\n",
      "\n",
      "For example, when doing 'df[col].method(value, inplace=True)', try using 'df.method({col: value}, inplace=True)' or df[col] = df[col].method(value) instead, to perform the operation inplace on the original object.\n",
      "\n",
      "\n",
      "  df['Size_MB'].fillna(0, inplace=True)\n"
     ]
    }
   ],
   "source": [
    "df['Size_MB'].fillna(0, inplace=True)"
   ]
  },
  {
   "cell_type": "code",
   "execution_count": null,
   "id": "cbafe228",
   "metadata": {},
   "outputs": [],
   "source": []
  },
  {
   "cell_type": "markdown",
   "id": "061c1485",
   "metadata": {},
   "source": [
    "# install"
   ]
  },
  {
   "cell_type": "code",
   "execution_count": 13,
   "id": "1df49669",
   "metadata": {},
   "outputs": [
    {
     "data": {
      "application/vnd.microsoft.datawrangler.viewer.v0+json": {
       "columns": [
        {
         "name": "Installs",
         "rawType": "object",
         "type": "string"
        },
        {
         "name": "count",
         "rawType": "int64",
         "type": "integer"
        }
       ],
       "ref": "1e11447e-6cf3-40e9-b42f-eb88e4e93265",
       "rows": [
        [
         "1,000,000+",
         "1579"
        ],
        [
         "10,000,000+",
         "1252"
        ],
        [
         "100,000+",
         "1169"
        ],
        [
         "10,000+",
         "1054"
        ],
        [
         "1,000+",
         "908"
        ],
        [
         "5,000,000+",
         "752"
        ],
        [
         "100+",
         "719"
        ],
        [
         "500,000+",
         "539"
        ],
        [
         "50,000+",
         "479"
        ],
        [
         "5,000+",
         "477"
        ],
        [
         "100,000,000+",
         "409"
        ],
        [
         "10+",
         "386"
        ],
        [
         "500+",
         "330"
        ],
        [
         "50,000,000+",
         "289"
        ],
        [
         "50+",
         "205"
        ],
        [
         "5+",
         "82"
        ],
        [
         "500,000,000+",
         "72"
        ],
        [
         "1+",
         "67"
        ],
        [
         "1,000,000,000+",
         "58"
        ],
        [
         "0+",
         "14"
        ],
        [
         "0",
         "1"
        ]
       ],
       "shape": {
        "columns": 1,
        "rows": 21
       }
      },
      "text/plain": [
       "Installs\n",
       "1,000,000+        1579\n",
       "10,000,000+       1252\n",
       "100,000+          1169\n",
       "10,000+           1054\n",
       "1,000+             908\n",
       "5,000,000+         752\n",
       "100+               719\n",
       "500,000+           539\n",
       "50,000+            479\n",
       "5,000+             477\n",
       "100,000,000+       409\n",
       "10+                386\n",
       "500+               330\n",
       "50,000,000+        289\n",
       "50+                205\n",
       "5+                  82\n",
       "500,000,000+        72\n",
       "1+                  67\n",
       "1,000,000,000+      58\n",
       "0+                  14\n",
       "0                    1\n",
       "Name: count, dtype: int64"
      ]
     },
     "execution_count": 13,
     "metadata": {},
     "output_type": "execute_result"
    }
   ],
   "source": [
    "df['Installs'].value_counts()"
   ]
  },
  {
   "cell_type": "code",
   "execution_count": 14,
   "id": "9daac1f3",
   "metadata": {},
   "outputs": [],
   "source": [
    "# unwanted characters remove kiye: ',' and '+'\n",
    "df['Installs'] = df['Installs'].str.replace('[+,]', '', regex=True)\n",
    "\n",
    "# ab string ko integer me convert kiya\n",
    "df['Installs'] = pd.to_numeric(df['Installs'], errors='coerce')"
   ]
  },
  {
   "cell_type": "markdown",
   "id": "f09f7a77",
   "metadata": {},
   "source": [
    "# Following binnig method"
   ]
  },
  {
   "cell_type": "markdown",
   "id": "211fb1e0",
   "metadata": {},
   "source": [
    "# How to handle Price?"
   ]
  },
  {
   "cell_type": "code",
   "execution_count": 15,
   "id": "906e4748",
   "metadata": {},
   "outputs": [
    {
     "data": {
      "application/vnd.microsoft.datawrangler.viewer.v0+json": {
       "columns": [
        {
         "name": "Price",
         "rawType": "object",
         "type": "string"
        },
        {
         "name": "count",
         "rawType": "int64",
         "type": "integer"
        }
       ],
       "ref": "57d69bef-44d9-4381-a873-241a90731e1e",
       "rows": [
        [
         "0",
         "10041"
        ],
        [
         "$0.99",
         "148"
        ],
        [
         "$2.99",
         "129"
        ],
        [
         "$1.99",
         "73"
        ],
        [
         "$4.99",
         "72"
        ],
        [
         "$3.99",
         "63"
        ],
        [
         "$1.49",
         "46"
        ],
        [
         "$5.99",
         "30"
        ],
        [
         "$2.49",
         "26"
        ],
        [
         "$9.99",
         "21"
        ],
        [
         "$6.99",
         "13"
        ],
        [
         "$399.99",
         "12"
        ],
        [
         "$14.99",
         "11"
        ],
        [
         "$4.49",
         "9"
        ],
        [
         "$29.99",
         "7"
        ],
        [
         "$3.49",
         "7"
        ],
        [
         "$7.99",
         "7"
        ],
        [
         "$24.99",
         "7"
        ],
        [
         "$5.49",
         "6"
        ],
        [
         "$19.99",
         "6"
        ],
        [
         "$6.49",
         "5"
        ],
        [
         "$8.99",
         "5"
        ],
        [
         "$12.99",
         "5"
        ],
        [
         "$11.99",
         "5"
        ],
        [
         "$10.00",
         "3"
        ],
        [
         "$1.00",
         "3"
        ],
        [
         "$16.99",
         "3"
        ],
        [
         "$2.00",
         "3"
        ],
        [
         "$17.99",
         "2"
        ],
        [
         "$10.99",
         "2"
        ],
        [
         "$9.00",
         "2"
        ],
        [
         "$79.99",
         "2"
        ],
        [
         "$7.49",
         "2"
        ],
        [
         "$3.95",
         "2"
        ],
        [
         "$33.99",
         "2"
        ],
        [
         "$1.70",
         "2"
        ],
        [
         "$13.99",
         "2"
        ],
        [
         "$8.49",
         "2"
        ],
        [
         "$39.99",
         "2"
        ],
        [
         "$1.50",
         "1"
        ],
        [
         "$25.99",
         "1"
        ],
        [
         "$74.99",
         "1"
        ],
        [
         "$15.99",
         "1"
        ],
        [
         "$3.88",
         "1"
        ],
        [
         "$1.76",
         "1"
        ],
        [
         "$3.02",
         "1"
        ],
        [
         "$400.00",
         "1"
        ],
        [
         "$4.84",
         "1"
        ],
        [
         "$2.50",
         "1"
        ],
        [
         "$1.59",
         "1"
        ]
       ],
       "shape": {
        "columns": 1,
        "rows": 92
       }
      },
      "text/plain": [
       "Price\n",
       "0          10041\n",
       "$0.99        148\n",
       "$2.99        129\n",
       "$1.99         73\n",
       "$4.99         72\n",
       "           ...  \n",
       "$3.61          1\n",
       "$394.99        1\n",
       "$1.26          1\n",
       "$1.20          1\n",
       "$1.04          1\n",
       "Name: count, Length: 92, dtype: int64"
      ]
     },
     "execution_count": 15,
     "metadata": {},
     "output_type": "execute_result"
    }
   ],
   "source": [
    "df['Price'].value_counts()"
   ]
  },
  {
   "cell_type": "code",
   "execution_count": 16,
   "id": "1285ecab",
   "metadata": {},
   "outputs": [
    {
     "data": {
      "text/plain": [
       "np.int64(0)"
      ]
     },
     "execution_count": 16,
     "metadata": {},
     "output_type": "execute_result"
    }
   ],
   "source": [
    "# Find missing value\n",
    "df['Price'].isnull().sum()"
   ]
  },
  {
   "cell_type": "markdown",
   "id": "48d01804",
   "metadata": {},
   "source": [
    "## Remove $ sign from all columns using pandas"
   ]
  },
  {
   "cell_type": "code",
   "execution_count": 17,
   "id": "1e950ce4",
   "metadata": {},
   "outputs": [
    {
     "data": {
      "application/vnd.microsoft.datawrangler.viewer.v0+json": {
       "columns": [
        {
         "name": "Type",
         "rawType": "object",
         "type": "string"
        },
        {
         "name": "count",
         "rawType": "int64",
         "type": "integer"
        }
       ],
       "ref": "bdb49731-905d-445d-867f-7a905c24654c",
       "rows": [
        [
         "Free",
         "10040"
        ],
        [
         "Paid",
         "800"
        ]
       ],
       "shape": {
        "columns": 1,
        "rows": 2
       }
      },
      "text/plain": [
       "Type\n",
       "Free    10040\n",
       "Paid      800\n",
       "Name: count, dtype: int64"
      ]
     },
     "execution_count": 17,
     "metadata": {},
     "output_type": "execute_result"
    }
   ],
   "source": [
    "df['Type'].value_counts()"
   ]
  },
  {
   "cell_type": "code",
   "execution_count": 18,
   "id": "1bdc0fcb",
   "metadata": {},
   "outputs": [],
   "source": [
    "# 'Free' ko '0' main replace krna hai\n",
    "df['Price'] = df['Price'].replace('Free', '0')\n",
    "\n",
    "# '$' symbol hatana hai\n",
    "df['Price'] = df['Price'].str.replace('$', '', regex = False)\n",
    "\n",
    "# String ko float main convert kiya\n",
    "df['Price'] = pd.to_numeric(df['Price'], errors='coerce')"
   ]
  },
  {
   "cell_type": "code",
   "execution_count": 19,
   "id": "24ee56b5",
   "metadata": {},
   "outputs": [
    {
     "name": "stderr",
     "output_type": "stream",
     "text": [
      "100%|██████████| 13/13 [00:01<00:00,  9.42it/s]1<00:00,  7.32it/s, Describe variable: Size_MB]      \n",
      "Summarize dataset: 100%|██████████| 48/48 [00:06<00:00,  7.23it/s, Completed]                 \n",
      "Generate report structure: 100%|██████████| 1/1 [00:05<00:00,  5.10s/it]\n",
      "Render HTML: 100%|██████████| 1/1 [00:02<00:00,  2.00s/it]\n",
      "Export report to file: 100%|██████████| 1/1 [00:00<00:00, 75.51it/s]\n"
     ]
    }
   ],
   "source": [
    "# run automatic eda using ydata_profiling \n",
    "profile = yd.ProfileReport(df)\n",
    "profile.to_file(output_file='./outputs/04_ydata_googleplaystore_kaggle.html')"
   ]
  },
  {
   "cell_type": "code",
   "execution_count": 20,
   "id": "c021b8d3",
   "metadata": {},
   "outputs": [
    {
     "data": {
      "application/vnd.microsoft.datawrangler.viewer.v0+json": {
       "columns": [
        {
         "name": "index",
         "rawType": "int64",
         "type": "integer"
        },
        {
         "name": "App",
         "rawType": "object",
         "type": "string"
        },
        {
         "name": "Category",
         "rawType": "object",
         "type": "string"
        },
        {
         "name": "Rating",
         "rawType": "float64",
         "type": "float"
        },
        {
         "name": "Reviews",
         "rawType": "int64",
         "type": "integer"
        },
        {
         "name": "Installs",
         "rawType": "int64",
         "type": "integer"
        },
        {
         "name": "Type",
         "rawType": "object",
         "type": "string"
        },
        {
         "name": "Price",
         "rawType": "float64",
         "type": "float"
        },
        {
         "name": "Content Rating",
         "rawType": "object",
         "type": "string"
        },
        {
         "name": "Genres",
         "rawType": "object",
         "type": "string"
        },
        {
         "name": "Last Updated",
         "rawType": "object",
         "type": "string"
        },
        {
         "name": "Current Ver",
         "rawType": "object",
         "type": "string"
        },
        {
         "name": "Android Ver",
         "rawType": "object",
         "type": "string"
        },
        {
         "name": "Size_MB",
         "rawType": "float64",
         "type": "float"
        }
       ],
       "ref": "9c72a9e0-084c-4994-931f-99bf29ac7662",
       "rows": [
        [
         "0",
         "Photo Editor & Candy Camera & Grid & ScrapBook",
         "ART_AND_DESIGN",
         "4.1",
         "159",
         "10000",
         "Free",
         "0.0",
         "Everyone",
         "Art & Design",
         "January 7, 2018",
         "1.0.0",
         "4.0.3 and up",
         "19.0"
        ],
        [
         "1",
         "Coloring book moana",
         "ART_AND_DESIGN",
         "3.9",
         "967",
         "500000",
         "Free",
         "0.0",
         "Everyone",
         "Art & Design;Pretend Play",
         "January 15, 2018",
         "2.0.0",
         "4.0.3 and up",
         "14.0"
        ],
        [
         "2",
         "U Launcher Lite – FREE Live Cool Themes, Hide Apps",
         "ART_AND_DESIGN",
         "4.7",
         "87510",
         "5000000",
         "Free",
         "0.0",
         "Everyone",
         "Art & Design",
         "August 1, 2018",
         "1.2.4",
         "4.0.3 and up",
         "8.7"
        ],
        [
         "3",
         "Sketch - Draw & Paint",
         "ART_AND_DESIGN",
         "4.5",
         "215644",
         "50000000",
         "Free",
         "0.0",
         "Teen",
         "Art & Design",
         "June 8, 2018",
         "Varies with device",
         "4.2 and up",
         "25.0"
        ],
        [
         "4",
         "Pixel Draw - Number Art Coloring Book",
         "ART_AND_DESIGN",
         "4.3",
         "967",
         "100000",
         "Free",
         "0.0",
         "Everyone",
         "Art & Design;Creativity",
         "June 20, 2018",
         "1.1",
         "4.4 and up",
         "2.8"
        ]
       ],
       "shape": {
        "columns": 13,
        "rows": 5
       }
      },
      "text/html": [
       "<div>\n",
       "<style scoped>\n",
       "    .dataframe tbody tr th:only-of-type {\n",
       "        vertical-align: middle;\n",
       "    }\n",
       "\n",
       "    .dataframe tbody tr th {\n",
       "        vertical-align: top;\n",
       "    }\n",
       "\n",
       "    .dataframe thead th {\n",
       "        text-align: right;\n",
       "    }\n",
       "</style>\n",
       "<table border=\"1\" class=\"dataframe\">\n",
       "  <thead>\n",
       "    <tr style=\"text-align: right;\">\n",
       "      <th></th>\n",
       "      <th>App</th>\n",
       "      <th>Category</th>\n",
       "      <th>Rating</th>\n",
       "      <th>Reviews</th>\n",
       "      <th>Installs</th>\n",
       "      <th>Type</th>\n",
       "      <th>Price</th>\n",
       "      <th>Content Rating</th>\n",
       "      <th>Genres</th>\n",
       "      <th>Last Updated</th>\n",
       "      <th>Current Ver</th>\n",
       "      <th>Android Ver</th>\n",
       "      <th>Size_MB</th>\n",
       "    </tr>\n",
       "  </thead>\n",
       "  <tbody>\n",
       "    <tr>\n",
       "      <th>0</th>\n",
       "      <td>Photo Editor &amp; Candy Camera &amp; Grid &amp; ScrapBook</td>\n",
       "      <td>ART_AND_DESIGN</td>\n",
       "      <td>4.1</td>\n",
       "      <td>159</td>\n",
       "      <td>10000</td>\n",
       "      <td>Free</td>\n",
       "      <td>0.0</td>\n",
       "      <td>Everyone</td>\n",
       "      <td>Art &amp; Design</td>\n",
       "      <td>January 7, 2018</td>\n",
       "      <td>1.0.0</td>\n",
       "      <td>4.0.3 and up</td>\n",
       "      <td>19.0</td>\n",
       "    </tr>\n",
       "    <tr>\n",
       "      <th>1</th>\n",
       "      <td>Coloring book moana</td>\n",
       "      <td>ART_AND_DESIGN</td>\n",
       "      <td>3.9</td>\n",
       "      <td>967</td>\n",
       "      <td>500000</td>\n",
       "      <td>Free</td>\n",
       "      <td>0.0</td>\n",
       "      <td>Everyone</td>\n",
       "      <td>Art &amp; Design;Pretend Play</td>\n",
       "      <td>January 15, 2018</td>\n",
       "      <td>2.0.0</td>\n",
       "      <td>4.0.3 and up</td>\n",
       "      <td>14.0</td>\n",
       "    </tr>\n",
       "    <tr>\n",
       "      <th>2</th>\n",
       "      <td>U Launcher Lite – FREE Live Cool Themes, Hide ...</td>\n",
       "      <td>ART_AND_DESIGN</td>\n",
       "      <td>4.7</td>\n",
       "      <td>87510</td>\n",
       "      <td>5000000</td>\n",
       "      <td>Free</td>\n",
       "      <td>0.0</td>\n",
       "      <td>Everyone</td>\n",
       "      <td>Art &amp; Design</td>\n",
       "      <td>August 1, 2018</td>\n",
       "      <td>1.2.4</td>\n",
       "      <td>4.0.3 and up</td>\n",
       "      <td>8.7</td>\n",
       "    </tr>\n",
       "    <tr>\n",
       "      <th>3</th>\n",
       "      <td>Sketch - Draw &amp; Paint</td>\n",
       "      <td>ART_AND_DESIGN</td>\n",
       "      <td>4.5</td>\n",
       "      <td>215644</td>\n",
       "      <td>50000000</td>\n",
       "      <td>Free</td>\n",
       "      <td>0.0</td>\n",
       "      <td>Teen</td>\n",
       "      <td>Art &amp; Design</td>\n",
       "      <td>June 8, 2018</td>\n",
       "      <td>Varies with device</td>\n",
       "      <td>4.2 and up</td>\n",
       "      <td>25.0</td>\n",
       "    </tr>\n",
       "    <tr>\n",
       "      <th>4</th>\n",
       "      <td>Pixel Draw - Number Art Coloring Book</td>\n",
       "      <td>ART_AND_DESIGN</td>\n",
       "      <td>4.3</td>\n",
       "      <td>967</td>\n",
       "      <td>100000</td>\n",
       "      <td>Free</td>\n",
       "      <td>0.0</td>\n",
       "      <td>Everyone</td>\n",
       "      <td>Art &amp; Design;Creativity</td>\n",
       "      <td>June 20, 2018</td>\n",
       "      <td>1.1</td>\n",
       "      <td>4.4 and up</td>\n",
       "      <td>2.8</td>\n",
       "    </tr>\n",
       "  </tbody>\n",
       "</table>\n",
       "</div>"
      ],
      "text/plain": [
       "                                                 App        Category  Rating  \\\n",
       "0     Photo Editor & Candy Camera & Grid & ScrapBook  ART_AND_DESIGN     4.1   \n",
       "1                                Coloring book moana  ART_AND_DESIGN     3.9   \n",
       "2  U Launcher Lite – FREE Live Cool Themes, Hide ...  ART_AND_DESIGN     4.7   \n",
       "3                              Sketch - Draw & Paint  ART_AND_DESIGN     4.5   \n",
       "4              Pixel Draw - Number Art Coloring Book  ART_AND_DESIGN     4.3   \n",
       "\n",
       "   Reviews  Installs  Type  Price Content Rating                     Genres  \\\n",
       "0      159     10000  Free    0.0       Everyone               Art & Design   \n",
       "1      967    500000  Free    0.0       Everyone  Art & Design;Pretend Play   \n",
       "2    87510   5000000  Free    0.0       Everyone               Art & Design   \n",
       "3   215644  50000000  Free    0.0           Teen               Art & Design   \n",
       "4      967    100000  Free    0.0       Everyone    Art & Design;Creativity   \n",
       "\n",
       "       Last Updated         Current Ver   Android Ver  Size_MB  \n",
       "0   January 7, 2018               1.0.0  4.0.3 and up     19.0  \n",
       "1  January 15, 2018               2.0.0  4.0.3 and up     14.0  \n",
       "2    August 1, 2018               1.2.4  4.0.3 and up      8.7  \n",
       "3      June 8, 2018  Varies with device    4.2 and up     25.0  \n",
       "4     June 20, 2018                 1.1    4.4 and up      2.8  "
      ]
     },
     "execution_count": 20,
     "metadata": {},
     "output_type": "execute_result"
    }
   ],
   "source": [
    "df.head()"
   ]
  },
  {
   "cell_type": "code",
   "execution_count": 21,
   "id": "9c4c206e",
   "metadata": {},
   "outputs": [
    {
     "name": "stdout",
     "output_type": "stream",
     "text": [
      "<class 'pandas.core.frame.DataFrame'>\n",
      "RangeIndex: 10841 entries, 0 to 10840\n",
      "Data columns (total 13 columns):\n",
      " #   Column          Non-Null Count  Dtype  \n",
      "---  ------          --------------  -----  \n",
      " 0   App             10841 non-null  object \n",
      " 1   Category        10840 non-null  object \n",
      " 2   Rating          9367 non-null   float64\n",
      " 3   Reviews         10841 non-null  int64  \n",
      " 4   Installs        10841 non-null  int64  \n",
      " 5   Type            10840 non-null  object \n",
      " 6   Price           10841 non-null  float64\n",
      " 7   Content Rating  10841 non-null  object \n",
      " 8   Genres          10840 non-null  object \n",
      " 9   Last Updated    10841 non-null  object \n",
      " 10  Current Ver     10833 non-null  object \n",
      " 11  Android Ver     10839 non-null  object \n",
      " 12  Size_MB         10841 non-null  float64\n",
      "dtypes: float64(3), int64(2), object(8)\n",
      "memory usage: 1.1+ MB\n"
     ]
    }
   ],
   "source": [
    "df.info()"
   ]
  },
  {
   "cell_type": "code",
   "execution_count": 22,
   "id": "0a558e79",
   "metadata": {},
   "outputs": [
    {
     "data": {
      "application/vnd.microsoft.datawrangler.viewer.v0+json": {
       "columns": [
        {
         "name": "index",
         "rawType": "object",
         "type": "string"
        },
        {
         "name": "Rating",
         "rawType": "float64",
         "type": "float"
        },
        {
         "name": "Reviews",
         "rawType": "float64",
         "type": "float"
        },
        {
         "name": "Installs",
         "rawType": "float64",
         "type": "float"
        },
        {
         "name": "Price",
         "rawType": "float64",
         "type": "float"
        },
        {
         "name": "Size_MB",
         "rawType": "float64",
         "type": "float"
        }
       ],
       "ref": "aeaef9cb-bec1-4077-b1e0-f25f74ae69af",
       "rows": [
        [
         "count",
         "9367.0",
         "10841.0",
         "10841.0",
         "10841.0",
         "10841.0"
        ],
        [
         "mean",
         "4.191512757553112",
         "444111.9280509178",
         "15462912.50687206",
         "1.0272733142699015",
         "18.150385841726433"
        ],
        [
         "std",
         "0.5157352405794569",
         "2927628.6639741813",
         "85025568.99187264",
         "15.948970817233613",
         "22.17030335305734"
        ],
        [
         "min",
         "1.0",
         "0.0",
         "0.0",
         "0.0",
         "0.0"
        ],
        [
         "25%",
         "4.0",
         "38.0",
         "1000.0",
         "0.0",
         "2.6"
        ],
        [
         "50%",
         "4.3",
         "2094.0",
         "100000.0",
         "0.0",
         "9.2"
        ],
        [
         "75%",
         "4.5",
         "54768.0",
         "5000000.0",
         "0.0",
         "26.0"
        ],
        [
         "max",
         "5.0",
         "78158306.0",
         "1000000000.0",
         "400.0",
         "100.0"
        ]
       ],
       "shape": {
        "columns": 5,
        "rows": 8
       }
      },
      "text/html": [
       "<div>\n",
       "<style scoped>\n",
       "    .dataframe tbody tr th:only-of-type {\n",
       "        vertical-align: middle;\n",
       "    }\n",
       "\n",
       "    .dataframe tbody tr th {\n",
       "        vertical-align: top;\n",
       "    }\n",
       "\n",
       "    .dataframe thead th {\n",
       "        text-align: right;\n",
       "    }\n",
       "</style>\n",
       "<table border=\"1\" class=\"dataframe\">\n",
       "  <thead>\n",
       "    <tr style=\"text-align: right;\">\n",
       "      <th></th>\n",
       "      <th>Rating</th>\n",
       "      <th>Reviews</th>\n",
       "      <th>Installs</th>\n",
       "      <th>Price</th>\n",
       "      <th>Size_MB</th>\n",
       "    </tr>\n",
       "  </thead>\n",
       "  <tbody>\n",
       "    <tr>\n",
       "      <th>count</th>\n",
       "      <td>9367.000000</td>\n",
       "      <td>1.084100e+04</td>\n",
       "      <td>1.084100e+04</td>\n",
       "      <td>10841.000000</td>\n",
       "      <td>10841.000000</td>\n",
       "    </tr>\n",
       "    <tr>\n",
       "      <th>mean</th>\n",
       "      <td>4.191513</td>\n",
       "      <td>4.441119e+05</td>\n",
       "      <td>1.546291e+07</td>\n",
       "      <td>1.027273</td>\n",
       "      <td>18.150386</td>\n",
       "    </tr>\n",
       "    <tr>\n",
       "      <th>std</th>\n",
       "      <td>0.515735</td>\n",
       "      <td>2.927629e+06</td>\n",
       "      <td>8.502557e+07</td>\n",
       "      <td>15.948971</td>\n",
       "      <td>22.170303</td>\n",
       "    </tr>\n",
       "    <tr>\n",
       "      <th>min</th>\n",
       "      <td>1.000000</td>\n",
       "      <td>0.000000e+00</td>\n",
       "      <td>0.000000e+00</td>\n",
       "      <td>0.000000</td>\n",
       "      <td>0.000000</td>\n",
       "    </tr>\n",
       "    <tr>\n",
       "      <th>25%</th>\n",
       "      <td>4.000000</td>\n",
       "      <td>3.800000e+01</td>\n",
       "      <td>1.000000e+03</td>\n",
       "      <td>0.000000</td>\n",
       "      <td>2.600000</td>\n",
       "    </tr>\n",
       "    <tr>\n",
       "      <th>50%</th>\n",
       "      <td>4.300000</td>\n",
       "      <td>2.094000e+03</td>\n",
       "      <td>1.000000e+05</td>\n",
       "      <td>0.000000</td>\n",
       "      <td>9.200000</td>\n",
       "    </tr>\n",
       "    <tr>\n",
       "      <th>75%</th>\n",
       "      <td>4.500000</td>\n",
       "      <td>5.476800e+04</td>\n",
       "      <td>5.000000e+06</td>\n",
       "      <td>0.000000</td>\n",
       "      <td>26.000000</td>\n",
       "    </tr>\n",
       "    <tr>\n",
       "      <th>max</th>\n",
       "      <td>5.000000</td>\n",
       "      <td>7.815831e+07</td>\n",
       "      <td>1.000000e+09</td>\n",
       "      <td>400.000000</td>\n",
       "      <td>100.000000</td>\n",
       "    </tr>\n",
       "  </tbody>\n",
       "</table>\n",
       "</div>"
      ],
      "text/plain": [
       "            Rating       Reviews      Installs         Price       Size_MB\n",
       "count  9367.000000  1.084100e+04  1.084100e+04  10841.000000  10841.000000\n",
       "mean      4.191513  4.441119e+05  1.546291e+07      1.027273     18.150386\n",
       "std       0.515735  2.927629e+06  8.502557e+07     15.948971     22.170303\n",
       "min       1.000000  0.000000e+00  0.000000e+00      0.000000      0.000000\n",
       "25%       4.000000  3.800000e+01  1.000000e+03      0.000000      2.600000\n",
       "50%       4.300000  2.094000e+03  1.000000e+05      0.000000      9.200000\n",
       "75%       4.500000  5.476800e+04  5.000000e+06      0.000000     26.000000\n",
       "max       5.000000  7.815831e+07  1.000000e+09    400.000000    100.000000"
      ]
     },
     "execution_count": 22,
     "metadata": {},
     "output_type": "execute_result"
    }
   ],
   "source": [
    "df.describe()"
   ]
  }
 ],
 "metadata": {
  "kernelspec": {
   "display_name": "python_eda",
   "language": "python",
   "name": "python3"
  },
  "language_info": {
   "codemirror_mode": {
    "name": "ipython",
    "version": 3
   },
   "file_extension": ".py",
   "mimetype": "text/x-python",
   "name": "python",
   "nbconvert_exporter": "python",
   "pygments_lexer": "ipython3",
   "version": "3.10.18"
  }
 },
 "nbformat": 4,
 "nbformat_minor": 5
}
