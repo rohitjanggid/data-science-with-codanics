{
 "cells": [
  {
   "cell_type": "markdown",
   "id": "81ae93fc",
   "metadata": {},
   "source": [
    "pandas (day-01)"
   ]
  },
  {
   "cell_type": "code",
   "execution_count": 5,
   "id": "245b1115",
   "metadata": {},
   "outputs": [],
   "source": [
    "#import libraries\n",
    "import pandas as pd"
   ]
  },
  {
   "cell_type": "code",
   "execution_count": 6,
   "id": "060ecc4e",
   "metadata": {},
   "outputs": [],
   "source": [
    "#read the data \n",
    "\n",
    "df = pd.read_csv(\"./data/population.csv\")"
   ]
  },
  {
   "cell_type": "code",
   "execution_count": 7,
   "id": "1ba96529",
   "metadata": {},
   "outputs": [],
   "source": [
    "#write the data\n",
    "df.to_excel(\"./data/population.xlsx\")"
   ]
  },
  {
   "cell_type": "code",
   "execution_count": 8,
   "id": "90a46912",
   "metadata": {},
   "outputs": [
    {
     "data": {
      "application/vnd.microsoft.datawrangler.viewer.v0+json": {
       "columns": [
        {
         "name": "index",
         "rawType": "int64",
         "type": "integer"
        },
        {
         "name": "Unnamed: 0",
         "rawType": "int64",
         "type": "integer"
        },
        {
         "name": "PROVINCE",
         "rawType": "object",
         "type": "string"
        },
        {
         "name": "DIVISION",
         "rawType": "object",
         "type": "string"
        },
        {
         "name": "DISTRICT",
         "rawType": "object",
         "type": "string"
        },
        {
         "name": "SUB DIVISION",
         "rawType": "object",
         "type": "string"
        },
        {
         "name": "AREA (sq.km)",
         "rawType": "float64",
         "type": "float"
        },
        {
         "name": "ALL SEXES (RURAL)",
         "rawType": "int64",
         "type": "integer"
        },
        {
         "name": "MALE (RURAL)",
         "rawType": "int64",
         "type": "integer"
        },
        {
         "name": "FEMALE (RURAL)",
         "rawType": "int64",
         "type": "integer"
        },
        {
         "name": "TRANSGENDER (RURAL)",
         "rawType": "int64",
         "type": "integer"
        },
        {
         "name": "SEX RATIO (RURAL)",
         "rawType": "float64",
         "type": "float"
        },
        {
         "name": "AVG HOUSEHOLD SIZE (RURAL)",
         "rawType": "float64",
         "type": "float"
        },
        {
         "name": "POPULATION 1998 (RURAL)",
         "rawType": "int64",
         "type": "integer"
        },
        {
         "name": "ANNUAL GROWTH RATE (RURAL)",
         "rawType": "float64",
         "type": "float"
        },
        {
         "name": "ALL SEXES (URBAN)",
         "rawType": "int64",
         "type": "integer"
        },
        {
         "name": "MALE (URBAN)",
         "rawType": "int64",
         "type": "integer"
        },
        {
         "name": "FEMALE (URBAN)",
         "rawType": "int64",
         "type": "integer"
        },
        {
         "name": "TRANSGENDER (URBAN)",
         "rawType": "int64",
         "type": "integer"
        },
        {
         "name": "SEX RATIO (URBAN)",
         "rawType": "float64",
         "type": "float"
        },
        {
         "name": "AVG HOUSEHOLD SIZE (URBAN)",
         "rawType": "float64",
         "type": "float"
        },
        {
         "name": "POPULATION 1998 (URBAN)",
         "rawType": "int64",
         "type": "integer"
        },
        {
         "name": "ANNUAL GROWTH RATE (URBAN)",
         "rawType": "float64",
         "type": "float"
        }
       ],
       "ref": "b0deb040-fae7-4b24-b5b7-9a75a12deaee",
       "rows": [
        [
         "0",
         "0",
         "PUNJAB",
         "BAHAWALPUR DIVISION",
         "BAHAWALNAGAR DISTRICT",
         "BAHAWALNAGAR TEHSIL",
         "1729.0",
         "619550",
         "316864",
         "302644",
         "42",
         "104.7",
         "6.1",
         "407768",
         "2.22",
         "193840",
         "98391",
         "95402",
         "47",
         "103.13",
         "6.02",
         "133785",
         "1.97"
        ],
        [
         "1",
         "1",
         "PUNJAB",
         "BAHAWALPUR DIVISION",
         "BAHAWALNAGAR DISTRICT",
         "CHISHTIAN TEHSIL",
         "1500.0",
         "540342",
         "273788",
         "266500",
         "54",
         "102.73",
         "6.15",
         "395983",
         "1.65",
         "149424",
         "75546",
         "73851",
         "27",
         "102.3",
         "6.01",
         "102287",
         "2.01"
        ],
        [
         "2",
         "2",
         "PUNJAB",
         "BAHAWALPUR DIVISION",
         "BAHAWALNAGAR DISTRICT",
         "FORT ABBAS TEHSIL",
         "2536.0",
         "361240",
         "182655",
         "178541",
         "44",
         "102.3",
         "6.32",
         "250959",
         "1.93",
         "61528",
         "31360",
         "30150",
         "18",
         "104.01",
         "6.0",
         "34637",
         "3.06"
        ],
        [
         "3",
         "3",
         "PUNJAB",
         "BAHAWALPUR DIVISION",
         "BAHAWALNAGAR DISTRICT",
         "HAROONABAD TEHSIL",
         "1295.0",
         "382115",
         "192278",
         "189808",
         "29",
         "101.3",
         "6.15",
         "297343",
         "1.33",
         "142600",
         "71345",
         "71236",
         "19",
         "100.15",
         "6.02",
         "84424",
         "2.79"
        ],
        [
         "4",
         "4",
         "PUNJAB",
         "BAHAWALPUR DIVISION",
         "BAHAWALNAGAR DISTRICT",
         "MINCHINABAD TEHSIL",
         "1818.0",
         "452723",
         "231506",
         "221178",
         "39",
         "104.67",
         "6.29",
         "316593",
         "1.9",
         "72294",
         "36694",
         "35590",
         "10",
         "103.1",
         "6.34",
         "37668",
         "3.48"
        ],
        [
         "5",
         "5",
         "PUNJAB",
         "BAHAWALPUR DIVISION",
         "BAHAWALPUR DISTRICT",
         "AHMADPUR EAST TEHSIL",
         "1738.0",
         "902476",
         "461525",
         "440889",
         "62",
         "104.68",
         "6.53",
         "601406",
         "2.16",
         "176110",
         "90003",
         "86081",
         "26",
         "104.56",
         "6.28",
         "116891",
         "2.18"
        ],
        [
         "6",
         "6",
         "PUNJAB",
         "BAHAWALPUR DIVISION",
         "BAHAWALPUR DISTRICT",
         "BAHAWALPUR CITY TEHSIL",
         "1490.0",
         "0",
         "0",
         "0",
         "0",
         "0.0",
         "0.0",
         "62916",
         "0.0",
         "682116",
         "350186",
         "331842",
         "88",
         "105.53",
         "5.91",
         "356626",
         "3.47"
        ],
        [
         "7",
         "7",
         "PUNJAB",
         "BAHAWALPUR DIVISION",
         "BAHAWALPUR DISTRICT",
         "BAHAWALPUR SADDAR TEHSIL",
         "745.0",
         "467938",
         "239541",
         "228346",
         "51",
         "104.9",
         "6.33",
         "314428",
         "2.11",
         "107948",
         "62009",
         "45927",
         "12",
         "135.02",
         "5.98",
         "72610",
         "2.11"
        ],
        [
         "8",
         "8",
         "PUNJAB",
         "BAHAWALPUR DIVISION",
         "BAHAWALPUR DISTRICT",
         "HASILPUR TEHSIL",
         "1490.0",
         "340747",
         "171117",
         "169620",
         "10",
         "100.88",
         "6.03",
         "246218",
         "1.72",
         "115613",
         "57743",
         "57853",
         "17",
         "99.81",
         "6.09",
         "71295",
         "2.57"
        ],
        [
         "9",
         "9",
         "PUNJAB",
         "BAHAWALPUR DIVISION",
         "BAHAWALPUR DISTRICT",
         "KHAIRPUR TAMEWALI TEHSIL",
         "993.0",
         "221431",
         "112952",
         "108476",
         "3",
         "104.13",
         "6.22",
         "157049",
         "1.82",
         "41492",
         "20981",
         "20507",
         "4",
         "102.31",
         "5.75",
         "26854",
         "2.31"
        ],
        [
         "10",
         "10",
         "PUNJAB",
         "BAHAWALPUR DIVISION",
         "BAHAWALPUR DISTRICT",
         "YAZMAN TEHSIL",
         "18374.0",
         "564422",
         "288761",
         "275612",
         "49",
         "104.77",
         "6.41",
         "385770",
         "2.02",
         "48883",
         "24884",
         "23995",
         "4",
         "103.7",
         "6.18",
         "21028",
         "4.53"
        ],
        [
         "11",
         "11",
         "PUNJAB",
         "BAHAWALPUR DIVISION",
         "RAHIM YAR KHAN DISTRICT",
         "KHANPUR TEHSIL",
         "3190.0",
         "749218",
         "382228",
         "366927",
         "63",
         "104.17",
         "7.06",
         "533926",
         "1.8",
         "232867",
         "118442",
         "114373",
         "52",
         "103.56",
         "6.81",
         "149939",
         "2.34"
        ],
        [
         "12",
         "12",
         "PUNJAB",
         "BAHAWALPUR DIVISION",
         "RAHIM YAR KHAN DISTRICT",
         "LIAQUATPUR TEHSIL",
         "3262.0",
         "982018",
         "500742",
         "481157",
         "119",
         "104.07",
         "7.02",
         "666127",
         "2.06",
         "51888",
         "26238",
         "25637",
         "13",
         "102.34",
         "6.34",
         "32858",
         "2.43"
        ],
        [
         "13",
         "13",
         "PUNJAB",
         "BAHAWALPUR DIVISION",
         "RAHIM YAR KHAN DISTRICT",
         "RAHIM YAR KHAN TEHSIL",
         "2464.0",
         "1045577",
         "536887",
         "508580",
         "110",
         "105.57",
         "6.98",
         "710989",
         "2.05",
         "484606",
         "247388",
         "237127",
         "91",
         "104.33",
         "6.02",
         "274666",
         "3.03"
        ],
        [
         "14",
         "14",
         "PUNJAB",
         "BAHAWALPUR DIVISION",
         "RAHIM YAR KHAN DISTRICT",
         "SADIQABAD TEHSIL",
         "2964.0",
         "999966",
         "516640",
         "483247",
         "79",
         "106.91",
         "7.11",
         "613429",
         "2.6",
         "261622",
         "133215",
         "128365",
         "42",
         "103.78",
         "6.44",
         "159119",
         "2.65"
        ],
        [
         "15",
         "15",
         "PUNJAB",
         "D.G.KHAN DIVISION",
         "DERA GHAZI KHAN DISTRICT",
         "DE-EXCLUDED AREA D.G KHAN",
         "5339.0",
         "212652",
         "109429",
         "103213",
         "10",
         "106.02",
         "7.35",
         "126198",
         "2.78",
         "0",
         "0",
         "0",
         "0",
         "0.0",
         "0.0",
         "0",
         "0.0"
        ],
        [
         "16",
         "16",
         "PUNJAB",
         "D.G.KHAN DIVISION",
         "DERA GHAZI KHAN DISTRICT",
         "DERA GHAZI KHAN TEHSIL",
         "2012.0",
         "827602",
         "410429",
         "417124",
         "49",
         "98.39",
         "9.27",
         "522388",
         "2.45",
         "397362",
         "201554",
         "195775",
         "33",
         "102.95",
         "7.29",
         "190542",
         "3.94"
        ],
        [
         "17",
         "17",
         "PUNJAB",
         "D.G.KHAN DIVISION",
         "DERA GHAZI KHAN DISTRICT",
         "KOT CHHUTTA TEHSIL",
         "1802.0",
         "705564",
         "353638",
         "351884",
         "42",
         "100.5",
         "8.86",
         "438306",
         "2.53",
         "51666",
         "25837",
         "25820",
         "9",
         "100.07",
         "9.1",
         "0",
         "0.0"
        ],
        [
         "18",
         "18",
         "PUNJAB",
         "D.G.KHAN DIVISION",
         "DERA GHAZI KHAN DISTRICT",
         "TAUNSA TEHSIL",
         "2769.0",
         "580592",
         "300077",
         "280483",
         "32",
         "106.99",
         "7.29",
         "327387",
         "3.06",
         "97193",
         "50363",
         "46828",
         "2",
         "107.55",
         "6.89",
         "38297",
         "5.01"
        ],
        [
         "19",
         "19",
         "PUNJAB",
         "D.G.KHAN DIVISION",
         "LAYYAH DISTRICT",
         "CHOUBARA TEHSIL",
         "2754.0",
         "204169",
         "104011",
         "100150",
         "8",
         "103.86",
         "6.84",
         "161010",
         "1.26",
         "48371",
         "24515",
         "23853",
         "3",
         "102.78",
         "6.77",
         "0",
         "0.0"
        ],
        [
         "20",
         "20",
         "PUNJAB",
         "D.G.KHAN DIVISION",
         "LAYYAH DISTRICT",
         "LAYYAH TEHSIL",
         "1712.0",
         "783612",
         "398960",
         "384606",
         "46",
         "103.73",
         "6.21",
         "485182",
         "2.55",
         "193476",
         "98457",
         "94988",
         "31",
         "103.65",
         "6.21",
         "105860",
         "3.22"
        ],
        [
         "21",
         "21",
         "PUNJAB",
         "D.G.KHAN DIVISION",
         "MUZAFFARGARH DISTRICT",
         "ALIPUR TEHSIL",
         "1391.0",
         "595880",
         "307377",
         "288463",
         "40",
         "106.56",
         "6.92",
         "369452",
         "2.54",
         "44504",
         "22504",
         "21994",
         "6",
         "102.32",
         "6.54",
         "28601",
         "2.35"
        ],
        [
         "22",
         "22",
         "PUNJAB",
         "D.G.KHAN DIVISION",
         "MUZAFFARGARH DISTRICT",
         "JATOI TEHSIL",
         "1010.0",
         "555795",
         "285241",
         "270521",
         "33",
         "105.44",
         "6.25",
         "393772",
         "1.83",
         "159382",
         "81219",
         "78150",
         "13",
         "103.93",
         "5.95",
         "52774",
         "5.98"
        ],
        [
         "23",
         "23",
         "PUNJAB",
         "D.G.KHAN DIVISION",
         "MUZAFFARGARH DISTRICT",
         "KOT ADDU TEHSIL",
         "3471.0",
         "1093354",
         "560409",
         "532894",
         "51",
         "105.16",
         "6.53",
         "688771",
         "2.46",
         "254147",
         "129553",
         "124566",
         "28",
         "104.0",
         "6.37",
         "119667",
         "4.04"
        ],
        [
         "24",
         "24",
         "PUNJAB",
         "D.G.KHAN DIVISION",
         "MUZAFFARGARH DISTRICT",
         "MUZAFFARGARH TEHSIL",
         "2377.0",
         "1385109",
         "711866",
         "673133",
         "110",
         "105.75",
         "6.45",
         "842563",
         "2.65",
         "240378",
         "124916",
         "115424",
         "38",
         "108.22",
         "6.37",
         "140303",
         "2.87"
        ],
        [
         "25",
         "25",
         "PUNJAB",
         "D.G.KHAN DIVISION",
         "RAJANPUR DISTRICT",
         "DE-EXCLUDED AREA RAJANPUR",
         "5013.0",
         "34191",
         "18280",
         "15909",
         "2",
         "114.9",
         "6.56",
         "14051",
         "4.78",
         "0",
         "0",
         "0",
         "0",
         "0.0",
         "0.0",
         "0",
         "0.0"
        ],
        [
         "26",
         "26",
         "PUNJAB",
         "D.G.KHAN DIVISION",
         "RAJANPUR DISTRICT",
         "JAMPUR TEHSIL",
         "2322.0",
         "739299",
         "377811",
         "361435",
         "53",
         "104.53",
         "7.8",
         "417338",
         "3.05",
         "110090",
         "55953",
         "54121",
         "16",
         "103.39",
         "6.92",
         "67713",
         "2.59"
        ],
        [
         "27",
         "27",
         "PUNJAB",
         "D.G.KHAN DIVISION",
         "RAJANPUR DISTRICT",
         "RAJANPUR TEHSIL",
         "2078.0",
         "494109",
         "254955",
         "239095",
         "59",
         "106.63",
         "7.62",
         "314641",
         "2.4",
         "212661",
         "109228",
         "103394",
         "39",
         "105.64",
         "7.17",
         "81312",
         "5.18"
        ],
        [
         "28",
         "28",
         "PUNJAB",
         "D.G.KHAN DIVISION",
         "RAJANPUR DISTRICT",
         "ROJHAN TEHSIL",
         "2905.0",
         "391144",
         "204450",
         "186658",
         "36",
         "109.53",
         "6.99",
         "197433",
         "3.66",
         "14545",
         "7487",
         "7056",
         "2",
         "106.11",
         "7.38",
         "11130",
         "1.42"
        ],
        [
         "29",
         "29",
         "PUNJAB",
         "FAISALABAD DIVISION",
         "CHINIOT DISTRICT",
         "BHAWANA TEHSIL",
         "879.0",
         "339754",
         "173525",
         "166193",
         "36",
         "104.41",
         "6.26",
         "258757",
         "1.44",
         "34087",
         "17264",
         "16819",
         "4",
         "102.65",
         "6.35",
         "13997",
         "4.79"
        ],
        [
         "30",
         "30",
         "PUNJAB",
         "FAISALABAD DIVISION",
         "CHINIOT DISTRICT",
         "CHINIOT TEHSIL",
         "709.0",
         "277268",
         "141800",
         "135447",
         "21",
         "104.69",
         "6.38",
         "210354",
         "1.46",
         "278528",
         "143956",
         "134539",
         "33",
         "107.0",
         "6.52",
         "172522",
         "2.55"
        ],
        [
         "31",
         "31",
         "PUNJAB",
         "FAISALABAD DIVISION",
         "CHINIOT DISTRICT",
         "LALIAN TEHSIL",
         "1055.0",
         "329407",
         "168126",
         "161259",
         "22",
         "104.26",
         "6.09",
         "236830",
         "1.75",
         "109615",
         "54935",
         "54657",
         "23",
         "100.51",
         "5.32",
         "72664",
         "2.18"
        ],
        [
         "32",
         "32",
         "PUNJAB",
         "FAISALABAD DIVISION",
         "FAISALABAD DISTRICT",
         "CHAK JHUMRA TEHSIL",
         "654.0",
         "284170",
         "143009",
         "141136",
         "25",
         "101.33",
         "6.57",
         "221695",
         "1.31",
         "48796",
         "24664",
         "24123",
         "9",
         "102.24",
         "6.12",
         "32111",
         "2.22"
        ],
        [
         "33",
         "33",
         "PUNJAB",
         "FAISALABAD DIVISION",
         "FAISALABAD DISTRICT",
         "FAISALABAD CITY TEHSIL",
         "168.0",
         "34101",
         "17534",
         "16561",
         "6",
         "105.88",
         "6.33",
         "131485",
         "6.84",
         "3210158",
         "1651684",
         "1558106",
         "368",
         "106.01",
         "6.3",
         "2008861",
         "2.49"
        ],
        [
         "34",
         "34",
         "PUNJAB",
         "FAISALABAD DIVISION",
         "FAISALABAD DISTRICT",
         "FAISALABAD SADAR TEHSIL",
         "1186.0",
         "1425154",
         "730729",
         "694280",
         "145",
         "105.25",
         "6.54",
         "900984",
         "2.44",
         "39873",
         "20160",
         "19713",
         "0",
         "102.27",
         "6.56",
         "23126",
         "2.9"
        ],
        [
         "35",
         "35",
         "PUNJAB",
         "FAISALABAD DIVISION",
         "FAISALABAD DISTRICT",
         "JARANWALA TEHSIL",
         "1811.0",
         "1267317",
         "651051",
         "616147",
         "119",
         "105.66",
         "6.55",
         "924849",
         "1.67",
         "226606",
         "116758",
         "109810",
         "38",
         "106.33",
         "6.45",
         "136997",
         "2.68"
        ],
        [
         "36",
         "36",
         "PUNJAB",
         "FAISALABAD DIVISION",
         "FAISALABAD DISTRICT",
         "SAMMUNDRI TEHSIL",
         "754.0",
         "486176",
         "245494",
         "240637",
         "45",
         "102.02",
         "6.54",
         "453729",
         "0.36",
         "156938",
         "78834",
         "78084",
         "20",
         "100.96",
         "6.39",
         "54908",
         "5.67"
        ],
        [
         "37",
         "37",
         "PUNJAB",
         "FAISALABAD DIVISION",
         "FAISALABAD DISTRICT",
         "TANDLIAN WALA TEHSIL",
         "1284.0",
         "618660",
         "316100",
         "302533",
         "27",
         "104.48",
         "6.47",
         "478372",
         "1.36",
         "84495",
         "42915",
         "41554",
         "26",
         "103.28",
         "6.34",
         "62430",
         "1.6"
        ],
        [
         "38",
         "38",
         "PUNJAB",
         "FAISALABAD DIVISION",
         "JHANG DISTRICT",
         "18-HAZARI TEHSIL",
         "1566.0",
         "268160",
         "135653",
         "132487",
         "20",
         "102.39",
         "6.12",
         "200036",
         "1.55",
         "27554",
         "14039",
         "13513",
         "2",
         "103.89",
         "6.27",
         "0",
         "0.0"
        ],
        [
         "39",
         "39",
         "PUNJAB",
         "FAISALABAD DIVISION",
         "JHANG DISTRICT",
         "AHMADPUR SIAL TEHSIL",
         "851.0",
         "365900",
         "185430",
         "180440",
         "30",
         "102.77",
         "6.69",
         "250117",
         "2.02",
         "67634",
         "34066",
         "33561",
         "7",
         "101.5",
         "6.52",
         "46348",
         "2.01"
        ],
        [
         "40",
         "40",
         "PUNJAB",
         "FAISALABAD DIVISION",
         "JHANG DISTRICT",
         "JHANG TEHSIL",
         "2591.0",
         "1035377",
         "528229",
         "507071",
         "77",
         "104.17",
         "6.26",
         "694457",
         "2.12",
         "429441",
         "219152",
         "210209",
         "80",
         "104.25",
         "6.19",
         "304673",
         "1.82"
        ],
        [
         "41",
         "41",
         "PUNJAB",
         "FAISALABAD DIVISION",
         "JHANG DISTRICT",
         "SHORKOT TEHSIL",
         "1158.0",
         "474764",
         "241172",
         "233557",
         "35",
         "103.26",
         "6.64",
         "321004",
         "2.08",
         "73803",
         "37187",
         "36606",
         "10",
         "101.59",
         "5.85",
         "52786",
         "1.78"
        ],
        [
         "42",
         "42",
         "PUNJAB",
         "FAISALABAD DIVISION",
         "TOBA TEK SINGH DISTRICT",
         "GOJRA TEHSIL",
         "851.0",
         "482391",
         "242314",
         "240026",
         "51",
         "100.95",
         "6.62",
         "377204",
         "1.3",
         "174831",
         "87132",
         "87664",
         "35",
         "99.39",
         "6.28",
         "117892",
         "2.09"
        ],
        [
         "43",
         "43",
         "PUNJAB",
         "FAISALABAD DIVISION",
         "TOBA TEK SINGH DISTRICT",
         "KAMALIA TEHSIL",
         "486.0",
         "236336",
         "119521",
         "116794",
         "21",
         "102.33",
         "6.67",
         "186350",
         "1.26",
         "135674",
         "67973",
         "67672",
         "29",
         "100.44",
         "6.35",
         "97324",
         "1.76"
        ],
        [
         "44",
         "44",
         "PUNJAB",
         "FAISALABAD DIVISION",
         "TOBA TEK SINGH DISTRICT",
         "PIRMAHAL TEHSIL",
         "774.0",
         "378026",
         "190292",
         "187703",
         "31",
         "101.38",
         "6.51",
         "258335",
         "2.02",
         "44220",
         "22174",
         "22030",
         "16",
         "100.65",
         "5.81",
         "30257",
         "2.01"
        ],
        [
         "45",
         "45",
         "PUNJAB",
         "FAISALABAD DIVISION",
         "TOBA TEK SINGH DISTRICT",
         "TOBA TEK SINGH TEHSIL",
         "1141.0",
         "652771",
         "328034",
         "324693",
         "44",
         "101.03",
         "6.31",
         "494293",
         "1.47",
         "87246",
         "42925",
         "44297",
         "24",
         "96.9",
         "5.91",
         "59938",
         "1.99"
        ],
        [
         "46",
         "46",
         "PUNJAB",
         "GUJRANWALA DIVISION",
         "GUJRANWALA DISTRICT",
         "GUJRANWALA CITY TEHSIL",
         "131.0",
         "73890",
         "37904",
         "35977",
         "9",
         "105.36",
         "6.52",
         "20654",
         "6.93",
         "185874",
         "93470",
         "92388",
         "16",
         "101.17",
         "6.74",
         "94468",
         "3.62"
        ],
        [
         "47",
         "47",
         "PUNJAB",
         "GUJRANWALA DIVISION",
         "GUJRANWALA DISTRICT",
         "GUJRANWALA SADDAR TEHSIL",
         "783.0",
         "641189",
         "321787",
         "319316",
         "86",
         "100.77",
         "6.74",
         "586535",
         "0.47",
         "2165340",
         "1104898",
         "1060164",
         "278",
         "104.22",
         "6.52",
         "1225602",
         "3.04"
        ],
        [
         "48",
         "48",
         "PUNJAB",
         "GUJRANWALA DIVISION",
         "GUJRANWALA DISTRICT",
         "KAMOKE TEHSIL",
         "834.0",
         "330876",
         "167798",
         "163050",
         "28",
         "102.91",
         "7.16",
         "253078",
         "1.42",
         "248814",
         "126412",
         "122342",
         "60",
         "103.33",
         "6.68",
         "152288",
         "2.61"
        ],
        [
         "49",
         "49",
         "PUNJAB",
         "GUJRANWALA DIVISION",
         "GUJRANWALA DISTRICT",
         "NOWSHERA VIRKAN TEHSIL",
         "678.0",
         "485434",
         "243677",
         "241716",
         "41",
         "100.81",
         "7.03",
         "390142",
         "1.15",
         "49377",
         "24712",
         "24657",
         "8",
         "100.22",
         "7.1",
         "33940",
         "1.99"
        ]
       ],
       "shape": {
        "columns": 22,
        "rows": 528
       }
      },
      "text/html": [
       "<div>\n",
       "<style scoped>\n",
       "    .dataframe tbody tr th:only-of-type {\n",
       "        vertical-align: middle;\n",
       "    }\n",
       "\n",
       "    .dataframe tbody tr th {\n",
       "        vertical-align: top;\n",
       "    }\n",
       "\n",
       "    .dataframe thead th {\n",
       "        text-align: right;\n",
       "    }\n",
       "</style>\n",
       "<table border=\"1\" class=\"dataframe\">\n",
       "  <thead>\n",
       "    <tr style=\"text-align: right;\">\n",
       "      <th></th>\n",
       "      <th>Unnamed: 0</th>\n",
       "      <th>PROVINCE</th>\n",
       "      <th>DIVISION</th>\n",
       "      <th>DISTRICT</th>\n",
       "      <th>SUB DIVISION</th>\n",
       "      <th>AREA (sq.km)</th>\n",
       "      <th>ALL SEXES (RURAL)</th>\n",
       "      <th>MALE (RURAL)</th>\n",
       "      <th>FEMALE (RURAL)</th>\n",
       "      <th>TRANSGENDER (RURAL)</th>\n",
       "      <th>...</th>\n",
       "      <th>POPULATION 1998 (RURAL)</th>\n",
       "      <th>ANNUAL GROWTH RATE (RURAL)</th>\n",
       "      <th>ALL SEXES (URBAN)</th>\n",
       "      <th>MALE (URBAN)</th>\n",
       "      <th>FEMALE (URBAN)</th>\n",
       "      <th>TRANSGENDER (URBAN)</th>\n",
       "      <th>SEX RATIO (URBAN)</th>\n",
       "      <th>AVG HOUSEHOLD SIZE (URBAN)</th>\n",
       "      <th>POPULATION 1998 (URBAN)</th>\n",
       "      <th>ANNUAL GROWTH RATE (URBAN)</th>\n",
       "    </tr>\n",
       "  </thead>\n",
       "  <tbody>\n",
       "    <tr>\n",
       "      <th>0</th>\n",
       "      <td>0</td>\n",
       "      <td>PUNJAB</td>\n",
       "      <td>BAHAWALPUR DIVISION</td>\n",
       "      <td>BAHAWALNAGAR DISTRICT</td>\n",
       "      <td>BAHAWALNAGAR TEHSIL</td>\n",
       "      <td>1729.0</td>\n",
       "      <td>619550</td>\n",
       "      <td>316864</td>\n",
       "      <td>302644</td>\n",
       "      <td>42</td>\n",
       "      <td>...</td>\n",
       "      <td>407768</td>\n",
       "      <td>2.22</td>\n",
       "      <td>193840</td>\n",
       "      <td>98391</td>\n",
       "      <td>95402</td>\n",
       "      <td>47</td>\n",
       "      <td>103.13</td>\n",
       "      <td>6.02</td>\n",
       "      <td>133785</td>\n",
       "      <td>1.97</td>\n",
       "    </tr>\n",
       "    <tr>\n",
       "      <th>1</th>\n",
       "      <td>1</td>\n",
       "      <td>PUNJAB</td>\n",
       "      <td>BAHAWALPUR DIVISION</td>\n",
       "      <td>BAHAWALNAGAR DISTRICT</td>\n",
       "      <td>CHISHTIAN TEHSIL</td>\n",
       "      <td>1500.0</td>\n",
       "      <td>540342</td>\n",
       "      <td>273788</td>\n",
       "      <td>266500</td>\n",
       "      <td>54</td>\n",
       "      <td>...</td>\n",
       "      <td>395983</td>\n",
       "      <td>1.65</td>\n",
       "      <td>149424</td>\n",
       "      <td>75546</td>\n",
       "      <td>73851</td>\n",
       "      <td>27</td>\n",
       "      <td>102.30</td>\n",
       "      <td>6.01</td>\n",
       "      <td>102287</td>\n",
       "      <td>2.01</td>\n",
       "    </tr>\n",
       "    <tr>\n",
       "      <th>2</th>\n",
       "      <td>2</td>\n",
       "      <td>PUNJAB</td>\n",
       "      <td>BAHAWALPUR DIVISION</td>\n",
       "      <td>BAHAWALNAGAR DISTRICT</td>\n",
       "      <td>FORT ABBAS TEHSIL</td>\n",
       "      <td>2536.0</td>\n",
       "      <td>361240</td>\n",
       "      <td>182655</td>\n",
       "      <td>178541</td>\n",
       "      <td>44</td>\n",
       "      <td>...</td>\n",
       "      <td>250959</td>\n",
       "      <td>1.93</td>\n",
       "      <td>61528</td>\n",
       "      <td>31360</td>\n",
       "      <td>30150</td>\n",
       "      <td>18</td>\n",
       "      <td>104.01</td>\n",
       "      <td>6.00</td>\n",
       "      <td>34637</td>\n",
       "      <td>3.06</td>\n",
       "    </tr>\n",
       "    <tr>\n",
       "      <th>3</th>\n",
       "      <td>3</td>\n",
       "      <td>PUNJAB</td>\n",
       "      <td>BAHAWALPUR DIVISION</td>\n",
       "      <td>BAHAWALNAGAR DISTRICT</td>\n",
       "      <td>HAROONABAD TEHSIL</td>\n",
       "      <td>1295.0</td>\n",
       "      <td>382115</td>\n",
       "      <td>192278</td>\n",
       "      <td>189808</td>\n",
       "      <td>29</td>\n",
       "      <td>...</td>\n",
       "      <td>297343</td>\n",
       "      <td>1.33</td>\n",
       "      <td>142600</td>\n",
       "      <td>71345</td>\n",
       "      <td>71236</td>\n",
       "      <td>19</td>\n",
       "      <td>100.15</td>\n",
       "      <td>6.02</td>\n",
       "      <td>84424</td>\n",
       "      <td>2.79</td>\n",
       "    </tr>\n",
       "    <tr>\n",
       "      <th>4</th>\n",
       "      <td>4</td>\n",
       "      <td>PUNJAB</td>\n",
       "      <td>BAHAWALPUR DIVISION</td>\n",
       "      <td>BAHAWALNAGAR DISTRICT</td>\n",
       "      <td>MINCHINABAD TEHSIL</td>\n",
       "      <td>1818.0</td>\n",
       "      <td>452723</td>\n",
       "      <td>231506</td>\n",
       "      <td>221178</td>\n",
       "      <td>39</td>\n",
       "      <td>...</td>\n",
       "      <td>316593</td>\n",
       "      <td>1.90</td>\n",
       "      <td>72294</td>\n",
       "      <td>36694</td>\n",
       "      <td>35590</td>\n",
       "      <td>10</td>\n",
       "      <td>103.10</td>\n",
       "      <td>6.34</td>\n",
       "      <td>37668</td>\n",
       "      <td>3.48</td>\n",
       "    </tr>\n",
       "    <tr>\n",
       "      <th>...</th>\n",
       "      <td>...</td>\n",
       "      <td>...</td>\n",
       "      <td>...</td>\n",
       "      <td>...</td>\n",
       "      <td>...</td>\n",
       "      <td>...</td>\n",
       "      <td>...</td>\n",
       "      <td>...</td>\n",
       "      <td>...</td>\n",
       "      <td>...</td>\n",
       "      <td>...</td>\n",
       "      <td>...</td>\n",
       "      <td>...</td>\n",
       "      <td>...</td>\n",
       "      <td>...</td>\n",
       "      <td>...</td>\n",
       "      <td>...</td>\n",
       "      <td>...</td>\n",
       "      <td>...</td>\n",
       "      <td>...</td>\n",
       "      <td>...</td>\n",
       "    </tr>\n",
       "    <tr>\n",
       "      <th>523</th>\n",
       "      <td>523</td>\n",
       "      <td>KPK/FATA</td>\n",
       "      <td>DERA ISMAIL KHAN DIVISION</td>\n",
       "      <td>SOUTH WAZIRISTAN DISTRICT</td>\n",
       "      <td>SARAROGHA TEHSIL</td>\n",
       "      <td>813.0</td>\n",
       "      <td>98180</td>\n",
       "      <td>51479</td>\n",
       "      <td>46694</td>\n",
       "      <td>7</td>\n",
       "      <td>...</td>\n",
       "      <td>72063</td>\n",
       "      <td>1.64</td>\n",
       "      <td>0</td>\n",
       "      <td>0</td>\n",
       "      <td>0</td>\n",
       "      <td>0</td>\n",
       "      <td>0.00</td>\n",
       "      <td>0.00</td>\n",
       "      <td>0</td>\n",
       "      <td>0.00</td>\n",
       "    </tr>\n",
       "    <tr>\n",
       "      <th>524</th>\n",
       "      <td>524</td>\n",
       "      <td>KPK/FATA</td>\n",
       "      <td>DERA ISMAIL KHAN DIVISION</td>\n",
       "      <td>SOUTH WAZIRISTAN DISTRICT</td>\n",
       "      <td>SERWEKAI TEHSIL</td>\n",
       "      <td>398.0</td>\n",
       "      <td>54540</td>\n",
       "      <td>28695</td>\n",
       "      <td>25844</td>\n",
       "      <td>1</td>\n",
       "      <td>...</td>\n",
       "      <td>31472</td>\n",
       "      <td>2.93</td>\n",
       "      <td>0</td>\n",
       "      <td>0</td>\n",
       "      <td>0</td>\n",
       "      <td>0</td>\n",
       "      <td>0.00</td>\n",
       "      <td>0.00</td>\n",
       "      <td>0</td>\n",
       "      <td>0.00</td>\n",
       "    </tr>\n",
       "    <tr>\n",
       "      <th>525</th>\n",
       "      <td>525</td>\n",
       "      <td>KPK/FATA</td>\n",
       "      <td>DERA ISMAIL KHAN DIVISION</td>\n",
       "      <td>SOUTH WAZIRISTAN DISTRICT</td>\n",
       "      <td>TIARZA TEHSIL</td>\n",
       "      <td>734.0</td>\n",
       "      <td>45156</td>\n",
       "      <td>23649</td>\n",
       "      <td>21507</td>\n",
       "      <td>0</td>\n",
       "      <td>...</td>\n",
       "      <td>37708</td>\n",
       "      <td>0.95</td>\n",
       "      <td>0</td>\n",
       "      <td>0</td>\n",
       "      <td>0</td>\n",
       "      <td>0</td>\n",
       "      <td>0.00</td>\n",
       "      <td>0.00</td>\n",
       "      <td>0</td>\n",
       "      <td>0.00</td>\n",
       "    </tr>\n",
       "    <tr>\n",
       "      <th>526</th>\n",
       "      <td>526</td>\n",
       "      <td>KPK/FATA</td>\n",
       "      <td>DERA ISMAIL KHAN DIVISION</td>\n",
       "      <td>SOUTH WAZIRISTAN DISTRICT</td>\n",
       "      <td>TOI KHULLA TEHSIL</td>\n",
       "      <td>567.0</td>\n",
       "      <td>50413</td>\n",
       "      <td>27462</td>\n",
       "      <td>22947</td>\n",
       "      <td>4</td>\n",
       "      <td>...</td>\n",
       "      <td>36508</td>\n",
       "      <td>1.71</td>\n",
       "      <td>0</td>\n",
       "      <td>0</td>\n",
       "      <td>0</td>\n",
       "      <td>0</td>\n",
       "      <td>0.00</td>\n",
       "      <td>0.00</td>\n",
       "      <td>0</td>\n",
       "      <td>0.00</td>\n",
       "    </tr>\n",
       "    <tr>\n",
       "      <th>527</th>\n",
       "      <td>527</td>\n",
       "      <td>KPK/FATA</td>\n",
       "      <td>DERA ISMAIL KHAN DIVISION</td>\n",
       "      <td>SOUTH WAZIRISTAN DISTRICT</td>\n",
       "      <td>WANA TEHSIL</td>\n",
       "      <td>2315.0</td>\n",
       "      <td>153156</td>\n",
       "      <td>81342</td>\n",
       "      <td>71796</td>\n",
       "      <td>18</td>\n",
       "      <td>...</td>\n",
       "      <td>90772</td>\n",
       "      <td>2.79</td>\n",
       "      <td>0</td>\n",
       "      <td>0</td>\n",
       "      <td>0</td>\n",
       "      <td>0</td>\n",
       "      <td>0.00</td>\n",
       "      <td>0.00</td>\n",
       "      <td>0</td>\n",
       "      <td>0.00</td>\n",
       "    </tr>\n",
       "  </tbody>\n",
       "</table>\n",
       "<p>528 rows × 22 columns</p>\n",
       "</div>"
      ],
      "text/plain": [
       "     Unnamed: 0  PROVINCE                   DIVISION  \\\n",
       "0             0    PUNJAB        BAHAWALPUR DIVISION   \n",
       "1             1    PUNJAB        BAHAWALPUR DIVISION   \n",
       "2             2    PUNJAB        BAHAWALPUR DIVISION   \n",
       "3             3    PUNJAB        BAHAWALPUR DIVISION   \n",
       "4             4    PUNJAB        BAHAWALPUR DIVISION   \n",
       "..          ...       ...                        ...   \n",
       "523         523  KPK/FATA  DERA ISMAIL KHAN DIVISION   \n",
       "524         524  KPK/FATA  DERA ISMAIL KHAN DIVISION   \n",
       "525         525  KPK/FATA  DERA ISMAIL KHAN DIVISION   \n",
       "526         526  KPK/FATA  DERA ISMAIL KHAN DIVISION   \n",
       "527         527  KPK/FATA  DERA ISMAIL KHAN DIVISION   \n",
       "\n",
       "                      DISTRICT         SUB DIVISION  AREA (sq.km)  \\\n",
       "0        BAHAWALNAGAR DISTRICT  BAHAWALNAGAR TEHSIL        1729.0   \n",
       "1        BAHAWALNAGAR DISTRICT     CHISHTIAN TEHSIL        1500.0   \n",
       "2        BAHAWALNAGAR DISTRICT    FORT ABBAS TEHSIL        2536.0   \n",
       "3        BAHAWALNAGAR DISTRICT    HAROONABAD TEHSIL        1295.0   \n",
       "4        BAHAWALNAGAR DISTRICT   MINCHINABAD TEHSIL        1818.0   \n",
       "..                         ...                  ...           ...   \n",
       "523  SOUTH WAZIRISTAN DISTRICT     SARAROGHA TEHSIL         813.0   \n",
       "524  SOUTH WAZIRISTAN DISTRICT      SERWEKAI TEHSIL         398.0   \n",
       "525  SOUTH WAZIRISTAN DISTRICT        TIARZA TEHSIL         734.0   \n",
       "526  SOUTH WAZIRISTAN DISTRICT    TOI KHULLA TEHSIL         567.0   \n",
       "527  SOUTH WAZIRISTAN DISTRICT          WANA TEHSIL        2315.0   \n",
       "\n",
       "     ALL SEXES (RURAL)  MALE (RURAL)  FEMALE (RURAL)  TRANSGENDER (RURAL)  \\\n",
       "0               619550        316864          302644                   42   \n",
       "1               540342        273788          266500                   54   \n",
       "2               361240        182655          178541                   44   \n",
       "3               382115        192278          189808                   29   \n",
       "4               452723        231506          221178                   39   \n",
       "..                 ...           ...             ...                  ...   \n",
       "523              98180         51479           46694                    7   \n",
       "524              54540         28695           25844                    1   \n",
       "525              45156         23649           21507                    0   \n",
       "526              50413         27462           22947                    4   \n",
       "527             153156         81342           71796                   18   \n",
       "\n",
       "     ...  POPULATION 1998 (RURAL)  ANNUAL GROWTH RATE (RURAL)  \\\n",
       "0    ...                   407768                        2.22   \n",
       "1    ...                   395983                        1.65   \n",
       "2    ...                   250959                        1.93   \n",
       "3    ...                   297343                        1.33   \n",
       "4    ...                   316593                        1.90   \n",
       "..   ...                      ...                         ...   \n",
       "523  ...                    72063                        1.64   \n",
       "524  ...                    31472                        2.93   \n",
       "525  ...                    37708                        0.95   \n",
       "526  ...                    36508                        1.71   \n",
       "527  ...                    90772                        2.79   \n",
       "\n",
       "     ALL SEXES (URBAN)  MALE (URBAN)  FEMALE (URBAN)  TRANSGENDER (URBAN)  \\\n",
       "0               193840         98391           95402                   47   \n",
       "1               149424         75546           73851                   27   \n",
       "2                61528         31360           30150                   18   \n",
       "3               142600         71345           71236                   19   \n",
       "4                72294         36694           35590                   10   \n",
       "..                 ...           ...             ...                  ...   \n",
       "523                  0             0               0                    0   \n",
       "524                  0             0               0                    0   \n",
       "525                  0             0               0                    0   \n",
       "526                  0             0               0                    0   \n",
       "527                  0             0               0                    0   \n",
       "\n",
       "     SEX RATIO (URBAN)  AVG HOUSEHOLD SIZE (URBAN)  POPULATION 1998 (URBAN)  \\\n",
       "0               103.13                        6.02                   133785   \n",
       "1               102.30                        6.01                   102287   \n",
       "2               104.01                        6.00                    34637   \n",
       "3               100.15                        6.02                    84424   \n",
       "4               103.10                        6.34                    37668   \n",
       "..                 ...                         ...                      ...   \n",
       "523               0.00                        0.00                        0   \n",
       "524               0.00                        0.00                        0   \n",
       "525               0.00                        0.00                        0   \n",
       "526               0.00                        0.00                        0   \n",
       "527               0.00                        0.00                        0   \n",
       "\n",
       "     ANNUAL GROWTH RATE (URBAN)  \n",
       "0                          1.97  \n",
       "1                          2.01  \n",
       "2                          3.06  \n",
       "3                          2.79  \n",
       "4                          3.48  \n",
       "..                          ...  \n",
       "523                        0.00  \n",
       "524                        0.00  \n",
       "525                        0.00  \n",
       "526                        0.00  \n",
       "527                        0.00  \n",
       "\n",
       "[528 rows x 22 columns]"
      ]
     },
     "execution_count": 8,
     "metadata": {},
     "output_type": "execute_result"
    }
   ],
   "source": [
    "#reading a excel file\n",
    "df_excel = pd.read_excel(\"./data/population.xlsx\")\n",
    "df_excel"
   ]
  },
  {
   "cell_type": "code",
   "execution_count": 9,
   "id": "9ffeb01f",
   "metadata": {},
   "outputs": [
    {
     "name": "stdout",
     "output_type": "stream",
     "text": [
      "     PROVINCE                   DIVISION                   DISTRICT  \\\n",
      "0      PUNJAB        BAHAWALPUR DIVISION      BAHAWALNAGAR DISTRICT   \n",
      "1      PUNJAB        BAHAWALPUR DIVISION      BAHAWALNAGAR DISTRICT   \n",
      "2      PUNJAB        BAHAWALPUR DIVISION      BAHAWALNAGAR DISTRICT   \n",
      "3      PUNJAB        BAHAWALPUR DIVISION      BAHAWALNAGAR DISTRICT   \n",
      "4      PUNJAB        BAHAWALPUR DIVISION      BAHAWALNAGAR DISTRICT   \n",
      "..        ...                        ...                        ...   \n",
      "523  KPK/FATA  DERA ISMAIL KHAN DIVISION  SOUTH WAZIRISTAN DISTRICT   \n",
      "524  KPK/FATA  DERA ISMAIL KHAN DIVISION  SOUTH WAZIRISTAN DISTRICT   \n",
      "525  KPK/FATA  DERA ISMAIL KHAN DIVISION  SOUTH WAZIRISTAN DISTRICT   \n",
      "526  KPK/FATA  DERA ISMAIL KHAN DIVISION  SOUTH WAZIRISTAN DISTRICT   \n",
      "527  KPK/FATA  DERA ISMAIL KHAN DIVISION  SOUTH WAZIRISTAN DISTRICT   \n",
      "\n",
      "            SUB DIVISION  AREA (sq.km)  ALL SEXES (RURAL)  MALE (RURAL)  \\\n",
      "0    BAHAWALNAGAR TEHSIL        1729.0             619550        316864   \n",
      "1       CHISHTIAN TEHSIL        1500.0             540342        273788   \n",
      "2      FORT ABBAS TEHSIL        2536.0             361240        182655   \n",
      "3      HAROONABAD TEHSIL        1295.0             382115        192278   \n",
      "4     MINCHINABAD TEHSIL        1818.0             452723        231506   \n",
      "..                   ...           ...                ...           ...   \n",
      "523     SARAROGHA TEHSIL         813.0              98180         51479   \n",
      "524      SERWEKAI TEHSIL         398.0              54540         28695   \n",
      "525        TIARZA TEHSIL         734.0              45156         23649   \n",
      "526    TOI KHULLA TEHSIL         567.0              50413         27462   \n",
      "527          WANA TEHSIL        2315.0             153156         81342   \n",
      "\n",
      "     FEMALE (RURAL)  TRANSGENDER (RURAL)  SEX RATIO (RURAL)  ...  \\\n",
      "0            302644                   42             104.70  ...   \n",
      "1            266500                   54             102.73  ...   \n",
      "2            178541                   44             102.30  ...   \n",
      "3            189808                   29             101.30  ...   \n",
      "4            221178                   39             104.67  ...   \n",
      "..              ...                  ...                ...  ...   \n",
      "523           46694                    7             110.25  ...   \n",
      "524           25844                    1             111.03  ...   \n",
      "525           21507                    0             109.96  ...   \n",
      "526           22947                    4             119.68  ...   \n",
      "527           71796                   18             113.30  ...   \n",
      "\n",
      "     POPULATION 1998 (RURAL)  ANNUAL GROWTH RATE (RURAL)  ALL SEXES (URBAN)  \\\n",
      "0                     407768                        2.22             193840   \n",
      "1                     395983                        1.65             149424   \n",
      "2                     250959                        1.93              61528   \n",
      "3                     297343                        1.33             142600   \n",
      "4                     316593                        1.90              72294   \n",
      "..                       ...                         ...                ...   \n",
      "523                    72063                        1.64                  0   \n",
      "524                    31472                        2.93                  0   \n",
      "525                    37708                        0.95                  0   \n",
      "526                    36508                        1.71                  0   \n",
      "527                    90772                        2.79                  0   \n",
      "\n",
      "     MALE (URBAN)  FEMALE (URBAN)  TRANSGENDER (URBAN)  SEX RATIO (URBAN)  \\\n",
      "0           98391           95402                   47             103.13   \n",
      "1           75546           73851                   27             102.30   \n",
      "2           31360           30150                   18             104.01   \n",
      "3           71345           71236                   19             100.15   \n",
      "4           36694           35590                   10             103.10   \n",
      "..            ...             ...                  ...                ...   \n",
      "523             0               0                    0               0.00   \n",
      "524             0               0                    0               0.00   \n",
      "525             0               0                    0               0.00   \n",
      "526             0               0                    0               0.00   \n",
      "527             0               0                    0               0.00   \n",
      "\n",
      "     AVG HOUSEHOLD SIZE (URBAN)  POPULATION 1998 (URBAN)  \\\n",
      "0                          6.02                   133785   \n",
      "1                          6.01                   102287   \n",
      "2                          6.00                    34637   \n",
      "3                          6.02                    84424   \n",
      "4                          6.34                    37668   \n",
      "..                          ...                      ...   \n",
      "523                        0.00                        0   \n",
      "524                        0.00                        0   \n",
      "525                        0.00                        0   \n",
      "526                        0.00                        0   \n",
      "527                        0.00                        0   \n",
      "\n",
      "     ANNUAL GROWTH RATE (URBAN)  \n",
      "0                          1.97  \n",
      "1                          2.01  \n",
      "2                          3.06  \n",
      "3                          2.79  \n",
      "4                          3.48  \n",
      "..                          ...  \n",
      "523                        0.00  \n",
      "524                        0.00  \n",
      "525                        0.00  \n",
      "526                        0.00  \n",
      "527                        0.00  \n",
      "\n",
      "[528 rows x 21 columns]\n"
     ]
    }
   ],
   "source": [
    "#print the veriable or data in terminal\n",
    "print(df)"
   ]
  },
  {
   "cell_type": "code",
   "execution_count": 10,
   "id": "5b95f3ae",
   "metadata": {},
   "outputs": [
    {
     "name": "stdout",
     "output_type": "stream",
     "text": [
      "<class 'pandas.core.frame.DataFrame'>\n",
      "RangeIndex: 528 entries, 0 to 527\n",
      "Data columns (total 21 columns):\n",
      " #   Column                      Non-Null Count  Dtype  \n",
      "---  ------                      --------------  -----  \n",
      " 0   PROVINCE                    528 non-null    object \n",
      " 1   DIVISION                    528 non-null    object \n",
      " 2   DISTRICT                    528 non-null    object \n",
      " 3   SUB DIVISION                528 non-null    object \n",
      " 4   AREA (sq.km)                528 non-null    float64\n",
      " 5   ALL SEXES (RURAL)           528 non-null    int64  \n",
      " 6   MALE (RURAL)                528 non-null    int64  \n",
      " 7   FEMALE (RURAL)              528 non-null    int64  \n",
      " 8   TRANSGENDER (RURAL)         528 non-null    int64  \n",
      " 9   SEX RATIO (RURAL)           528 non-null    float64\n",
      " 10  AVG HOUSEHOLD SIZE (RURAL)  528 non-null    float64\n",
      " 11  POPULATION 1998 (RURAL)     528 non-null    int64  \n",
      " 12  ANNUAL GROWTH RATE (RURAL)  528 non-null    float64\n",
      " 13  ALL SEXES (URBAN)           528 non-null    int64  \n",
      " 14  MALE (URBAN)                528 non-null    int64  \n",
      " 15  FEMALE (URBAN)              528 non-null    int64  \n",
      " 16  TRANSGENDER (URBAN)         528 non-null    int64  \n",
      " 17  SEX RATIO (URBAN)           528 non-null    float64\n",
      " 18  AVG HOUSEHOLD SIZE (URBAN)  528 non-null    float64\n",
      " 19  POPULATION 1998 (URBAN)     528 non-null    int64  \n",
      " 20  ANNUAL GROWTH RATE (URBAN)  528 non-null    float64\n",
      "dtypes: float64(7), int64(10), object(4)\n",
      "memory usage: 86.8+ KB\n"
     ]
    }
   ],
   "source": [
    "#how the data looks like\n",
    "df.info()"
   ]
  },
  {
   "cell_type": "code",
   "execution_count": 11,
   "id": "376c4ac4",
   "metadata": {},
   "outputs": [
    {
     "data": {
      "application/vnd.microsoft.datawrangler.viewer.v0+json": {
       "columns": [
        {
         "name": "index",
         "rawType": "int64",
         "type": "integer"
        },
        {
         "name": "PROVINCE",
         "rawType": "object",
         "type": "string"
        },
        {
         "name": "DIVISION",
         "rawType": "object",
         "type": "string"
        },
        {
         "name": "DISTRICT",
         "rawType": "object",
         "type": "string"
        },
        {
         "name": "SUB DIVISION",
         "rawType": "object",
         "type": "string"
        },
        {
         "name": "AREA (sq.km)",
         "rawType": "float64",
         "type": "float"
        },
        {
         "name": "ALL SEXES (RURAL)",
         "rawType": "int64",
         "type": "integer"
        },
        {
         "name": "MALE (RURAL)",
         "rawType": "int64",
         "type": "integer"
        },
        {
         "name": "FEMALE (RURAL)",
         "rawType": "int64",
         "type": "integer"
        },
        {
         "name": "TRANSGENDER (RURAL)",
         "rawType": "int64",
         "type": "integer"
        },
        {
         "name": "SEX RATIO (RURAL)",
         "rawType": "float64",
         "type": "float"
        },
        {
         "name": "AVG HOUSEHOLD SIZE (RURAL)",
         "rawType": "float64",
         "type": "float"
        },
        {
         "name": "POPULATION 1998 (RURAL)",
         "rawType": "int64",
         "type": "integer"
        },
        {
         "name": "ANNUAL GROWTH RATE (RURAL)",
         "rawType": "float64",
         "type": "float"
        },
        {
         "name": "ALL SEXES (URBAN)",
         "rawType": "int64",
         "type": "integer"
        },
        {
         "name": "MALE (URBAN)",
         "rawType": "int64",
         "type": "integer"
        },
        {
         "name": "FEMALE (URBAN)",
         "rawType": "int64",
         "type": "integer"
        },
        {
         "name": "TRANSGENDER (URBAN)",
         "rawType": "int64",
         "type": "integer"
        },
        {
         "name": "SEX RATIO (URBAN)",
         "rawType": "float64",
         "type": "float"
        },
        {
         "name": "AVG HOUSEHOLD SIZE (URBAN)",
         "rawType": "float64",
         "type": "float"
        },
        {
         "name": "POPULATION 1998 (URBAN)",
         "rawType": "int64",
         "type": "integer"
        },
        {
         "name": "ANNUAL GROWTH RATE (URBAN)",
         "rawType": "float64",
         "type": "float"
        }
       ],
       "ref": "69504c51-e0d2-4cd8-842d-4a656b9ecb5a",
       "rows": [
        [
         "0",
         "PUNJAB",
         "BAHAWALPUR DIVISION",
         "BAHAWALNAGAR DISTRICT",
         "BAHAWALNAGAR TEHSIL",
         "1729.0",
         "619550",
         "316864",
         "302644",
         "42",
         "104.7",
         "6.1",
         "407768",
         "2.22",
         "193840",
         "98391",
         "95402",
         "47",
         "103.13",
         "6.02",
         "133785",
         "1.97"
        ],
        [
         "1",
         "PUNJAB",
         "BAHAWALPUR DIVISION",
         "BAHAWALNAGAR DISTRICT",
         "CHISHTIAN TEHSIL",
         "1500.0",
         "540342",
         "273788",
         "266500",
         "54",
         "102.73",
         "6.15",
         "395983",
         "1.65",
         "149424",
         "75546",
         "73851",
         "27",
         "102.3",
         "6.01",
         "102287",
         "2.01"
        ],
        [
         "2",
         "PUNJAB",
         "BAHAWALPUR DIVISION",
         "BAHAWALNAGAR DISTRICT",
         "FORT ABBAS TEHSIL",
         "2536.0",
         "361240",
         "182655",
         "178541",
         "44",
         "102.3",
         "6.32",
         "250959",
         "1.93",
         "61528",
         "31360",
         "30150",
         "18",
         "104.01",
         "6.0",
         "34637",
         "3.06"
        ]
       ],
       "shape": {
        "columns": 21,
        "rows": 3
       }
      },
      "text/html": [
       "<div>\n",
       "<style scoped>\n",
       "    .dataframe tbody tr th:only-of-type {\n",
       "        vertical-align: middle;\n",
       "    }\n",
       "\n",
       "    .dataframe tbody tr th {\n",
       "        vertical-align: top;\n",
       "    }\n",
       "\n",
       "    .dataframe thead th {\n",
       "        text-align: right;\n",
       "    }\n",
       "</style>\n",
       "<table border=\"1\" class=\"dataframe\">\n",
       "  <thead>\n",
       "    <tr style=\"text-align: right;\">\n",
       "      <th></th>\n",
       "      <th>PROVINCE</th>\n",
       "      <th>DIVISION</th>\n",
       "      <th>DISTRICT</th>\n",
       "      <th>SUB DIVISION</th>\n",
       "      <th>AREA (sq.km)</th>\n",
       "      <th>ALL SEXES (RURAL)</th>\n",
       "      <th>MALE (RURAL)</th>\n",
       "      <th>FEMALE (RURAL)</th>\n",
       "      <th>TRANSGENDER (RURAL)</th>\n",
       "      <th>SEX RATIO (RURAL)</th>\n",
       "      <th>...</th>\n",
       "      <th>POPULATION 1998 (RURAL)</th>\n",
       "      <th>ANNUAL GROWTH RATE (RURAL)</th>\n",
       "      <th>ALL SEXES (URBAN)</th>\n",
       "      <th>MALE (URBAN)</th>\n",
       "      <th>FEMALE (URBAN)</th>\n",
       "      <th>TRANSGENDER (URBAN)</th>\n",
       "      <th>SEX RATIO (URBAN)</th>\n",
       "      <th>AVG HOUSEHOLD SIZE (URBAN)</th>\n",
       "      <th>POPULATION 1998 (URBAN)</th>\n",
       "      <th>ANNUAL GROWTH RATE (URBAN)</th>\n",
       "    </tr>\n",
       "  </thead>\n",
       "  <tbody>\n",
       "    <tr>\n",
       "      <th>0</th>\n",
       "      <td>PUNJAB</td>\n",
       "      <td>BAHAWALPUR DIVISION</td>\n",
       "      <td>BAHAWALNAGAR DISTRICT</td>\n",
       "      <td>BAHAWALNAGAR TEHSIL</td>\n",
       "      <td>1729.0</td>\n",
       "      <td>619550</td>\n",
       "      <td>316864</td>\n",
       "      <td>302644</td>\n",
       "      <td>42</td>\n",
       "      <td>104.70</td>\n",
       "      <td>...</td>\n",
       "      <td>407768</td>\n",
       "      <td>2.22</td>\n",
       "      <td>193840</td>\n",
       "      <td>98391</td>\n",
       "      <td>95402</td>\n",
       "      <td>47</td>\n",
       "      <td>103.13</td>\n",
       "      <td>6.02</td>\n",
       "      <td>133785</td>\n",
       "      <td>1.97</td>\n",
       "    </tr>\n",
       "    <tr>\n",
       "      <th>1</th>\n",
       "      <td>PUNJAB</td>\n",
       "      <td>BAHAWALPUR DIVISION</td>\n",
       "      <td>BAHAWALNAGAR DISTRICT</td>\n",
       "      <td>CHISHTIAN TEHSIL</td>\n",
       "      <td>1500.0</td>\n",
       "      <td>540342</td>\n",
       "      <td>273788</td>\n",
       "      <td>266500</td>\n",
       "      <td>54</td>\n",
       "      <td>102.73</td>\n",
       "      <td>...</td>\n",
       "      <td>395983</td>\n",
       "      <td>1.65</td>\n",
       "      <td>149424</td>\n",
       "      <td>75546</td>\n",
       "      <td>73851</td>\n",
       "      <td>27</td>\n",
       "      <td>102.30</td>\n",
       "      <td>6.01</td>\n",
       "      <td>102287</td>\n",
       "      <td>2.01</td>\n",
       "    </tr>\n",
       "    <tr>\n",
       "      <th>2</th>\n",
       "      <td>PUNJAB</td>\n",
       "      <td>BAHAWALPUR DIVISION</td>\n",
       "      <td>BAHAWALNAGAR DISTRICT</td>\n",
       "      <td>FORT ABBAS TEHSIL</td>\n",
       "      <td>2536.0</td>\n",
       "      <td>361240</td>\n",
       "      <td>182655</td>\n",
       "      <td>178541</td>\n",
       "      <td>44</td>\n",
       "      <td>102.30</td>\n",
       "      <td>...</td>\n",
       "      <td>250959</td>\n",
       "      <td>1.93</td>\n",
       "      <td>61528</td>\n",
       "      <td>31360</td>\n",
       "      <td>30150</td>\n",
       "      <td>18</td>\n",
       "      <td>104.01</td>\n",
       "      <td>6.00</td>\n",
       "      <td>34637</td>\n",
       "      <td>3.06</td>\n",
       "    </tr>\n",
       "  </tbody>\n",
       "</table>\n",
       "<p>3 rows × 21 columns</p>\n",
       "</div>"
      ],
      "text/plain": [
       "  PROVINCE             DIVISION               DISTRICT         SUB DIVISION  \\\n",
       "0   PUNJAB  BAHAWALPUR DIVISION  BAHAWALNAGAR DISTRICT  BAHAWALNAGAR TEHSIL   \n",
       "1   PUNJAB  BAHAWALPUR DIVISION  BAHAWALNAGAR DISTRICT     CHISHTIAN TEHSIL   \n",
       "2   PUNJAB  BAHAWALPUR DIVISION  BAHAWALNAGAR DISTRICT    FORT ABBAS TEHSIL   \n",
       "\n",
       "   AREA (sq.km)  ALL SEXES (RURAL)  MALE (RURAL)  FEMALE (RURAL)  \\\n",
       "0        1729.0             619550        316864          302644   \n",
       "1        1500.0             540342        273788          266500   \n",
       "2        2536.0             361240        182655          178541   \n",
       "\n",
       "   TRANSGENDER (RURAL)  SEX RATIO (RURAL)  ...  POPULATION 1998 (RURAL)  \\\n",
       "0                   42             104.70  ...                   407768   \n",
       "1                   54             102.73  ...                   395983   \n",
       "2                   44             102.30  ...                   250959   \n",
       "\n",
       "   ANNUAL GROWTH RATE (RURAL)  ALL SEXES (URBAN)  MALE (URBAN)  \\\n",
       "0                        2.22             193840         98391   \n",
       "1                        1.65             149424         75546   \n",
       "2                        1.93              61528         31360   \n",
       "\n",
       "   FEMALE (URBAN)  TRANSGENDER (URBAN)  SEX RATIO (URBAN)  \\\n",
       "0           95402                   47             103.13   \n",
       "1           73851                   27             102.30   \n",
       "2           30150                   18             104.01   \n",
       "\n",
       "   AVG HOUSEHOLD SIZE (URBAN)  POPULATION 1998 (URBAN)  \\\n",
       "0                        6.02                   133785   \n",
       "1                        6.01                   102287   \n",
       "2                        6.00                    34637   \n",
       "\n",
       "   ANNUAL GROWTH RATE (URBAN)  \n",
       "0                        1.97  \n",
       "1                        2.01  \n",
       "2                        3.06  \n",
       "\n",
       "[3 rows x 21 columns]"
      ]
     },
     "execution_count": 11,
     "metadata": {},
     "output_type": "execute_result"
    }
   ],
   "source": [
    "df.head(3)"
   ]
  },
  {
   "cell_type": "code",
   "execution_count": 12,
   "id": "7f2f0e05",
   "metadata": {},
   "outputs": [
    {
     "data": {
      "application/vnd.microsoft.datawrangler.viewer.v0+json": {
       "columns": [
        {
         "name": "index",
         "rawType": "int64",
         "type": "integer"
        },
        {
         "name": "PROVINCE",
         "rawType": "object",
         "type": "string"
        },
        {
         "name": "DIVISION",
         "rawType": "object",
         "type": "string"
        },
        {
         "name": "DISTRICT",
         "rawType": "object",
         "type": "string"
        },
        {
         "name": "SUB DIVISION",
         "rawType": "object",
         "type": "string"
        },
        {
         "name": "AREA (sq.km)",
         "rawType": "float64",
         "type": "float"
        },
        {
         "name": "ALL SEXES (RURAL)",
         "rawType": "int64",
         "type": "integer"
        },
        {
         "name": "MALE (RURAL)",
         "rawType": "int64",
         "type": "integer"
        },
        {
         "name": "FEMALE (RURAL)",
         "rawType": "int64",
         "type": "integer"
        },
        {
         "name": "TRANSGENDER (RURAL)",
         "rawType": "int64",
         "type": "integer"
        },
        {
         "name": "SEX RATIO (RURAL)",
         "rawType": "float64",
         "type": "float"
        },
        {
         "name": "AVG HOUSEHOLD SIZE (RURAL)",
         "rawType": "float64",
         "type": "float"
        },
        {
         "name": "POPULATION 1998 (RURAL)",
         "rawType": "int64",
         "type": "integer"
        },
        {
         "name": "ANNUAL GROWTH RATE (RURAL)",
         "rawType": "float64",
         "type": "float"
        },
        {
         "name": "ALL SEXES (URBAN)",
         "rawType": "int64",
         "type": "integer"
        },
        {
         "name": "MALE (URBAN)",
         "rawType": "int64",
         "type": "integer"
        },
        {
         "name": "FEMALE (URBAN)",
         "rawType": "int64",
         "type": "integer"
        },
        {
         "name": "TRANSGENDER (URBAN)",
         "rawType": "int64",
         "type": "integer"
        },
        {
         "name": "SEX RATIO (URBAN)",
         "rawType": "float64",
         "type": "float"
        },
        {
         "name": "AVG HOUSEHOLD SIZE (URBAN)",
         "rawType": "float64",
         "type": "float"
        },
        {
         "name": "POPULATION 1998 (URBAN)",
         "rawType": "int64",
         "type": "integer"
        },
        {
         "name": "ANNUAL GROWTH RATE (URBAN)",
         "rawType": "float64",
         "type": "float"
        }
       ],
       "ref": "97fb66b9-a084-407a-8c09-7cf4475f69a3",
       "rows": [
        [
         "525",
         "KPK/FATA",
         "DERA ISMAIL KHAN DIVISION",
         "SOUTH WAZIRISTAN DISTRICT",
         "TIARZA TEHSIL",
         "734.0",
         "45156",
         "23649",
         "21507",
         "0",
         "109.96",
         "7.99",
         "37708",
         "0.95",
         "0",
         "0",
         "0",
         "0",
         "0.0",
         "0.0",
         "0",
         "0.0"
        ],
        [
         "526",
         "KPK/FATA",
         "DERA ISMAIL KHAN DIVISION",
         "SOUTH WAZIRISTAN DISTRICT",
         "TOI KHULLA TEHSIL",
         "567.0",
         "50413",
         "27462",
         "22947",
         "4",
         "119.68",
         "9.34",
         "36508",
         "1.71",
         "0",
         "0",
         "0",
         "0",
         "0.0",
         "0.0",
         "0",
         "0.0"
        ],
        [
         "527",
         "KPK/FATA",
         "DERA ISMAIL KHAN DIVISION",
         "SOUTH WAZIRISTAN DISTRICT",
         "WANA TEHSIL",
         "2315.0",
         "153156",
         "81342",
         "71796",
         "18",
         "113.3",
         "10.19",
         "90772",
         "2.79",
         "0",
         "0",
         "0",
         "0",
         "0.0",
         "0.0",
         "0",
         "0.0"
        ]
       ],
       "shape": {
        "columns": 21,
        "rows": 3
       }
      },
      "text/html": [
       "<div>\n",
       "<style scoped>\n",
       "    .dataframe tbody tr th:only-of-type {\n",
       "        vertical-align: middle;\n",
       "    }\n",
       "\n",
       "    .dataframe tbody tr th {\n",
       "        vertical-align: top;\n",
       "    }\n",
       "\n",
       "    .dataframe thead th {\n",
       "        text-align: right;\n",
       "    }\n",
       "</style>\n",
       "<table border=\"1\" class=\"dataframe\">\n",
       "  <thead>\n",
       "    <tr style=\"text-align: right;\">\n",
       "      <th></th>\n",
       "      <th>PROVINCE</th>\n",
       "      <th>DIVISION</th>\n",
       "      <th>DISTRICT</th>\n",
       "      <th>SUB DIVISION</th>\n",
       "      <th>AREA (sq.km)</th>\n",
       "      <th>ALL SEXES (RURAL)</th>\n",
       "      <th>MALE (RURAL)</th>\n",
       "      <th>FEMALE (RURAL)</th>\n",
       "      <th>TRANSGENDER (RURAL)</th>\n",
       "      <th>SEX RATIO (RURAL)</th>\n",
       "      <th>...</th>\n",
       "      <th>POPULATION 1998 (RURAL)</th>\n",
       "      <th>ANNUAL GROWTH RATE (RURAL)</th>\n",
       "      <th>ALL SEXES (URBAN)</th>\n",
       "      <th>MALE (URBAN)</th>\n",
       "      <th>FEMALE (URBAN)</th>\n",
       "      <th>TRANSGENDER (URBAN)</th>\n",
       "      <th>SEX RATIO (URBAN)</th>\n",
       "      <th>AVG HOUSEHOLD SIZE (URBAN)</th>\n",
       "      <th>POPULATION 1998 (URBAN)</th>\n",
       "      <th>ANNUAL GROWTH RATE (URBAN)</th>\n",
       "    </tr>\n",
       "  </thead>\n",
       "  <tbody>\n",
       "    <tr>\n",
       "      <th>525</th>\n",
       "      <td>KPK/FATA</td>\n",
       "      <td>DERA ISMAIL KHAN DIVISION</td>\n",
       "      <td>SOUTH WAZIRISTAN DISTRICT</td>\n",
       "      <td>TIARZA TEHSIL</td>\n",
       "      <td>734.0</td>\n",
       "      <td>45156</td>\n",
       "      <td>23649</td>\n",
       "      <td>21507</td>\n",
       "      <td>0</td>\n",
       "      <td>109.96</td>\n",
       "      <td>...</td>\n",
       "      <td>37708</td>\n",
       "      <td>0.95</td>\n",
       "      <td>0</td>\n",
       "      <td>0</td>\n",
       "      <td>0</td>\n",
       "      <td>0</td>\n",
       "      <td>0.0</td>\n",
       "      <td>0.0</td>\n",
       "      <td>0</td>\n",
       "      <td>0.0</td>\n",
       "    </tr>\n",
       "    <tr>\n",
       "      <th>526</th>\n",
       "      <td>KPK/FATA</td>\n",
       "      <td>DERA ISMAIL KHAN DIVISION</td>\n",
       "      <td>SOUTH WAZIRISTAN DISTRICT</td>\n",
       "      <td>TOI KHULLA TEHSIL</td>\n",
       "      <td>567.0</td>\n",
       "      <td>50413</td>\n",
       "      <td>27462</td>\n",
       "      <td>22947</td>\n",
       "      <td>4</td>\n",
       "      <td>119.68</td>\n",
       "      <td>...</td>\n",
       "      <td>36508</td>\n",
       "      <td>1.71</td>\n",
       "      <td>0</td>\n",
       "      <td>0</td>\n",
       "      <td>0</td>\n",
       "      <td>0</td>\n",
       "      <td>0.0</td>\n",
       "      <td>0.0</td>\n",
       "      <td>0</td>\n",
       "      <td>0.0</td>\n",
       "    </tr>\n",
       "    <tr>\n",
       "      <th>527</th>\n",
       "      <td>KPK/FATA</td>\n",
       "      <td>DERA ISMAIL KHAN DIVISION</td>\n",
       "      <td>SOUTH WAZIRISTAN DISTRICT</td>\n",
       "      <td>WANA TEHSIL</td>\n",
       "      <td>2315.0</td>\n",
       "      <td>153156</td>\n",
       "      <td>81342</td>\n",
       "      <td>71796</td>\n",
       "      <td>18</td>\n",
       "      <td>113.30</td>\n",
       "      <td>...</td>\n",
       "      <td>90772</td>\n",
       "      <td>2.79</td>\n",
       "      <td>0</td>\n",
       "      <td>0</td>\n",
       "      <td>0</td>\n",
       "      <td>0</td>\n",
       "      <td>0.0</td>\n",
       "      <td>0.0</td>\n",
       "      <td>0</td>\n",
       "      <td>0.0</td>\n",
       "    </tr>\n",
       "  </tbody>\n",
       "</table>\n",
       "<p>3 rows × 21 columns</p>\n",
       "</div>"
      ],
      "text/plain": [
       "     PROVINCE                   DIVISION                   DISTRICT  \\\n",
       "525  KPK/FATA  DERA ISMAIL KHAN DIVISION  SOUTH WAZIRISTAN DISTRICT   \n",
       "526  KPK/FATA  DERA ISMAIL KHAN DIVISION  SOUTH WAZIRISTAN DISTRICT   \n",
       "527  KPK/FATA  DERA ISMAIL KHAN DIVISION  SOUTH WAZIRISTAN DISTRICT   \n",
       "\n",
       "          SUB DIVISION  AREA (sq.km)  ALL SEXES (RURAL)  MALE (RURAL)  \\\n",
       "525      TIARZA TEHSIL         734.0              45156         23649   \n",
       "526  TOI KHULLA TEHSIL         567.0              50413         27462   \n",
       "527        WANA TEHSIL        2315.0             153156         81342   \n",
       "\n",
       "     FEMALE (RURAL)  TRANSGENDER (RURAL)  SEX RATIO (RURAL)  ...  \\\n",
       "525           21507                    0             109.96  ...   \n",
       "526           22947                    4             119.68  ...   \n",
       "527           71796                   18             113.30  ...   \n",
       "\n",
       "     POPULATION 1998 (RURAL)  ANNUAL GROWTH RATE (RURAL)  ALL SEXES (URBAN)  \\\n",
       "525                    37708                        0.95                  0   \n",
       "526                    36508                        1.71                  0   \n",
       "527                    90772                        2.79                  0   \n",
       "\n",
       "     MALE (URBAN)  FEMALE (URBAN)  TRANSGENDER (URBAN)  SEX RATIO (URBAN)  \\\n",
       "525             0               0                    0                0.0   \n",
       "526             0               0                    0                0.0   \n",
       "527             0               0                    0                0.0   \n",
       "\n",
       "     AVG HOUSEHOLD SIZE (URBAN)  POPULATION 1998 (URBAN)  \\\n",
       "525                         0.0                        0   \n",
       "526                         0.0                        0   \n",
       "527                         0.0                        0   \n",
       "\n",
       "     ANNUAL GROWTH RATE (URBAN)  \n",
       "525                         0.0  \n",
       "526                         0.0  \n",
       "527                         0.0  \n",
       "\n",
       "[3 rows x 21 columns]"
      ]
     },
     "execution_count": 12,
     "metadata": {},
     "output_type": "execute_result"
    }
   ],
   "source": [
    "df.tail(3)"
   ]
  },
  {
   "cell_type": "code",
   "execution_count": 13,
   "id": "a730e15f",
   "metadata": {},
   "outputs": [
    {
     "data": {
      "application/vnd.microsoft.datawrangler.viewer.v0+json": {
       "columns": [
        {
         "name": "index",
         "rawType": "object",
         "type": "string"
        },
        {
         "name": "AREA (sq.km)",
         "rawType": "float64",
         "type": "float"
        },
        {
         "name": "ALL SEXES (RURAL)",
         "rawType": "float64",
         "type": "float"
        },
        {
         "name": "MALE (RURAL)",
         "rawType": "float64",
         "type": "float"
        },
        {
         "name": "FEMALE (RURAL)",
         "rawType": "float64",
         "type": "float"
        },
        {
         "name": "TRANSGENDER (RURAL)",
         "rawType": "float64",
         "type": "float"
        },
        {
         "name": "SEX RATIO (RURAL)",
         "rawType": "float64",
         "type": "float"
        },
        {
         "name": "AVG HOUSEHOLD SIZE (RURAL)",
         "rawType": "float64",
         "type": "float"
        },
        {
         "name": "POPULATION 1998 (RURAL)",
         "rawType": "float64",
         "type": "float"
        },
        {
         "name": "ANNUAL GROWTH RATE (RURAL)",
         "rawType": "float64",
         "type": "float"
        },
        {
         "name": "ALL SEXES (URBAN)",
         "rawType": "float64",
         "type": "float"
        },
        {
         "name": "MALE (URBAN)",
         "rawType": "float64",
         "type": "float"
        },
        {
         "name": "FEMALE (URBAN)",
         "rawType": "float64",
         "type": "float"
        },
        {
         "name": "TRANSGENDER (URBAN)",
         "rawType": "float64",
         "type": "float"
        },
        {
         "name": "SEX RATIO (URBAN)",
         "rawType": "float64",
         "type": "float"
        },
        {
         "name": "AVG HOUSEHOLD SIZE (URBAN)",
         "rawType": "float64",
         "type": "float"
        },
        {
         "name": "POPULATION 1998 (URBAN)",
         "rawType": "float64",
         "type": "float"
        },
        {
         "name": "ANNUAL GROWTH RATE (URBAN)",
         "rawType": "float64",
         "type": "float"
        }
       ],
       "ref": "410513d1-08a6-4d6d-b4be-9f564bfd1a7f",
       "rows": [
        [
         "count",
         "528.0",
         "528.0",
         "528.0",
         "528.0",
         "528.0",
         "528.0",
         "528.0",
         "528.0",
         "528.0",
         "528.0",
         "528.0",
         "528.0",
         "528.0",
         "528.0",
         "528.0",
         "528.0",
         "528.0"
        ],
        [
         "mean",
         "1492.005871212121",
         "246278.01136363635",
         "125275.6875",
         "120984.14962121213",
         "18.174242424242426",
         "98.98261363636364",
         "6.277064393939394",
         "167427.99431818182",
         "3.1247916666666664",
         "140863.5284090909",
         "72843.38636363637",
         "67997.86553030302",
         "22.276515151515152",
         "75.41126893939395",
         "4.406401515151515",
         "80144.56628787878",
         "1.920814393939394"
        ],
        [
         "std",
         "2039.453778210461",
         "271189.81655913516",
         "137563.02145832204",
         "133716.8982962156",
         "25.52224797583435",
         "26.812659963763654",
         "2.074946856872161",
         "178388.97699251046",
         "9.577871731313106",
         "351246.279135647",
         "182349.2413790538",
         "168872.52821213444",
         "66.06812694544541",
         "49.687340945047566",
         "2.948335832301952",
         "202312.01922696584",
         "2.098908069694721"
        ],
        [
         "min",
         "0.0",
         "0.0",
         "0.0",
         "0.0",
         "0.0",
         "0.0",
         "0.0",
         "0.0",
         "0.0",
         "0.0",
         "0.0",
         "0.0",
         "0.0",
         "0.0",
         "0.0",
         "0.0",
         "0.0"
        ],
        [
         "25%",
         "425.0",
         "50934.5",
         "27127.25",
         "23979.0",
         "1.0",
         "101.105",
         "5.7",
         "35273.5",
         "1.44",
         "0.0",
         "0.0",
         "0.0",
         "0.0",
         "0.0",
         "0.0",
         "0.0",
         "0.0"
        ],
        [
         "50%",
         "882.0",
         "165241.0",
         "84134.5",
         "82044.0",
         "10.0",
         "105.285",
         "6.31",
         "117206.5",
         "2.03",
         "43254.5",
         "21980.0",
         "20999.0",
         "3.0",
         "103.195",
         "5.755",
         "21298.0",
         "1.855"
        ],
        [
         "75%",
         "1734.25",
         "312911.25",
         "160502.25",
         "152219.0",
         "25.0",
         "108.3475",
         "7.2",
         "213054.25",
         "2.8125",
         "117814.75",
         "60301.75",
         "57465.25",
         "19.0",
         "107.04",
         "6.34",
         "65422.25",
         "2.985"
        ],
        [
         "max",
         "18374.0",
         "2297375.0",
         "1172995.0",
         "1124167.0",
         "213.0",
         "139.38",
         "12.43",
         "1044035.0",
         "100.0",
         "3653616.0",
         "1905921.0",
         "1746900.0",
         "795.0",
         "297.81",
         "10.06",
         "2075867.0",
         "19.78"
        ]
       ],
       "shape": {
        "columns": 17,
        "rows": 8
       }
      },
      "text/html": [
       "<div>\n",
       "<style scoped>\n",
       "    .dataframe tbody tr th:only-of-type {\n",
       "        vertical-align: middle;\n",
       "    }\n",
       "\n",
       "    .dataframe tbody tr th {\n",
       "        vertical-align: top;\n",
       "    }\n",
       "\n",
       "    .dataframe thead th {\n",
       "        text-align: right;\n",
       "    }\n",
       "</style>\n",
       "<table border=\"1\" class=\"dataframe\">\n",
       "  <thead>\n",
       "    <tr style=\"text-align: right;\">\n",
       "      <th></th>\n",
       "      <th>AREA (sq.km)</th>\n",
       "      <th>ALL SEXES (RURAL)</th>\n",
       "      <th>MALE (RURAL)</th>\n",
       "      <th>FEMALE (RURAL)</th>\n",
       "      <th>TRANSGENDER (RURAL)</th>\n",
       "      <th>SEX RATIO (RURAL)</th>\n",
       "      <th>AVG HOUSEHOLD SIZE (RURAL)</th>\n",
       "      <th>POPULATION 1998 (RURAL)</th>\n",
       "      <th>ANNUAL GROWTH RATE (RURAL)</th>\n",
       "      <th>ALL SEXES (URBAN)</th>\n",
       "      <th>MALE (URBAN)</th>\n",
       "      <th>FEMALE (URBAN)</th>\n",
       "      <th>TRANSGENDER (URBAN)</th>\n",
       "      <th>SEX RATIO (URBAN)</th>\n",
       "      <th>AVG HOUSEHOLD SIZE (URBAN)</th>\n",
       "      <th>POPULATION 1998 (URBAN)</th>\n",
       "      <th>ANNUAL GROWTH RATE (URBAN)</th>\n",
       "    </tr>\n",
       "  </thead>\n",
       "  <tbody>\n",
       "    <tr>\n",
       "      <th>count</th>\n",
       "      <td>528.000000</td>\n",
       "      <td>5.280000e+02</td>\n",
       "      <td>5.280000e+02</td>\n",
       "      <td>5.280000e+02</td>\n",
       "      <td>528.000000</td>\n",
       "      <td>528.000000</td>\n",
       "      <td>528.000000</td>\n",
       "      <td>5.280000e+02</td>\n",
       "      <td>528.000000</td>\n",
       "      <td>5.280000e+02</td>\n",
       "      <td>5.280000e+02</td>\n",
       "      <td>5.280000e+02</td>\n",
       "      <td>528.000000</td>\n",
       "      <td>528.000000</td>\n",
       "      <td>528.000000</td>\n",
       "      <td>5.280000e+02</td>\n",
       "      <td>528.000000</td>\n",
       "    </tr>\n",
       "    <tr>\n",
       "      <th>mean</th>\n",
       "      <td>1492.005871</td>\n",
       "      <td>2.462780e+05</td>\n",
       "      <td>1.252757e+05</td>\n",
       "      <td>1.209841e+05</td>\n",
       "      <td>18.174242</td>\n",
       "      <td>98.982614</td>\n",
       "      <td>6.277064</td>\n",
       "      <td>1.674280e+05</td>\n",
       "      <td>3.124792</td>\n",
       "      <td>1.408635e+05</td>\n",
       "      <td>7.284339e+04</td>\n",
       "      <td>6.799787e+04</td>\n",
       "      <td>22.276515</td>\n",
       "      <td>75.411269</td>\n",
       "      <td>4.406402</td>\n",
       "      <td>8.014457e+04</td>\n",
       "      <td>1.920814</td>\n",
       "    </tr>\n",
       "    <tr>\n",
       "      <th>std</th>\n",
       "      <td>2039.453778</td>\n",
       "      <td>2.711898e+05</td>\n",
       "      <td>1.375630e+05</td>\n",
       "      <td>1.337169e+05</td>\n",
       "      <td>25.522248</td>\n",
       "      <td>26.812660</td>\n",
       "      <td>2.074947</td>\n",
       "      <td>1.783890e+05</td>\n",
       "      <td>9.577872</td>\n",
       "      <td>3.512463e+05</td>\n",
       "      <td>1.823492e+05</td>\n",
       "      <td>1.688725e+05</td>\n",
       "      <td>66.068127</td>\n",
       "      <td>49.687341</td>\n",
       "      <td>2.948336</td>\n",
       "      <td>2.023120e+05</td>\n",
       "      <td>2.098908</td>\n",
       "    </tr>\n",
       "    <tr>\n",
       "      <th>min</th>\n",
       "      <td>0.000000</td>\n",
       "      <td>0.000000e+00</td>\n",
       "      <td>0.000000e+00</td>\n",
       "      <td>0.000000e+00</td>\n",
       "      <td>0.000000</td>\n",
       "      <td>0.000000</td>\n",
       "      <td>0.000000</td>\n",
       "      <td>0.000000e+00</td>\n",
       "      <td>0.000000</td>\n",
       "      <td>0.000000e+00</td>\n",
       "      <td>0.000000e+00</td>\n",
       "      <td>0.000000e+00</td>\n",
       "      <td>0.000000</td>\n",
       "      <td>0.000000</td>\n",
       "      <td>0.000000</td>\n",
       "      <td>0.000000e+00</td>\n",
       "      <td>0.000000</td>\n",
       "    </tr>\n",
       "    <tr>\n",
       "      <th>25%</th>\n",
       "      <td>425.000000</td>\n",
       "      <td>5.093450e+04</td>\n",
       "      <td>2.712725e+04</td>\n",
       "      <td>2.397900e+04</td>\n",
       "      <td>1.000000</td>\n",
       "      <td>101.105000</td>\n",
       "      <td>5.700000</td>\n",
       "      <td>3.527350e+04</td>\n",
       "      <td>1.440000</td>\n",
       "      <td>0.000000e+00</td>\n",
       "      <td>0.000000e+00</td>\n",
       "      <td>0.000000e+00</td>\n",
       "      <td>0.000000</td>\n",
       "      <td>0.000000</td>\n",
       "      <td>0.000000</td>\n",
       "      <td>0.000000e+00</td>\n",
       "      <td>0.000000</td>\n",
       "    </tr>\n",
       "    <tr>\n",
       "      <th>50%</th>\n",
       "      <td>882.000000</td>\n",
       "      <td>1.652410e+05</td>\n",
       "      <td>8.413450e+04</td>\n",
       "      <td>8.204400e+04</td>\n",
       "      <td>10.000000</td>\n",
       "      <td>105.285000</td>\n",
       "      <td>6.310000</td>\n",
       "      <td>1.172065e+05</td>\n",
       "      <td>2.030000</td>\n",
       "      <td>4.325450e+04</td>\n",
       "      <td>2.198000e+04</td>\n",
       "      <td>2.099900e+04</td>\n",
       "      <td>3.000000</td>\n",
       "      <td>103.195000</td>\n",
       "      <td>5.755000</td>\n",
       "      <td>2.129800e+04</td>\n",
       "      <td>1.855000</td>\n",
       "    </tr>\n",
       "    <tr>\n",
       "      <th>75%</th>\n",
       "      <td>1734.250000</td>\n",
       "      <td>3.129112e+05</td>\n",
       "      <td>1.605022e+05</td>\n",
       "      <td>1.522190e+05</td>\n",
       "      <td>25.000000</td>\n",
       "      <td>108.347500</td>\n",
       "      <td>7.200000</td>\n",
       "      <td>2.130542e+05</td>\n",
       "      <td>2.812500</td>\n",
       "      <td>1.178148e+05</td>\n",
       "      <td>6.030175e+04</td>\n",
       "      <td>5.746525e+04</td>\n",
       "      <td>19.000000</td>\n",
       "      <td>107.040000</td>\n",
       "      <td>6.340000</td>\n",
       "      <td>6.542225e+04</td>\n",
       "      <td>2.985000</td>\n",
       "    </tr>\n",
       "    <tr>\n",
       "      <th>max</th>\n",
       "      <td>18374.000000</td>\n",
       "      <td>2.297375e+06</td>\n",
       "      <td>1.172995e+06</td>\n",
       "      <td>1.124167e+06</td>\n",
       "      <td>213.000000</td>\n",
       "      <td>139.380000</td>\n",
       "      <td>12.430000</td>\n",
       "      <td>1.044035e+06</td>\n",
       "      <td>100.000000</td>\n",
       "      <td>3.653616e+06</td>\n",
       "      <td>1.905921e+06</td>\n",
       "      <td>1.746900e+06</td>\n",
       "      <td>795.000000</td>\n",
       "      <td>297.810000</td>\n",
       "      <td>10.060000</td>\n",
       "      <td>2.075867e+06</td>\n",
       "      <td>19.780000</td>\n",
       "    </tr>\n",
       "  </tbody>\n",
       "</table>\n",
       "</div>"
      ],
      "text/plain": [
       "       AREA (sq.km)  ALL SEXES (RURAL)  MALE (RURAL)  FEMALE (RURAL)  \\\n",
       "count    528.000000       5.280000e+02  5.280000e+02    5.280000e+02   \n",
       "mean    1492.005871       2.462780e+05  1.252757e+05    1.209841e+05   \n",
       "std     2039.453778       2.711898e+05  1.375630e+05    1.337169e+05   \n",
       "min        0.000000       0.000000e+00  0.000000e+00    0.000000e+00   \n",
       "25%      425.000000       5.093450e+04  2.712725e+04    2.397900e+04   \n",
       "50%      882.000000       1.652410e+05  8.413450e+04    8.204400e+04   \n",
       "75%     1734.250000       3.129112e+05  1.605022e+05    1.522190e+05   \n",
       "max    18374.000000       2.297375e+06  1.172995e+06    1.124167e+06   \n",
       "\n",
       "       TRANSGENDER (RURAL)  SEX RATIO (RURAL)  AVG HOUSEHOLD SIZE (RURAL)  \\\n",
       "count           528.000000         528.000000                  528.000000   \n",
       "mean             18.174242          98.982614                    6.277064   \n",
       "std              25.522248          26.812660                    2.074947   \n",
       "min               0.000000           0.000000                    0.000000   \n",
       "25%               1.000000         101.105000                    5.700000   \n",
       "50%              10.000000         105.285000                    6.310000   \n",
       "75%              25.000000         108.347500                    7.200000   \n",
       "max             213.000000         139.380000                   12.430000   \n",
       "\n",
       "       POPULATION 1998 (RURAL)  ANNUAL GROWTH RATE (RURAL)  ALL SEXES (URBAN)  \\\n",
       "count             5.280000e+02                  528.000000       5.280000e+02   \n",
       "mean              1.674280e+05                    3.124792       1.408635e+05   \n",
       "std               1.783890e+05                    9.577872       3.512463e+05   \n",
       "min               0.000000e+00                    0.000000       0.000000e+00   \n",
       "25%               3.527350e+04                    1.440000       0.000000e+00   \n",
       "50%               1.172065e+05                    2.030000       4.325450e+04   \n",
       "75%               2.130542e+05                    2.812500       1.178148e+05   \n",
       "max               1.044035e+06                  100.000000       3.653616e+06   \n",
       "\n",
       "       MALE (URBAN)  FEMALE (URBAN)  TRANSGENDER (URBAN)  SEX RATIO (URBAN)  \\\n",
       "count  5.280000e+02    5.280000e+02           528.000000         528.000000   \n",
       "mean   7.284339e+04    6.799787e+04            22.276515          75.411269   \n",
       "std    1.823492e+05    1.688725e+05            66.068127          49.687341   \n",
       "min    0.000000e+00    0.000000e+00             0.000000           0.000000   \n",
       "25%    0.000000e+00    0.000000e+00             0.000000           0.000000   \n",
       "50%    2.198000e+04    2.099900e+04             3.000000         103.195000   \n",
       "75%    6.030175e+04    5.746525e+04            19.000000         107.040000   \n",
       "max    1.905921e+06    1.746900e+06           795.000000         297.810000   \n",
       "\n",
       "       AVG HOUSEHOLD SIZE (URBAN)  POPULATION 1998 (URBAN)  \\\n",
       "count                  528.000000             5.280000e+02   \n",
       "mean                     4.406402             8.014457e+04   \n",
       "std                      2.948336             2.023120e+05   \n",
       "min                      0.000000             0.000000e+00   \n",
       "25%                      0.000000             0.000000e+00   \n",
       "50%                      5.755000             2.129800e+04   \n",
       "75%                      6.340000             6.542225e+04   \n",
       "max                     10.060000             2.075867e+06   \n",
       "\n",
       "       ANNUAL GROWTH RATE (URBAN)  \n",
       "count                  528.000000  \n",
       "mean                     1.920814  \n",
       "std                      2.098908  \n",
       "min                      0.000000  \n",
       "25%                      0.000000  \n",
       "50%                      1.855000  \n",
       "75%                      2.985000  \n",
       "max                     19.780000  "
      ]
     },
     "execution_count": 13,
     "metadata": {},
     "output_type": "execute_result"
    }
   ],
   "source": [
    "df.describe()"
   ]
  },
  {
   "cell_type": "code",
   "execution_count": 14,
   "id": "69527b39",
   "metadata": {},
   "outputs": [],
   "source": [
    "#lets download the titanic data set\n",
    "import pandas as pd\n",
    "import numpy as np\n",
    "import matplotlib.pyplot as plt\n",
    "import seaborn as sns"
   ]
  },
  {
   "cell_type": "code",
   "execution_count": 15,
   "id": "40ca4845",
   "metadata": {},
   "outputs": [],
   "source": [
    "#load the dataset from seaborn library\n",
    "df = sns.load_dataset('titanic')"
   ]
  },
  {
   "cell_type": "markdown",
   "id": "9f65676b",
   "metadata": {},
   "source": [
    "# *basic information*"
   ]
  },
  {
   "cell_type": "code",
   "execution_count": 16,
   "id": "88caf95a",
   "metadata": {},
   "outputs": [
    {
     "name": "stdout",
     "output_type": "stream",
     "text": [
      "<class 'pandas.core.frame.DataFrame'>\n",
      "RangeIndex: 891 entries, 0 to 890\n",
      "Data columns (total 15 columns):\n",
      " #   Column       Non-Null Count  Dtype   \n",
      "---  ------       --------------  -----   \n",
      " 0   survived     891 non-null    int64   \n",
      " 1   pclass       891 non-null    int64   \n",
      " 2   sex          891 non-null    object  \n",
      " 3   age          714 non-null    float64 \n",
      " 4   sibsp        891 non-null    int64   \n",
      " 5   parch        891 non-null    int64   \n",
      " 6   fare         891 non-null    float64 \n",
      " 7   embarked     889 non-null    object  \n",
      " 8   class        891 non-null    category\n",
      " 9   who          891 non-null    object  \n",
      " 10  adult_male   891 non-null    bool    \n",
      " 11  deck         203 non-null    category\n",
      " 12  embark_town  889 non-null    object  \n",
      " 13  alive        891 non-null    object  \n",
      " 14  alone        891 non-null    bool    \n",
      "dtypes: bool(2), category(2), float64(2), int64(4), object(5)\n",
      "memory usage: 80.7+ KB\n"
     ]
    }
   ],
   "source": [
    "df.info()"
   ]
  },
  {
   "cell_type": "code",
   "execution_count": 17,
   "id": "f1e6de07",
   "metadata": {},
   "outputs": [
    {
     "data": {
      "application/vnd.microsoft.datawrangler.viewer.v0+json": {
       "columns": [
        {
         "name": "index",
         "rawType": "object",
         "type": "string"
        },
        {
         "name": "survived",
         "rawType": "float64",
         "type": "float"
        },
        {
         "name": "pclass",
         "rawType": "float64",
         "type": "float"
        },
        {
         "name": "age",
         "rawType": "float64",
         "type": "float"
        },
        {
         "name": "sibsp",
         "rawType": "float64",
         "type": "float"
        },
        {
         "name": "parch",
         "rawType": "float64",
         "type": "float"
        },
        {
         "name": "fare",
         "rawType": "float64",
         "type": "float"
        }
       ],
       "ref": "9926ada6-72eb-4366-b2c0-107fd74ccc30",
       "rows": [
        [
         "count",
         "891.0",
         "891.0",
         "714.0",
         "891.0",
         "891.0",
         "891.0"
        ],
        [
         "mean",
         "0.3838383838383838",
         "2.308641975308642",
         "29.69911764705882",
         "0.5230078563411896",
         "0.38159371492704824",
         "32.204207968574636"
        ],
        [
         "std",
         "0.4865924542648585",
         "0.8360712409770513",
         "14.526497332334044",
         "1.1027434322934275",
         "0.8060572211299559",
         "49.693428597180905"
        ],
        [
         "min",
         "0.0",
         "1.0",
         "0.42",
         "0.0",
         "0.0",
         "0.0"
        ],
        [
         "25%",
         "0.0",
         "2.0",
         "20.125",
         "0.0",
         "0.0",
         "7.9104"
        ],
        [
         "50%",
         "0.0",
         "3.0",
         "28.0",
         "0.0",
         "0.0",
         "14.4542"
        ],
        [
         "75%",
         "1.0",
         "3.0",
         "38.0",
         "1.0",
         "0.0",
         "31.0"
        ],
        [
         "max",
         "1.0",
         "3.0",
         "80.0",
         "8.0",
         "6.0",
         "512.3292"
        ]
       ],
       "shape": {
        "columns": 6,
        "rows": 8
       }
      },
      "text/html": [
       "<div>\n",
       "<style scoped>\n",
       "    .dataframe tbody tr th:only-of-type {\n",
       "        vertical-align: middle;\n",
       "    }\n",
       "\n",
       "    .dataframe tbody tr th {\n",
       "        vertical-align: top;\n",
       "    }\n",
       "\n",
       "    .dataframe thead th {\n",
       "        text-align: right;\n",
       "    }\n",
       "</style>\n",
       "<table border=\"1\" class=\"dataframe\">\n",
       "  <thead>\n",
       "    <tr style=\"text-align: right;\">\n",
       "      <th></th>\n",
       "      <th>survived</th>\n",
       "      <th>pclass</th>\n",
       "      <th>age</th>\n",
       "      <th>sibsp</th>\n",
       "      <th>parch</th>\n",
       "      <th>fare</th>\n",
       "    </tr>\n",
       "  </thead>\n",
       "  <tbody>\n",
       "    <tr>\n",
       "      <th>count</th>\n",
       "      <td>891.000000</td>\n",
       "      <td>891.000000</td>\n",
       "      <td>714.000000</td>\n",
       "      <td>891.000000</td>\n",
       "      <td>891.000000</td>\n",
       "      <td>891.000000</td>\n",
       "    </tr>\n",
       "    <tr>\n",
       "      <th>mean</th>\n",
       "      <td>0.383838</td>\n",
       "      <td>2.308642</td>\n",
       "      <td>29.699118</td>\n",
       "      <td>0.523008</td>\n",
       "      <td>0.381594</td>\n",
       "      <td>32.204208</td>\n",
       "    </tr>\n",
       "    <tr>\n",
       "      <th>std</th>\n",
       "      <td>0.486592</td>\n",
       "      <td>0.836071</td>\n",
       "      <td>14.526497</td>\n",
       "      <td>1.102743</td>\n",
       "      <td>0.806057</td>\n",
       "      <td>49.693429</td>\n",
       "    </tr>\n",
       "    <tr>\n",
       "      <th>min</th>\n",
       "      <td>0.000000</td>\n",
       "      <td>1.000000</td>\n",
       "      <td>0.420000</td>\n",
       "      <td>0.000000</td>\n",
       "      <td>0.000000</td>\n",
       "      <td>0.000000</td>\n",
       "    </tr>\n",
       "    <tr>\n",
       "      <th>25%</th>\n",
       "      <td>0.000000</td>\n",
       "      <td>2.000000</td>\n",
       "      <td>20.125000</td>\n",
       "      <td>0.000000</td>\n",
       "      <td>0.000000</td>\n",
       "      <td>7.910400</td>\n",
       "    </tr>\n",
       "    <tr>\n",
       "      <th>50%</th>\n",
       "      <td>0.000000</td>\n",
       "      <td>3.000000</td>\n",
       "      <td>28.000000</td>\n",
       "      <td>0.000000</td>\n",
       "      <td>0.000000</td>\n",
       "      <td>14.454200</td>\n",
       "    </tr>\n",
       "    <tr>\n",
       "      <th>75%</th>\n",
       "      <td>1.000000</td>\n",
       "      <td>3.000000</td>\n",
       "      <td>38.000000</td>\n",
       "      <td>1.000000</td>\n",
       "      <td>0.000000</td>\n",
       "      <td>31.000000</td>\n",
       "    </tr>\n",
       "    <tr>\n",
       "      <th>max</th>\n",
       "      <td>1.000000</td>\n",
       "      <td>3.000000</td>\n",
       "      <td>80.000000</td>\n",
       "      <td>8.000000</td>\n",
       "      <td>6.000000</td>\n",
       "      <td>512.329200</td>\n",
       "    </tr>\n",
       "  </tbody>\n",
       "</table>\n",
       "</div>"
      ],
      "text/plain": [
       "         survived      pclass         age       sibsp       parch        fare\n",
       "count  891.000000  891.000000  714.000000  891.000000  891.000000  891.000000\n",
       "mean     0.383838    2.308642   29.699118    0.523008    0.381594   32.204208\n",
       "std      0.486592    0.836071   14.526497    1.102743    0.806057   49.693429\n",
       "min      0.000000    1.000000    0.420000    0.000000    0.000000    0.000000\n",
       "25%      0.000000    2.000000   20.125000    0.000000    0.000000    7.910400\n",
       "50%      0.000000    3.000000   28.000000    0.000000    0.000000   14.454200\n",
       "75%      1.000000    3.000000   38.000000    1.000000    0.000000   31.000000\n",
       "max      1.000000    3.000000   80.000000    8.000000    6.000000  512.329200"
      ]
     },
     "execution_count": 17,
     "metadata": {},
     "output_type": "execute_result"
    }
   ],
   "source": [
    "df.describe()"
   ]
  },
  {
   "cell_type": "code",
   "execution_count": 18,
   "id": "803b4d40",
   "metadata": {},
   "outputs": [
    {
     "data": {
      "application/vnd.microsoft.datawrangler.viewer.v0+json": {
       "columns": [
        {
         "name": "index",
         "rawType": "object",
         "type": "string"
        },
        {
         "name": "0",
         "rawType": "float64",
         "type": "float"
        }
       ],
       "ref": "37ed4bdb-cb1e-492f-9133-52333c02b2b6",
       "rows": [
        [
         "survived",
         "0.0"
        ],
        [
         "pclass",
         "0.0"
        ],
        [
         "sex",
         "0.0"
        ],
        [
         "age",
         "19.865319865319865"
        ],
        [
         "sibsp",
         "0.0"
        ],
        [
         "parch",
         "0.0"
        ],
        [
         "fare",
         "0.0"
        ],
        [
         "embarked",
         "0.22446689113355783"
        ],
        [
         "class",
         "0.0"
        ],
        [
         "who",
         "0.0"
        ],
        [
         "adult_male",
         "0.0"
        ],
        [
         "deck",
         "77.21661054994388"
        ],
        [
         "embark_town",
         "0.22446689113355783"
        ],
        [
         "alive",
         "0.0"
        ],
        [
         "alone",
         "0.0"
        ]
       ],
       "shape": {
        "columns": 1,
        "rows": 15
       }
      },
      "text/plain": [
       "survived        0.000000\n",
       "pclass          0.000000\n",
       "sex             0.000000\n",
       "age            19.865320\n",
       "sibsp           0.000000\n",
       "parch           0.000000\n",
       "fare            0.000000\n",
       "embarked        0.224467\n",
       "class           0.000000\n",
       "who             0.000000\n",
       "adult_male      0.000000\n",
       "deck           77.216611\n",
       "embark_town     0.224467\n",
       "alive           0.000000\n",
       "alone           0.000000\n",
       "dtype: float64"
      ]
     },
     "execution_count": 18,
     "metadata": {},
     "output_type": "execute_result"
    }
   ],
   "source": [
    "#find missing values/null values/NaNs\n",
    "df.isnull().sum() #count the missing values\n",
    "df.isnull().sum() /len(df) * 100 #percentage of missing values in a column  "
   ]
  },
  {
   "cell_type": "code",
   "execution_count": 19,
   "id": "43b02ad8",
   "metadata": {},
   "outputs": [
    {
     "data": {
      "text/plain": [
       "<Axes: >"
      ]
     },
     "execution_count": 19,
     "metadata": {},
     "output_type": "execute_result"
    },
    {
     "data": {
      "image/png": "[encoded data removed]",
      "text/plain": [
       "<Figure size 640x480 with 2 Axes>"
      ]
     },
     "metadata": {},
     "output_type": "display_data"
    }
   ],
   "source": [
    "sns.heatmap(df.isnull())"
   ]
  },
  {
   "cell_type": "code",
   "execution_count": 20,
   "id": "77dc5216",
   "metadata": {},
   "outputs": [
    {
     "data": {
      "application/vnd.microsoft.datawrangler.viewer.v0+json": {
       "columns": [
        {
         "name": "index",
         "rawType": "int64",
         "type": "integer"
        },
        {
         "name": "survived",
         "rawType": "int64",
         "type": "integer"
        },
        {
         "name": "pclass",
         "rawType": "int64",
         "type": "integer"
        },
        {
         "name": "sex",
         "rawType": "object",
         "type": "string"
        },
        {
         "name": "age",
         "rawType": "float64",
         "type": "float"
        },
        {
         "name": "sibsp",
         "rawType": "int64",
         "type": "integer"
        },
        {
         "name": "parch",
         "rawType": "int64",
         "type": "integer"
        },
        {
         "name": "fare",
         "rawType": "float64",
         "type": "float"
        },
        {
         "name": "embarked",
         "rawType": "object",
         "type": "string"
        },
        {
         "name": "class",
         "rawType": "category",
         "type": "unknown"
        },
        {
         "name": "who",
         "rawType": "object",
         "type": "string"
        },
        {
         "name": "adult_male",
         "rawType": "bool",
         "type": "boolean"
        },
        {
         "name": "deck",
         "rawType": "category",
         "type": "unknown"
        },
        {
         "name": "embark_town",
         "rawType": "object",
         "type": "string"
        },
        {
         "name": "alive",
         "rawType": "object",
         "type": "string"
        },
        {
         "name": "alone",
         "rawType": "bool",
         "type": "boolean"
        }
       ],
       "ref": "db0e5dfc-3393-4c94-9a3e-8c4021072c89",
       "rows": [
        [
         "0",
         "0",
         "3",
         "male",
         "22.0",
         "1",
         "0",
         "7.25",
         "S",
         "Third",
         "man",
         "True",
         null,
         "Southampton",
         "no",
         "False"
        ],
        [
         "1",
         "1",
         "1",
         "female",
         "38.0",
         "1",
         "0",
         "71.2833",
         "C",
         "First",
         "woman",
         "False",
         "C",
         "Cherbourg",
         "yes",
         "False"
        ],
        [
         "2",
         "1",
         "3",
         "female",
         "26.0",
         "0",
         "0",
         "7.925",
         "S",
         "Third",
         "woman",
         "False",
         null,
         "Southampton",
         "yes",
         "True"
        ],
        [
         "3",
         "1",
         "1",
         "female",
         "35.0",
         "1",
         "0",
         "53.1",
         "S",
         "First",
         "woman",
         "False",
         "C",
         "Southampton",
         "yes",
         "False"
        ],
        [
         "4",
         "0",
         "3",
         "male",
         "35.0",
         "0",
         "0",
         "8.05",
         "S",
         "Third",
         "man",
         "True",
         null,
         "Southampton",
         "no",
         "True"
        ]
       ],
       "shape": {
        "columns": 15,
        "rows": 5
       }
      },
      "text/html": [
       "<div>\n",
       "<style scoped>\n",
       "    .dataframe tbody tr th:only-of-type {\n",
       "        vertical-align: middle;\n",
       "    }\n",
       "\n",
       "    .dataframe tbody tr th {\n",
       "        vertical-align: top;\n",
       "    }\n",
       "\n",
       "    .dataframe thead th {\n",
       "        text-align: right;\n",
       "    }\n",
       "</style>\n",
       "<table border=\"1\" class=\"dataframe\">\n",
       "  <thead>\n",
       "    <tr style=\"text-align: right;\">\n",
       "      <th></th>\n",
       "      <th>survived</th>\n",
       "      <th>pclass</th>\n",
       "      <th>sex</th>\n",
       "      <th>age</th>\n",
       "      <th>sibsp</th>\n",
       "      <th>parch</th>\n",
       "      <th>fare</th>\n",
       "      <th>embarked</th>\n",
       "      <th>class</th>\n",
       "      <th>who</th>\n",
       "      <th>adult_male</th>\n",
       "      <th>deck</th>\n",
       "      <th>embark_town</th>\n",
       "      <th>alive</th>\n",
       "      <th>alone</th>\n",
       "    </tr>\n",
       "  </thead>\n",
       "  <tbody>\n",
       "    <tr>\n",
       "      <th>0</th>\n",
       "      <td>0</td>\n",
       "      <td>3</td>\n",
       "      <td>male</td>\n",
       "      <td>22.0</td>\n",
       "      <td>1</td>\n",
       "      <td>0</td>\n",
       "      <td>7.2500</td>\n",
       "      <td>S</td>\n",
       "      <td>Third</td>\n",
       "      <td>man</td>\n",
       "      <td>True</td>\n",
       "      <td>NaN</td>\n",
       "      <td>Southampton</td>\n",
       "      <td>no</td>\n",
       "      <td>False</td>\n",
       "    </tr>\n",
       "    <tr>\n",
       "      <th>1</th>\n",
       "      <td>1</td>\n",
       "      <td>1</td>\n",
       "      <td>female</td>\n",
       "      <td>38.0</td>\n",
       "      <td>1</td>\n",
       "      <td>0</td>\n",
       "      <td>71.2833</td>\n",
       "      <td>C</td>\n",
       "      <td>First</td>\n",
       "      <td>woman</td>\n",
       "      <td>False</td>\n",
       "      <td>C</td>\n",
       "      <td>Cherbourg</td>\n",
       "      <td>yes</td>\n",
       "      <td>False</td>\n",
       "    </tr>\n",
       "    <tr>\n",
       "      <th>2</th>\n",
       "      <td>1</td>\n",
       "      <td>3</td>\n",
       "      <td>female</td>\n",
       "      <td>26.0</td>\n",
       "      <td>0</td>\n",
       "      <td>0</td>\n",
       "      <td>7.9250</td>\n",
       "      <td>S</td>\n",
       "      <td>Third</td>\n",
       "      <td>woman</td>\n",
       "      <td>False</td>\n",
       "      <td>NaN</td>\n",
       "      <td>Southampton</td>\n",
       "      <td>yes</td>\n",
       "      <td>True</td>\n",
       "    </tr>\n",
       "    <tr>\n",
       "      <th>3</th>\n",
       "      <td>1</td>\n",
       "      <td>1</td>\n",
       "      <td>female</td>\n",
       "      <td>35.0</td>\n",
       "      <td>1</td>\n",
       "      <td>0</td>\n",
       "      <td>53.1000</td>\n",
       "      <td>S</td>\n",
       "      <td>First</td>\n",
       "      <td>woman</td>\n",
       "      <td>False</td>\n",
       "      <td>C</td>\n",
       "      <td>Southampton</td>\n",
       "      <td>yes</td>\n",
       "      <td>False</td>\n",
       "    </tr>\n",
       "    <tr>\n",
       "      <th>4</th>\n",
       "      <td>0</td>\n",
       "      <td>3</td>\n",
       "      <td>male</td>\n",
       "      <td>35.0</td>\n",
       "      <td>0</td>\n",
       "      <td>0</td>\n",
       "      <td>8.0500</td>\n",
       "      <td>S</td>\n",
       "      <td>Third</td>\n",
       "      <td>man</td>\n",
       "      <td>True</td>\n",
       "      <td>NaN</td>\n",
       "      <td>Southampton</td>\n",
       "      <td>no</td>\n",
       "      <td>True</td>\n",
       "    </tr>\n",
       "  </tbody>\n",
       "</table>\n",
       "</div>"
      ],
      "text/plain": [
       "   survived  pclass     sex   age  sibsp  parch     fare embarked  class  \\\n",
       "0         0       3    male  22.0      1      0   7.2500        S  Third   \n",
       "1         1       1  female  38.0      1      0  71.2833        C  First   \n",
       "2         1       3  female  26.0      0      0   7.9250        S  Third   \n",
       "3         1       1  female  35.0      1      0  53.1000        S  First   \n",
       "4         0       3    male  35.0      0      0   8.0500        S  Third   \n",
       "\n",
       "     who  adult_male deck  embark_town alive  alone  \n",
       "0    man        True  NaN  Southampton    no  False  \n",
       "1  woman       False    C    Cherbourg   yes  False  \n",
       "2  woman       False  NaN  Southampton   yes   True  \n",
       "3  woman       False    C  Southampton   yes  False  \n",
       "4    man        True  NaN  Southampton    no   True  "
      ]
     },
     "execution_count": 20,
     "metadata": {},
     "output_type": "execute_result"
    }
   ],
   "source": [
    "#unique value\n",
    "df.head()"
   ]
  },
  {
   "cell_type": "code",
   "execution_count": 21,
   "id": "6892f3d6",
   "metadata": {},
   "outputs": [
    {
     "data": {
      "application/vnd.microsoft.datawrangler.viewer.v0+json": {
       "columns": [
        {
         "name": "index",
         "rawType": "int64",
         "type": "integer"
        },
        {
         "name": "sex",
         "rawType": "object",
         "type": "string"
        },
        {
         "name": "age",
         "rawType": "float64",
         "type": "float"
        },
        {
         "name": "fare",
         "rawType": "float64",
         "type": "float"
        }
       ],
       "ref": "834f47fb-ce07-42e5-a291-63d1d9218c53",
       "rows": [
        [
         "0",
         "male",
         "22.0",
         "7.25"
        ],
        [
         "1",
         "female",
         "38.0",
         "71.2833"
        ],
        [
         "2",
         "female",
         "26.0",
         "7.925"
        ],
        [
         "3",
         "female",
         "35.0",
         "53.1"
        ],
        [
         "4",
         "male",
         "35.0",
         "8.05"
        ],
        [
         "5",
         "male",
         null,
         "8.4583"
        ],
        [
         "6",
         "male",
         "54.0",
         "51.8625"
        ],
        [
         "7",
         "male",
         "2.0",
         "21.075"
        ],
        [
         "8",
         "female",
         "27.0",
         "11.1333"
        ],
        [
         "9",
         "female",
         "14.0",
         "30.0708"
        ],
        [
         "10",
         "female",
         "4.0",
         "16.7"
        ],
        [
         "11",
         "female",
         "58.0",
         "26.55"
        ],
        [
         "12",
         "male",
         "20.0",
         "8.05"
        ],
        [
         "13",
         "male",
         "39.0",
         "31.275"
        ],
        [
         "14",
         "female",
         "14.0",
         "7.8542"
        ],
        [
         "15",
         "female",
         "55.0",
         "16.0"
        ],
        [
         "16",
         "male",
         "2.0",
         "29.125"
        ],
        [
         "17",
         "male",
         null,
         "13.0"
        ],
        [
         "18",
         "female",
         "31.0",
         "18.0"
        ],
        [
         "19",
         "female",
         null,
         "7.225"
        ],
        [
         "20",
         "male",
         "35.0",
         "26.0"
        ],
        [
         "21",
         "male",
         "34.0",
         "13.0"
        ],
        [
         "22",
         "female",
         "15.0",
         "8.0292"
        ],
        [
         "23",
         "male",
         "28.0",
         "35.5"
        ],
        [
         "24",
         "female",
         "8.0",
         "21.075"
        ],
        [
         "25",
         "female",
         "38.0",
         "31.3875"
        ],
        [
         "26",
         "male",
         null,
         "7.225"
        ],
        [
         "27",
         "male",
         "19.0",
         "263.0"
        ],
        [
         "28",
         "female",
         null,
         "7.8792"
        ],
        [
         "29",
         "male",
         null,
         "7.8958"
        ],
        [
         "30",
         "male",
         "40.0",
         "27.7208"
        ],
        [
         "31",
         "female",
         null,
         "146.5208"
        ],
        [
         "32",
         "female",
         null,
         "7.75"
        ],
        [
         "33",
         "male",
         "66.0",
         "10.5"
        ],
        [
         "34",
         "male",
         "28.0",
         "82.1708"
        ],
        [
         "35",
         "male",
         "42.0",
         "52.0"
        ],
        [
         "36",
         "male",
         null,
         "7.2292"
        ],
        [
         "37",
         "male",
         "21.0",
         "8.05"
        ],
        [
         "38",
         "female",
         "18.0",
         "18.0"
        ],
        [
         "39",
         "female",
         "14.0",
         "11.2417"
        ],
        [
         "40",
         "female",
         "40.0",
         "9.475"
        ],
        [
         "41",
         "female",
         "27.0",
         "21.0"
        ],
        [
         "42",
         "male",
         null,
         "7.8958"
        ],
        [
         "43",
         "female",
         "3.0",
         "41.5792"
        ],
        [
         "44",
         "female",
         "19.0",
         "7.8792"
        ],
        [
         "45",
         "male",
         null,
         "8.05"
        ],
        [
         "46",
         "male",
         null,
         "15.5"
        ],
        [
         "47",
         "female",
         null,
         "7.75"
        ],
        [
         "48",
         "male",
         null,
         "21.6792"
        ],
        [
         "49",
         "female",
         "18.0",
         "17.8"
        ]
       ],
       "shape": {
        "columns": 3,
        "rows": 891
       }
      },
      "text/html": [
       "<div>\n",
       "<style scoped>\n",
       "    .dataframe tbody tr th:only-of-type {\n",
       "        vertical-align: middle;\n",
       "    }\n",
       "\n",
       "    .dataframe tbody tr th {\n",
       "        vertical-align: top;\n",
       "    }\n",
       "\n",
       "    .dataframe thead th {\n",
       "        text-align: right;\n",
       "    }\n",
       "</style>\n",
       "<table border=\"1\" class=\"dataframe\">\n",
       "  <thead>\n",
       "    <tr style=\"text-align: right;\">\n",
       "      <th></th>\n",
       "      <th>sex</th>\n",
       "      <th>age</th>\n",
       "      <th>fare</th>\n",
       "    </tr>\n",
       "  </thead>\n",
       "  <tbody>\n",
       "    <tr>\n",
       "      <th>0</th>\n",
       "      <td>male</td>\n",
       "      <td>22.0</td>\n",
       "      <td>7.2500</td>\n",
       "    </tr>\n",
       "    <tr>\n",
       "      <th>1</th>\n",
       "      <td>female</td>\n",
       "      <td>38.0</td>\n",
       "      <td>71.2833</td>\n",
       "    </tr>\n",
       "    <tr>\n",
       "      <th>2</th>\n",
       "      <td>female</td>\n",
       "      <td>26.0</td>\n",
       "      <td>7.9250</td>\n",
       "    </tr>\n",
       "    <tr>\n",
       "      <th>3</th>\n",
       "      <td>female</td>\n",
       "      <td>35.0</td>\n",
       "      <td>53.1000</td>\n",
       "    </tr>\n",
       "    <tr>\n",
       "      <th>4</th>\n",
       "      <td>male</td>\n",
       "      <td>35.0</td>\n",
       "      <td>8.0500</td>\n",
       "    </tr>\n",
       "    <tr>\n",
       "      <th>...</th>\n",
       "      <td>...</td>\n",
       "      <td>...</td>\n",
       "      <td>...</td>\n",
       "    </tr>\n",
       "    <tr>\n",
       "      <th>886</th>\n",
       "      <td>male</td>\n",
       "      <td>27.0</td>\n",
       "      <td>13.0000</td>\n",
       "    </tr>\n",
       "    <tr>\n",
       "      <th>887</th>\n",
       "      <td>female</td>\n",
       "      <td>19.0</td>\n",
       "      <td>30.0000</td>\n",
       "    </tr>\n",
       "    <tr>\n",
       "      <th>888</th>\n",
       "      <td>female</td>\n",
       "      <td>NaN</td>\n",
       "      <td>23.4500</td>\n",
       "    </tr>\n",
       "    <tr>\n",
       "      <th>889</th>\n",
       "      <td>male</td>\n",
       "      <td>26.0</td>\n",
       "      <td>30.0000</td>\n",
       "    </tr>\n",
       "    <tr>\n",
       "      <th>890</th>\n",
       "      <td>male</td>\n",
       "      <td>32.0</td>\n",
       "      <td>7.7500</td>\n",
       "    </tr>\n",
       "  </tbody>\n",
       "</table>\n",
       "<p>891 rows × 3 columns</p>\n",
       "</div>"
      ],
      "text/plain": [
       "        sex   age     fare\n",
       "0      male  22.0   7.2500\n",
       "1    female  38.0  71.2833\n",
       "2    female  26.0   7.9250\n",
       "3    female  35.0  53.1000\n",
       "4      male  35.0   8.0500\n",
       "..      ...   ...      ...\n",
       "886    male  27.0  13.0000\n",
       "887  female  19.0  30.0000\n",
       "888  female   NaN  23.4500\n",
       "889    male  26.0  30.0000\n",
       "890    male  32.0   7.7500\n",
       "\n",
       "[891 rows x 3 columns]"
      ]
     },
     "execution_count": 21,
     "metadata": {},
     "output_type": "execute_result"
    }
   ],
   "source": [
    "df['sex'] #To select one column by name\n",
    "df[['sex', 'age']] #to select two column\n",
    "df[['sex', 'age', 'fare']] #To select more than 2 columns"
   ]
  },
  {
   "cell_type": "code",
   "execution_count": 22,
   "id": "e4dbc6e2",
   "metadata": {},
   "outputs": [
    {
     "data": {
      "text/plain": [
       "2"
      ]
     },
     "execution_count": 22,
     "metadata": {},
     "output_type": "execute_result"
    }
   ],
   "source": [
    "df['sex'].unique() #unique values in a columns\n",
    "df.sex.nunique() # find numbers of unique values"
   ]
  },
  {
   "cell_type": "code",
   "execution_count": 23,
   "id": "ca836125",
   "metadata": {},
   "outputs": [
    {
     "data": {
      "application/vnd.microsoft.datawrangler.viewer.v0+json": {
       "columns": [
        {
         "name": "index",
         "rawType": "object",
         "type": "string"
        },
        {
         "name": "0",
         "rawType": "int64",
         "type": "integer"
        }
       ],
       "ref": "2f7427da-08f3-4199-8bb4-e274a4bbe58c",
       "rows": [
        [
         "survived",
         "2"
        ],
        [
         "pclass",
         "3"
        ],
        [
         "sex",
         "2"
        ],
        [
         "age",
         "88"
        ],
        [
         "sibsp",
         "7"
        ],
        [
         "parch",
         "7"
        ],
        [
         "fare",
         "248"
        ],
        [
         "embarked",
         "3"
        ],
        [
         "class",
         "3"
        ],
        [
         "who",
         "3"
        ],
        [
         "adult_male",
         "2"
        ],
        [
         "deck",
         "7"
        ],
        [
         "embark_town",
         "3"
        ],
        [
         "alive",
         "2"
        ],
        [
         "alone",
         "2"
        ]
       ],
       "shape": {
        "columns": 1,
        "rows": 15
       }
      },
      "text/plain": [
       "survived         2\n",
       "pclass           3\n",
       "sex              2\n",
       "age             88\n",
       "sibsp            7\n",
       "parch            7\n",
       "fare           248\n",
       "embarked         3\n",
       "class            3\n",
       "who              3\n",
       "adult_male       2\n",
       "deck             7\n",
       "embark_town      3\n",
       "alive            2\n",
       "alone            2\n",
       "dtype: int64"
      ]
     },
     "execution_count": 23,
     "metadata": {},
     "output_type": "execute_result"
    }
   ],
   "source": [
    "df.nunique() #To find the numbers of unique values in all columns"
   ]
  },
  {
   "cell_type": "code",
   "execution_count": 24,
   "id": "1c9760da",
   "metadata": {},
   "outputs": [
    {
     "data": {
      "text/plain": [
       "Index(['survived', 'pclass', 'sex', 'age', 'sibsp', 'parch', 'fare',\n",
       "       'embarked', 'class', 'who', 'adult_male', 'deck', 'embark_town',\n",
       "       'alive', 'alone'],\n",
       "      dtype='object')"
      ]
     },
     "execution_count": 24,
     "metadata": {},
     "output_type": "execute_result"
    }
   ],
   "source": [
    "df.columns #To print the column names"
   ]
  },
  {
   "cell_type": "code",
   "execution_count": 25,
   "id": "2d028898",
   "metadata": {},
   "outputs": [
    {
     "data": {
      "text/plain": [
       "array(['Southampton', 'Cherbourg', 'Queenstown', nan], dtype=object)"
      ]
     },
     "execution_count": 25,
     "metadata": {},
     "output_type": "execute_result"
    }
   ],
   "source": [
    "df['embark_town'].unique()"
   ]
  },
  {
   "cell_type": "code",
   "execution_count": 26,
   "id": "cc4ebbb4",
   "metadata": {},
   "outputs": [
    {
     "data": {
      "application/vnd.microsoft.datawrangler.viewer.v0+json": {
       "columns": [
        {
         "name": "embark_town",
         "rawType": "object",
         "type": "string"
        },
        {
         "name": "count",
         "rawType": "int64",
         "type": "integer"
        }
       ],
       "ref": "4021ff7a-4939-442a-a38e-66c62be89d13",
       "rows": [
        [
         "Southampton",
         "644"
        ],
        [
         "Cherbourg",
         "168"
        ],
        [
         "Queenstown",
         "77"
        ]
       ],
       "shape": {
        "columns": 1,
        "rows": 3
       }
      },
      "text/plain": [
       "embark_town\n",
       "Southampton    644\n",
       "Cherbourg      168\n",
       "Queenstown      77\n",
       "Name: count, dtype: int64"
      ]
     },
     "execution_count": 26,
     "metadata": {},
     "output_type": "execute_result"
    }
   ],
   "source": [
    "#value count\n",
    "df['embark_town'].value_counts()"
   ]
  },
  {
   "cell_type": "markdown",
   "id": "69521e85",
   "metadata": {},
   "source": [
    "# *Basic summary*"
   ]
  },
  {
   "cell_type": "code",
   "execution_count": 27,
   "id": "c969b399",
   "metadata": {},
   "outputs": [
    {
     "data": {
      "application/vnd.microsoft.datawrangler.viewer.v0+json": {
       "columns": [
        {
         "name": "index",
         "rawType": "object",
         "type": "string"
        },
        {
         "name": "survived",
         "rawType": "float64",
         "type": "float"
        },
        {
         "name": "pclass",
         "rawType": "float64",
         "type": "float"
        },
        {
         "name": "age",
         "rawType": "float64",
         "type": "float"
        },
        {
         "name": "sibsp",
         "rawType": "float64",
         "type": "float"
        },
        {
         "name": "parch",
         "rawType": "float64",
         "type": "float"
        },
        {
         "name": "fare",
         "rawType": "float64",
         "type": "float"
        }
       ],
       "ref": "cdbdd454-41b3-45ad-9202-4cfcf01c1960",
       "rows": [
        [
         "count",
         "891.0",
         "891.0",
         "714.0",
         "891.0",
         "891.0",
         "891.0"
        ],
        [
         "mean",
         "0.3838383838383838",
         "2.308641975308642",
         "29.69911764705882",
         "0.5230078563411896",
         "0.38159371492704824",
         "32.204207968574636"
        ],
        [
         "std",
         "0.4865924542648585",
         "0.8360712409770513",
         "14.526497332334044",
         "1.1027434322934275",
         "0.8060572211299559",
         "49.693428597180905"
        ],
        [
         "min",
         "0.0",
         "1.0",
         "0.42",
         "0.0",
         "0.0",
         "0.0"
        ],
        [
         "25%",
         "0.0",
         "2.0",
         "20.125",
         "0.0",
         "0.0",
         "7.9104"
        ],
        [
         "50%",
         "0.0",
         "3.0",
         "28.0",
         "0.0",
         "0.0",
         "14.4542"
        ],
        [
         "75%",
         "1.0",
         "3.0",
         "38.0",
         "1.0",
         "0.0",
         "31.0"
        ],
        [
         "max",
         "1.0",
         "3.0",
         "80.0",
         "8.0",
         "6.0",
         "512.3292"
        ]
       ],
       "shape": {
        "columns": 6,
        "rows": 8
       }
      },
      "text/html": [
       "<div>\n",
       "<style scoped>\n",
       "    .dataframe tbody tr th:only-of-type {\n",
       "        vertical-align: middle;\n",
       "    }\n",
       "\n",
       "    .dataframe tbody tr th {\n",
       "        vertical-align: top;\n",
       "    }\n",
       "\n",
       "    .dataframe thead th {\n",
       "        text-align: right;\n",
       "    }\n",
       "</style>\n",
       "<table border=\"1\" class=\"dataframe\">\n",
       "  <thead>\n",
       "    <tr style=\"text-align: right;\">\n",
       "      <th></th>\n",
       "      <th>survived</th>\n",
       "      <th>pclass</th>\n",
       "      <th>age</th>\n",
       "      <th>sibsp</th>\n",
       "      <th>parch</th>\n",
       "      <th>fare</th>\n",
       "    </tr>\n",
       "  </thead>\n",
       "  <tbody>\n",
       "    <tr>\n",
       "      <th>count</th>\n",
       "      <td>891.000000</td>\n",
       "      <td>891.000000</td>\n",
       "      <td>714.000000</td>\n",
       "      <td>891.000000</td>\n",
       "      <td>891.000000</td>\n",
       "      <td>891.000000</td>\n",
       "    </tr>\n",
       "    <tr>\n",
       "      <th>mean</th>\n",
       "      <td>0.383838</td>\n",
       "      <td>2.308642</td>\n",
       "      <td>29.699118</td>\n",
       "      <td>0.523008</td>\n",
       "      <td>0.381594</td>\n",
       "      <td>32.204208</td>\n",
       "    </tr>\n",
       "    <tr>\n",
       "      <th>std</th>\n",
       "      <td>0.486592</td>\n",
       "      <td>0.836071</td>\n",
       "      <td>14.526497</td>\n",
       "      <td>1.102743</td>\n",
       "      <td>0.806057</td>\n",
       "      <td>49.693429</td>\n",
       "    </tr>\n",
       "    <tr>\n",
       "      <th>min</th>\n",
       "      <td>0.000000</td>\n",
       "      <td>1.000000</td>\n",
       "      <td>0.420000</td>\n",
       "      <td>0.000000</td>\n",
       "      <td>0.000000</td>\n",
       "      <td>0.000000</td>\n",
       "    </tr>\n",
       "    <tr>\n",
       "      <th>25%</th>\n",
       "      <td>0.000000</td>\n",
       "      <td>2.000000</td>\n",
       "      <td>20.125000</td>\n",
       "      <td>0.000000</td>\n",
       "      <td>0.000000</td>\n",
       "      <td>7.910400</td>\n",
       "    </tr>\n",
       "    <tr>\n",
       "      <th>50%</th>\n",
       "      <td>0.000000</td>\n",
       "      <td>3.000000</td>\n",
       "      <td>28.000000</td>\n",
       "      <td>0.000000</td>\n",
       "      <td>0.000000</td>\n",
       "      <td>14.454200</td>\n",
       "    </tr>\n",
       "    <tr>\n",
       "      <th>75%</th>\n",
       "      <td>1.000000</td>\n",
       "      <td>3.000000</td>\n",
       "      <td>38.000000</td>\n",
       "      <td>1.000000</td>\n",
       "      <td>0.000000</td>\n",
       "      <td>31.000000</td>\n",
       "    </tr>\n",
       "    <tr>\n",
       "      <th>max</th>\n",
       "      <td>1.000000</td>\n",
       "      <td>3.000000</td>\n",
       "      <td>80.000000</td>\n",
       "      <td>8.000000</td>\n",
       "      <td>6.000000</td>\n",
       "      <td>512.329200</td>\n",
       "    </tr>\n",
       "  </tbody>\n",
       "</table>\n",
       "</div>"
      ],
      "text/plain": [
       "         survived      pclass         age       sibsp       parch        fare\n",
       "count  891.000000  891.000000  714.000000  891.000000  891.000000  891.000000\n",
       "mean     0.383838    2.308642   29.699118    0.523008    0.381594   32.204208\n",
       "std      0.486592    0.836071   14.526497    1.102743    0.806057   49.693429\n",
       "min      0.000000    1.000000    0.420000    0.000000    0.000000    0.000000\n",
       "25%      0.000000    2.000000   20.125000    0.000000    0.000000    7.910400\n",
       "50%      0.000000    3.000000   28.000000    0.000000    0.000000   14.454200\n",
       "75%      1.000000    3.000000   38.000000    1.000000    0.000000   31.000000\n",
       "max      1.000000    3.000000   80.000000    8.000000    6.000000  512.329200"
      ]
     },
     "execution_count": 27,
     "metadata": {},
     "output_type": "execute_result"
    }
   ],
   "source": [
    "#summary\n",
    "df.describe()"
   ]
  },
  {
   "cell_type": "code",
   "execution_count": 28,
   "id": "c6ac3a5b",
   "metadata": {},
   "outputs": [
    {
     "data": {
      "application/vnd.microsoft.datawrangler.viewer.v0+json": {
       "columns": [
        {
         "name": "index",
         "rawType": "int64",
         "type": "integer"
        },
        {
         "name": "survived",
         "rawType": "int64",
         "type": "integer"
        },
        {
         "name": "pclass",
         "rawType": "int64",
         "type": "integer"
        },
        {
         "name": "sex",
         "rawType": "object",
         "type": "string"
        },
        {
         "name": "age",
         "rawType": "float64",
         "type": "float"
        },
        {
         "name": "sibsp",
         "rawType": "int64",
         "type": "integer"
        },
        {
         "name": "parch",
         "rawType": "int64",
         "type": "integer"
        },
        {
         "name": "fare",
         "rawType": "float64",
         "type": "float"
        },
        {
         "name": "embarked",
         "rawType": "object",
         "type": "string"
        },
        {
         "name": "class",
         "rawType": "category",
         "type": "unknown"
        },
        {
         "name": "who",
         "rawType": "object",
         "type": "string"
        },
        {
         "name": "adult_male",
         "rawType": "bool",
         "type": "boolean"
        },
        {
         "name": "deck",
         "rawType": "category",
         "type": "unknown"
        },
        {
         "name": "embark_town",
         "rawType": "object",
         "type": "string"
        },
        {
         "name": "alive",
         "rawType": "object",
         "type": "string"
        },
        {
         "name": "alone",
         "rawType": "bool",
         "type": "boolean"
        }
       ],
       "ref": "22dc311e-3f25-4189-80ca-8127123ab554",
       "rows": [
        [
         "0",
         "0",
         "3",
         "male",
         "22.0",
         "1",
         "0",
         "7.25",
         "S",
         "Third",
         "man",
         "True",
         null,
         "Southampton",
         "no",
         "False"
        ],
        [
         "1",
         "1",
         "1",
         "female",
         "38.0",
         "1",
         "0",
         "71.2833",
         "C",
         "First",
         "woman",
         "False",
         "C",
         "Cherbourg",
         "yes",
         "False"
        ],
        [
         "2",
         "1",
         "3",
         "female",
         "26.0",
         "0",
         "0",
         "7.925",
         "S",
         "Third",
         "woman",
         "False",
         null,
         "Southampton",
         "yes",
         "True"
        ],
        [
         "3",
         "1",
         "1",
         "female",
         "35.0",
         "1",
         "0",
         "53.1",
         "S",
         "First",
         "woman",
         "False",
         "C",
         "Southampton",
         "yes",
         "False"
        ],
        [
         "4",
         "0",
         "3",
         "male",
         "35.0",
         "0",
         "0",
         "8.05",
         "S",
         "Third",
         "man",
         "True",
         null,
         "Southampton",
         "no",
         "True"
        ]
       ],
       "shape": {
        "columns": 15,
        "rows": 5
       }
      },
      "text/html": [
       "<div>\n",
       "<style scoped>\n",
       "    .dataframe tbody tr th:only-of-type {\n",
       "        vertical-align: middle;\n",
       "    }\n",
       "\n",
       "    .dataframe tbody tr th {\n",
       "        vertical-align: top;\n",
       "    }\n",
       "\n",
       "    .dataframe thead th {\n",
       "        text-align: right;\n",
       "    }\n",
       "</style>\n",
       "<table border=\"1\" class=\"dataframe\">\n",
       "  <thead>\n",
       "    <tr style=\"text-align: right;\">\n",
       "      <th></th>\n",
       "      <th>survived</th>\n",
       "      <th>pclass</th>\n",
       "      <th>sex</th>\n",
       "      <th>age</th>\n",
       "      <th>sibsp</th>\n",
       "      <th>parch</th>\n",
       "      <th>fare</th>\n",
       "      <th>embarked</th>\n",
       "      <th>class</th>\n",
       "      <th>who</th>\n",
       "      <th>adult_male</th>\n",
       "      <th>deck</th>\n",
       "      <th>embark_town</th>\n",
       "      <th>alive</th>\n",
       "      <th>alone</th>\n",
       "    </tr>\n",
       "  </thead>\n",
       "  <tbody>\n",
       "    <tr>\n",
       "      <th>0</th>\n",
       "      <td>0</td>\n",
       "      <td>3</td>\n",
       "      <td>male</td>\n",
       "      <td>22.0</td>\n",
       "      <td>1</td>\n",
       "      <td>0</td>\n",
       "      <td>7.2500</td>\n",
       "      <td>S</td>\n",
       "      <td>Third</td>\n",
       "      <td>man</td>\n",
       "      <td>True</td>\n",
       "      <td>NaN</td>\n",
       "      <td>Southampton</td>\n",
       "      <td>no</td>\n",
       "      <td>False</td>\n",
       "    </tr>\n",
       "    <tr>\n",
       "      <th>1</th>\n",
       "      <td>1</td>\n",
       "      <td>1</td>\n",
       "      <td>female</td>\n",
       "      <td>38.0</td>\n",
       "      <td>1</td>\n",
       "      <td>0</td>\n",
       "      <td>71.2833</td>\n",
       "      <td>C</td>\n",
       "      <td>First</td>\n",
       "      <td>woman</td>\n",
       "      <td>False</td>\n",
       "      <td>C</td>\n",
       "      <td>Cherbourg</td>\n",
       "      <td>yes</td>\n",
       "      <td>False</td>\n",
       "    </tr>\n",
       "    <tr>\n",
       "      <th>2</th>\n",
       "      <td>1</td>\n",
       "      <td>3</td>\n",
       "      <td>female</td>\n",
       "      <td>26.0</td>\n",
       "      <td>0</td>\n",
       "      <td>0</td>\n",
       "      <td>7.9250</td>\n",
       "      <td>S</td>\n",
       "      <td>Third</td>\n",
       "      <td>woman</td>\n",
       "      <td>False</td>\n",
       "      <td>NaN</td>\n",
       "      <td>Southampton</td>\n",
       "      <td>yes</td>\n",
       "      <td>True</td>\n",
       "    </tr>\n",
       "    <tr>\n",
       "      <th>3</th>\n",
       "      <td>1</td>\n",
       "      <td>1</td>\n",
       "      <td>female</td>\n",
       "      <td>35.0</td>\n",
       "      <td>1</td>\n",
       "      <td>0</td>\n",
       "      <td>53.1000</td>\n",
       "      <td>S</td>\n",
       "      <td>First</td>\n",
       "      <td>woman</td>\n",
       "      <td>False</td>\n",
       "      <td>C</td>\n",
       "      <td>Southampton</td>\n",
       "      <td>yes</td>\n",
       "      <td>False</td>\n",
       "    </tr>\n",
       "    <tr>\n",
       "      <th>4</th>\n",
       "      <td>0</td>\n",
       "      <td>3</td>\n",
       "      <td>male</td>\n",
       "      <td>35.0</td>\n",
       "      <td>0</td>\n",
       "      <td>0</td>\n",
       "      <td>8.0500</td>\n",
       "      <td>S</td>\n",
       "      <td>Third</td>\n",
       "      <td>man</td>\n",
       "      <td>True</td>\n",
       "      <td>NaN</td>\n",
       "      <td>Southampton</td>\n",
       "      <td>no</td>\n",
       "      <td>True</td>\n",
       "    </tr>\n",
       "  </tbody>\n",
       "</table>\n",
       "</div>"
      ],
      "text/plain": [
       "   survived  pclass     sex   age  sibsp  parch     fare embarked  class  \\\n",
       "0         0       3    male  22.0      1      0   7.2500        S  Third   \n",
       "1         1       1  female  38.0      1      0  71.2833        C  First   \n",
       "2         1       3  female  26.0      0      0   7.9250        S  Third   \n",
       "3         1       1  female  35.0      1      0  53.1000        S  First   \n",
       "4         0       3    male  35.0      0      0   8.0500        S  Third   \n",
       "\n",
       "     who  adult_male deck  embark_town alive  alone  \n",
       "0    man        True  NaN  Southampton    no  False  \n",
       "1  woman       False    C    Cherbourg   yes  False  \n",
       "2  woman       False  NaN  Southampton   yes   True  \n",
       "3  woman       False    C  Southampton   yes  False  \n",
       "4    man        True  NaN  Southampton    no   True  "
      ]
     },
     "execution_count": 28,
     "metadata": {},
     "output_type": "execute_result"
    }
   ],
   "source": [
    "df.head()"
   ]
  },
  {
   "cell_type": "code",
   "execution_count": 29,
   "id": "c81c6416",
   "metadata": {},
   "outputs": [
    {
     "data": {
      "application/vnd.microsoft.datawrangler.viewer.v0+json": {
       "columns": [
        {
         "name": "('survived', 'sex')",
         "rawType": "object",
         "type": "unknown"
        },
        {
         "name": "fare",
         "rawType": "float64",
         "type": "float"
        }
       ],
       "ref": "4a2723cc-8735-4ca3-8f53-7dce66c8e2b4",
       "rows": [
        [
         "(np.int64(0), 'female')",
         "23.024385185185185"
        ],
        [
         "(np.int64(0), 'male')",
         "21.960992948717948"
        ],
        [
         "(np.int64(1), 'female')",
         "51.938573390557934"
        ],
        [
         "(np.int64(1), 'male')",
         "40.82148440366972"
        ]
       ],
       "shape": {
        "columns": 1,
        "rows": 4
       }
      },
      "text/plain": [
       "survived  sex   \n",
       "0         female    23.024385\n",
       "          male      21.960993\n",
       "1         female    51.938573\n",
       "          male      40.821484\n",
       "Name: fare, dtype: float64"
      ]
     },
     "execution_count": 29,
     "metadata": {},
     "output_type": "execute_result"
    }
   ],
   "source": [
    "#find mean fare of both males and females using groupby functions\n",
    "df.groupby('sex')['fare'].mean()\n",
    "df.groupby(['survived', 'sex'])['fare'].mean()\n"
   ]
  },
  {
   "cell_type": "code",
   "execution_count": 30,
   "id": "70fd40a3",
   "metadata": {},
   "outputs": [
    {
     "data": {
      "application/vnd.microsoft.datawrangler.viewer.v0+json": {
       "columns": [
        {
         "name": "('survived', 'sex')",
         "rawType": "object",
         "type": "unknown"
        },
        {
         "name": "0",
         "rawType": "int64",
         "type": "integer"
        }
       ],
       "ref": "d863e01b-e5d5-40b9-a0e0-d9619a74760b",
       "rows": [
        [
         "(np.int64(0), 'female')",
         "81"
        ],
        [
         "(np.int64(0), 'male')",
         "468"
        ],
        [
         "(np.int64(1), 'female')",
         "233"
        ],
        [
         "(np.int64(1), 'male')",
         "109"
        ]
       ],
       "shape": {
        "columns": 1,
        "rows": 4
       }
      },
      "text/plain": [
       "survived  sex   \n",
       "0         female     81\n",
       "          male      468\n",
       "1         female    233\n",
       "          male      109\n",
       "dtype: int64"
      ]
     },
     "execution_count": 30,
     "metadata": {},
     "output_type": "execute_result"
    }
   ],
   "source": [
    "df.groupby(['survived', 'sex']).size()"
   ]
  },
  {
   "cell_type": "code",
   "execution_count": 31,
   "id": "e5d0dd13",
   "metadata": {},
   "outputs": [],
   "source": [
    "#correlation matrix\n",
    "correlation_df = df[['fare', 'age', 'sibsp', 'parch']].corr()"
   ]
  },
  {
   "cell_type": "code",
   "execution_count": 32,
   "id": "ea14f1b8",
   "metadata": {},
   "outputs": [
    {
     "data": {
      "text/plain": [
       "<Axes: >"
      ]
     },
     "execution_count": 32,
     "metadata": {},
     "output_type": "execute_result"
    },
    {
     "data": {
      "image/png": "[encoded data removed]",
      "text/plain": [
       "<Figure size 640x480 with 2 Axes>"
      ]
     },
     "metadata": {},
     "output_type": "display_data"
    }
   ],
   "source": [
    "sns.heatmap(correlation_df, annot=True)"
   ]
  },
  {
   "cell_type": "code",
   "execution_count": 33,
   "id": "2b457cb9",
   "metadata": {},
   "outputs": [
    {
     "data": {
      "text/plain": [
       "<seaborn.axisgrid.PairGrid at 0x201bb613310>"
      ]
     },
     "execution_count": 33,
     "metadata": {},
     "output_type": "execute_result"
    },
    {
     "data": {
      "image/png": "[encoded data removed]",
      "text/plain": [
       "<Figure size 2000x2000 with 72 Axes>"
      ]
     },
     "metadata": {},
     "output_type": "display_data"
    }
   ],
   "source": [
    "sns.pairplot(df)"
   ]
  },
  {
   "cell_type": "markdown",
   "id": "6c412da2",
   "metadata": {},
   "source": [
    "# _More pandas ki tips_"
   ]
  },
  {
   "cell_type": "code",
   "execution_count": 34,
   "id": "d618d012",
   "metadata": {},
   "outputs": [],
   "source": [
    "#Importing libraries\n",
    "import pandas as pd\n",
    "import numpy as np\n",
    "import matplotlib.pyplot as plt\n",
    "import seaborn as sns"
   ]
  },
  {
   "cell_type": "code",
   "execution_count": 35,
   "id": "6072dbac",
   "metadata": {},
   "outputs": [],
   "source": [
    "#data import\n",
    "df = sns.load_dataset('titanic')"
   ]
  },
  {
   "cell_type": "code",
   "execution_count": 36,
   "id": "7243f47c",
   "metadata": {},
   "outputs": [
    {
     "data": {
      "application/vnd.microsoft.datawrangler.viewer.v0+json": {
       "columns": [
        {
         "name": "index",
         "rawType": "int64",
         "type": "integer"
        },
        {
         "name": "survived",
         "rawType": "int64",
         "type": "integer"
        },
        {
         "name": "pclass",
         "rawType": "int64",
         "type": "integer"
        },
        {
         "name": "sex",
         "rawType": "object",
         "type": "string"
        },
        {
         "name": "age",
         "rawType": "float64",
         "type": "float"
        },
        {
         "name": "sibsp",
         "rawType": "int64",
         "type": "integer"
        },
        {
         "name": "parch",
         "rawType": "int64",
         "type": "integer"
        },
        {
         "name": "fare",
         "rawType": "float64",
         "type": "float"
        },
        {
         "name": "embarked",
         "rawType": "object",
         "type": "unknown"
        },
        {
         "name": "class",
         "rawType": "category",
         "type": "unknown"
        },
        {
         "name": "who",
         "rawType": "object",
         "type": "string"
        },
        {
         "name": "adult_male",
         "rawType": "bool",
         "type": "boolean"
        },
        {
         "name": "deck",
         "rawType": "category",
         "type": "unknown"
        },
        {
         "name": "embark_town",
         "rawType": "object",
         "type": "unknown"
        },
        {
         "name": "alive",
         "rawType": "object",
         "type": "string"
        },
        {
         "name": "alone",
         "rawType": "bool",
         "type": "boolean"
        }
       ],
       "ref": "56fdfa89-9a03-4b9f-9316-f439952756d4",
       "rows": [
        [
         "0",
         "0",
         "3",
         "male",
         "22.0",
         "1",
         "0",
         "7.25",
         "S",
         "Third",
         "man",
         "True",
         null,
         "Southampton",
         "no",
         "False"
        ],
        [
         "1",
         "1",
         "1",
         "female",
         "38.0",
         "1",
         "0",
         "71.2833",
         "C",
         "First",
         "woman",
         "False",
         "C",
         "Cherbourg",
         "yes",
         "False"
        ],
        [
         "2",
         "1",
         "3",
         "female",
         "26.0",
         "0",
         "0",
         "7.925",
         "S",
         "Third",
         "woman",
         "False",
         null,
         "Southampton",
         "yes",
         "True"
        ],
        [
         "3",
         "1",
         "1",
         "female",
         "35.0",
         "1",
         "0",
         "53.1",
         "S",
         "First",
         "woman",
         "False",
         "C",
         "Southampton",
         "yes",
         "False"
        ],
        [
         "4",
         "0",
         "3",
         "male",
         "35.0",
         "0",
         "0",
         "8.05",
         "S",
         "Third",
         "man",
         "True",
         null,
         "Southampton",
         "no",
         "True"
        ],
        [
         "5",
         "0",
         "3",
         "male",
         null,
         "0",
         "0",
         "8.4583",
         "Q",
         "Third",
         "man",
         "True",
         null,
         "Queenstown",
         "no",
         "True"
        ],
        [
         "6",
         "0",
         "1",
         "male",
         "54.0",
         "0",
         "0",
         "51.8625",
         "S",
         "First",
         "man",
         "True",
         "E",
         "Southampton",
         "no",
         "True"
        ],
        [
         "7",
         "0",
         "3",
         "male",
         "2.0",
         "3",
         "1",
         "21.075",
         "S",
         "Third",
         "child",
         "False",
         null,
         "Southampton",
         "no",
         "False"
        ],
        [
         "8",
         "1",
         "3",
         "female",
         "27.0",
         "0",
         "2",
         "11.1333",
         "S",
         "Third",
         "woman",
         "False",
         null,
         "Southampton",
         "yes",
         "False"
        ],
        [
         "9",
         "1",
         "2",
         "female",
         "14.0",
         "1",
         "0",
         "30.0708",
         "C",
         "Second",
         "child",
         "False",
         null,
         "Cherbourg",
         "yes",
         "False"
        ],
        [
         "10",
         "1",
         "3",
         "female",
         "4.0",
         "1",
         "1",
         "16.7",
         "S",
         "Third",
         "child",
         "False",
         "G",
         "Southampton",
         "yes",
         "False"
        ],
        [
         "11",
         "1",
         "1",
         "female",
         "58.0",
         "0",
         "0",
         "26.55",
         "S",
         "First",
         "woman",
         "False",
         "C",
         "Southampton",
         "yes",
         "True"
        ],
        [
         "12",
         "0",
         "3",
         "male",
         "20.0",
         "0",
         "0",
         "8.05",
         "S",
         "Third",
         "man",
         "True",
         null,
         "Southampton",
         "no",
         "True"
        ],
        [
         "13",
         "0",
         "3",
         "male",
         "39.0",
         "1",
         "5",
         "31.275",
         "S",
         "Third",
         "man",
         "True",
         null,
         "Southampton",
         "no",
         "False"
        ],
        [
         "14",
         "0",
         "3",
         "female",
         "14.0",
         "0",
         "0",
         "7.8542",
         "S",
         "Third",
         "child",
         "False",
         null,
         "Southampton",
         "no",
         "True"
        ],
        [
         "15",
         "1",
         "2",
         "female",
         "55.0",
         "0",
         "0",
         "16.0",
         "S",
         "Second",
         "woman",
         "False",
         null,
         "Southampton",
         "yes",
         "True"
        ],
        [
         "16",
         "0",
         "3",
         "male",
         "2.0",
         "4",
         "1",
         "29.125",
         "Q",
         "Third",
         "child",
         "False",
         null,
         "Queenstown",
         "no",
         "False"
        ],
        [
         "17",
         "1",
         "2",
         "male",
         null,
         "0",
         "0",
         "13.0",
         "S",
         "Second",
         "man",
         "True",
         null,
         "Southampton",
         "yes",
         "True"
        ],
        [
         "18",
         "0",
         "3",
         "female",
         "31.0",
         "1",
         "0",
         "18.0",
         "S",
         "Third",
         "woman",
         "False",
         null,
         "Southampton",
         "no",
         "False"
        ],
        [
         "19",
         "1",
         "3",
         "female",
         null,
         "0",
         "0",
         "7.225",
         "C",
         "Third",
         "woman",
         "False",
         null,
         "Cherbourg",
         "yes",
         "True"
        ],
        [
         "20",
         "0",
         "2",
         "male",
         "35.0",
         "0",
         "0",
         "26.0",
         "S",
         "Second",
         "man",
         "True",
         null,
         "Southampton",
         "no",
         "True"
        ],
        [
         "21",
         "1",
         "2",
         "male",
         "34.0",
         "0",
         "0",
         "13.0",
         "S",
         "Second",
         "man",
         "True",
         "D",
         "Southampton",
         "yes",
         "True"
        ],
        [
         "22",
         "1",
         "3",
         "female",
         "15.0",
         "0",
         "0",
         "8.0292",
         "Q",
         "Third",
         "child",
         "False",
         null,
         "Queenstown",
         "yes",
         "True"
        ],
        [
         "23",
         "1",
         "1",
         "male",
         "28.0",
         "0",
         "0",
         "35.5",
         "S",
         "First",
         "man",
         "True",
         "A",
         "Southampton",
         "yes",
         "True"
        ],
        [
         "24",
         "0",
         "3",
         "female",
         "8.0",
         "3",
         "1",
         "21.075",
         "S",
         "Third",
         "child",
         "False",
         null,
         "Southampton",
         "no",
         "False"
        ],
        [
         "25",
         "1",
         "3",
         "female",
         "38.0",
         "1",
         "5",
         "31.3875",
         "S",
         "Third",
         "woman",
         "False",
         null,
         "Southampton",
         "yes",
         "False"
        ],
        [
         "26",
         "0",
         "3",
         "male",
         null,
         "0",
         "0",
         "7.225",
         "C",
         "Third",
         "man",
         "True",
         null,
         "Cherbourg",
         "no",
         "True"
        ],
        [
         "27",
         "0",
         "1",
         "male",
         "19.0",
         "3",
         "2",
         "263.0",
         "S",
         "First",
         "man",
         "True",
         "C",
         "Southampton",
         "no",
         "False"
        ],
        [
         "28",
         "1",
         "3",
         "female",
         null,
         "0",
         "0",
         "7.8792",
         "Q",
         "Third",
         "woman",
         "False",
         null,
         "Queenstown",
         "yes",
         "True"
        ],
        [
         "29",
         "0",
         "3",
         "male",
         null,
         "0",
         "0",
         "7.8958",
         "S",
         "Third",
         "man",
         "True",
         null,
         "Southampton",
         "no",
         "True"
        ],
        [
         "30",
         "0",
         "1",
         "male",
         "40.0",
         "0",
         "0",
         "27.7208",
         "C",
         "First",
         "man",
         "True",
         null,
         "Cherbourg",
         "no",
         "True"
        ],
        [
         "31",
         "1",
         "1",
         "female",
         null,
         "1",
         "0",
         "146.5208",
         "C",
         "First",
         "woman",
         "False",
         "B",
         "Cherbourg",
         "yes",
         "False"
        ],
        [
         "32",
         "1",
         "3",
         "female",
         null,
         "0",
         "0",
         "7.75",
         "Q",
         "Third",
         "woman",
         "False",
         null,
         "Queenstown",
         "yes",
         "True"
        ],
        [
         "33",
         "0",
         "2",
         "male",
         "66.0",
         "0",
         "0",
         "10.5",
         "S",
         "Second",
         "man",
         "True",
         null,
         "Southampton",
         "no",
         "True"
        ],
        [
         "34",
         "0",
         "1",
         "male",
         "28.0",
         "1",
         "0",
         "82.1708",
         "C",
         "First",
         "man",
         "True",
         null,
         "Cherbourg",
         "no",
         "False"
        ],
        [
         "35",
         "0",
         "1",
         "male",
         "42.0",
         "1",
         "0",
         "52.0",
         "S",
         "First",
         "man",
         "True",
         null,
         "Southampton",
         "no",
         "False"
        ],
        [
         "36",
         "1",
         "3",
         "male",
         null,
         "0",
         "0",
         "7.2292",
         "C",
         "Third",
         "man",
         "True",
         null,
         "Cherbourg",
         "yes",
         "True"
        ],
        [
         "37",
         "0",
         "3",
         "male",
         "21.0",
         "0",
         "0",
         "8.05",
         "S",
         "Third",
         "man",
         "True",
         null,
         "Southampton",
         "no",
         "True"
        ],
        [
         "38",
         "0",
         "3",
         "female",
         "18.0",
         "2",
         "0",
         "18.0",
         "S",
         "Third",
         "woman",
         "False",
         null,
         "Southampton",
         "no",
         "False"
        ],
        [
         "39",
         "1",
         "3",
         "female",
         "14.0",
         "1",
         "0",
         "11.2417",
         "C",
         "Third",
         "child",
         "False",
         null,
         "Cherbourg",
         "yes",
         "False"
        ],
        [
         "40",
         "0",
         "3",
         "female",
         "40.0",
         "1",
         "0",
         "9.475",
         "S",
         "Third",
         "woman",
         "False",
         null,
         "Southampton",
         "no",
         "False"
        ],
        [
         "41",
         "0",
         "2",
         "female",
         "27.0",
         "1",
         "0",
         "21.0",
         "S",
         "Second",
         "woman",
         "False",
         null,
         "Southampton",
         "no",
         "False"
        ],
        [
         "42",
         "0",
         "3",
         "male",
         null,
         "0",
         "0",
         "7.8958",
         "C",
         "Third",
         "man",
         "True",
         null,
         "Cherbourg",
         "no",
         "True"
        ],
        [
         "43",
         "1",
         "2",
         "female",
         "3.0",
         "1",
         "2",
         "41.5792",
         "C",
         "Second",
         "child",
         "False",
         null,
         "Cherbourg",
         "yes",
         "False"
        ],
        [
         "44",
         "1",
         "3",
         "female",
         "19.0",
         "0",
         "0",
         "7.8792",
         "Q",
         "Third",
         "woman",
         "False",
         null,
         "Queenstown",
         "yes",
         "True"
        ],
        [
         "45",
         "0",
         "3",
         "male",
         null,
         "0",
         "0",
         "8.05",
         "S",
         "Third",
         "man",
         "True",
         null,
         "Southampton",
         "no",
         "True"
        ],
        [
         "46",
         "0",
         "3",
         "male",
         null,
         "1",
         "0",
         "15.5",
         "Q",
         "Third",
         "man",
         "True",
         null,
         "Queenstown",
         "no",
         "False"
        ],
        [
         "47",
         "1",
         "3",
         "female",
         null,
         "0",
         "0",
         "7.75",
         "Q",
         "Third",
         "woman",
         "False",
         null,
         "Queenstown",
         "yes",
         "True"
        ],
        [
         "48",
         "0",
         "3",
         "male",
         null,
         "2",
         "0",
         "21.6792",
         "C",
         "Third",
         "man",
         "True",
         null,
         "Cherbourg",
         "no",
         "False"
        ],
        [
         "49",
         "0",
         "3",
         "female",
         "18.0",
         "1",
         "0",
         "17.8",
         "S",
         "Third",
         "woman",
         "False",
         null,
         "Southampton",
         "no",
         "False"
        ]
       ],
       "shape": {
        "columns": 15,
        "rows": 891
       }
      },
      "text/html": [
       "<div>\n",
       "<style scoped>\n",
       "    .dataframe tbody tr th:only-of-type {\n",
       "        vertical-align: middle;\n",
       "    }\n",
       "\n",
       "    .dataframe tbody tr th {\n",
       "        vertical-align: top;\n",
       "    }\n",
       "\n",
       "    .dataframe thead th {\n",
       "        text-align: right;\n",
       "    }\n",
       "</style>\n",
       "<table border=\"1\" class=\"dataframe\">\n",
       "  <thead>\n",
       "    <tr style=\"text-align: right;\">\n",
       "      <th></th>\n",
       "      <th>survived</th>\n",
       "      <th>pclass</th>\n",
       "      <th>sex</th>\n",
       "      <th>age</th>\n",
       "      <th>sibsp</th>\n",
       "      <th>parch</th>\n",
       "      <th>fare</th>\n",
       "      <th>embarked</th>\n",
       "      <th>class</th>\n",
       "      <th>who</th>\n",
       "      <th>adult_male</th>\n",
       "      <th>deck</th>\n",
       "      <th>embark_town</th>\n",
       "      <th>alive</th>\n",
       "      <th>alone</th>\n",
       "    </tr>\n",
       "  </thead>\n",
       "  <tbody>\n",
       "    <tr>\n",
       "      <th>0</th>\n",
       "      <td>0</td>\n",
       "      <td>3</td>\n",
       "      <td>male</td>\n",
       "      <td>22.0</td>\n",
       "      <td>1</td>\n",
       "      <td>0</td>\n",
       "      <td>7.2500</td>\n",
       "      <td>S</td>\n",
       "      <td>Third</td>\n",
       "      <td>man</td>\n",
       "      <td>True</td>\n",
       "      <td>NaN</td>\n",
       "      <td>Southampton</td>\n",
       "      <td>no</td>\n",
       "      <td>False</td>\n",
       "    </tr>\n",
       "    <tr>\n",
       "      <th>1</th>\n",
       "      <td>1</td>\n",
       "      <td>1</td>\n",
       "      <td>female</td>\n",
       "      <td>38.0</td>\n",
       "      <td>1</td>\n",
       "      <td>0</td>\n",
       "      <td>71.2833</td>\n",
       "      <td>C</td>\n",
       "      <td>First</td>\n",
       "      <td>woman</td>\n",
       "      <td>False</td>\n",
       "      <td>C</td>\n",
       "      <td>Cherbourg</td>\n",
       "      <td>yes</td>\n",
       "      <td>False</td>\n",
       "    </tr>\n",
       "    <tr>\n",
       "      <th>2</th>\n",
       "      <td>1</td>\n",
       "      <td>3</td>\n",
       "      <td>female</td>\n",
       "      <td>26.0</td>\n",
       "      <td>0</td>\n",
       "      <td>0</td>\n",
       "      <td>7.9250</td>\n",
       "      <td>S</td>\n",
       "      <td>Third</td>\n",
       "      <td>woman</td>\n",
       "      <td>False</td>\n",
       "      <td>NaN</td>\n",
       "      <td>Southampton</td>\n",
       "      <td>yes</td>\n",
       "      <td>True</td>\n",
       "    </tr>\n",
       "    <tr>\n",
       "      <th>3</th>\n",
       "      <td>1</td>\n",
       "      <td>1</td>\n",
       "      <td>female</td>\n",
       "      <td>35.0</td>\n",
       "      <td>1</td>\n",
       "      <td>0</td>\n",
       "      <td>53.1000</td>\n",
       "      <td>S</td>\n",
       "      <td>First</td>\n",
       "      <td>woman</td>\n",
       "      <td>False</td>\n",
       "      <td>C</td>\n",
       "      <td>Southampton</td>\n",
       "      <td>yes</td>\n",
       "      <td>False</td>\n",
       "    </tr>\n",
       "    <tr>\n",
       "      <th>4</th>\n",
       "      <td>0</td>\n",
       "      <td>3</td>\n",
       "      <td>male</td>\n",
       "      <td>35.0</td>\n",
       "      <td>0</td>\n",
       "      <td>0</td>\n",
       "      <td>8.0500</td>\n",
       "      <td>S</td>\n",
       "      <td>Third</td>\n",
       "      <td>man</td>\n",
       "      <td>True</td>\n",
       "      <td>NaN</td>\n",
       "      <td>Southampton</td>\n",
       "      <td>no</td>\n",
       "      <td>True</td>\n",
       "    </tr>\n",
       "    <tr>\n",
       "      <th>...</th>\n",
       "      <td>...</td>\n",
       "      <td>...</td>\n",
       "      <td>...</td>\n",
       "      <td>...</td>\n",
       "      <td>...</td>\n",
       "      <td>...</td>\n",
       "      <td>...</td>\n",
       "      <td>...</td>\n",
       "      <td>...</td>\n",
       "      <td>...</td>\n",
       "      <td>...</td>\n",
       "      <td>...</td>\n",
       "      <td>...</td>\n",
       "      <td>...</td>\n",
       "      <td>...</td>\n",
       "    </tr>\n",
       "    <tr>\n",
       "      <th>886</th>\n",
       "      <td>0</td>\n",
       "      <td>2</td>\n",
       "      <td>male</td>\n",
       "      <td>27.0</td>\n",
       "      <td>0</td>\n",
       "      <td>0</td>\n",
       "      <td>13.0000</td>\n",
       "      <td>S</td>\n",
       "      <td>Second</td>\n",
       "      <td>man</td>\n",
       "      <td>True</td>\n",
       "      <td>NaN</td>\n",
       "      <td>Southampton</td>\n",
       "      <td>no</td>\n",
       "      <td>True</td>\n",
       "    </tr>\n",
       "    <tr>\n",
       "      <th>887</th>\n",
       "      <td>1</td>\n",
       "      <td>1</td>\n",
       "      <td>female</td>\n",
       "      <td>19.0</td>\n",
       "      <td>0</td>\n",
       "      <td>0</td>\n",
       "      <td>30.0000</td>\n",
       "      <td>S</td>\n",
       "      <td>First</td>\n",
       "      <td>woman</td>\n",
       "      <td>False</td>\n",
       "      <td>B</td>\n",
       "      <td>Southampton</td>\n",
       "      <td>yes</td>\n",
       "      <td>True</td>\n",
       "    </tr>\n",
       "    <tr>\n",
       "      <th>888</th>\n",
       "      <td>0</td>\n",
       "      <td>3</td>\n",
       "      <td>female</td>\n",
       "      <td>NaN</td>\n",
       "      <td>1</td>\n",
       "      <td>2</td>\n",
       "      <td>23.4500</td>\n",
       "      <td>S</td>\n",
       "      <td>Third</td>\n",
       "      <td>woman</td>\n",
       "      <td>False</td>\n",
       "      <td>NaN</td>\n",
       "      <td>Southampton</td>\n",
       "      <td>no</td>\n",
       "      <td>False</td>\n",
       "    </tr>\n",
       "    <tr>\n",
       "      <th>889</th>\n",
       "      <td>1</td>\n",
       "      <td>1</td>\n",
       "      <td>male</td>\n",
       "      <td>26.0</td>\n",
       "      <td>0</td>\n",
       "      <td>0</td>\n",
       "      <td>30.0000</td>\n",
       "      <td>C</td>\n",
       "      <td>First</td>\n",
       "      <td>man</td>\n",
       "      <td>True</td>\n",
       "      <td>C</td>\n",
       "      <td>Cherbourg</td>\n",
       "      <td>yes</td>\n",
       "      <td>True</td>\n",
       "    </tr>\n",
       "    <tr>\n",
       "      <th>890</th>\n",
       "      <td>0</td>\n",
       "      <td>3</td>\n",
       "      <td>male</td>\n",
       "      <td>32.0</td>\n",
       "      <td>0</td>\n",
       "      <td>0</td>\n",
       "      <td>7.7500</td>\n",
       "      <td>Q</td>\n",
       "      <td>Third</td>\n",
       "      <td>man</td>\n",
       "      <td>True</td>\n",
       "      <td>NaN</td>\n",
       "      <td>Queenstown</td>\n",
       "      <td>no</td>\n",
       "      <td>True</td>\n",
       "    </tr>\n",
       "  </tbody>\n",
       "</table>\n",
       "<p>891 rows × 15 columns</p>\n",
       "</div>"
      ],
      "text/plain": [
       "     survived  pclass     sex   age  sibsp  parch     fare embarked   class  \\\n",
       "0           0       3    male  22.0      1      0   7.2500        S   Third   \n",
       "1           1       1  female  38.0      1      0  71.2833        C   First   \n",
       "2           1       3  female  26.0      0      0   7.9250        S   Third   \n",
       "3           1       1  female  35.0      1      0  53.1000        S   First   \n",
       "4           0       3    male  35.0      0      0   8.0500        S   Third   \n",
       "..        ...     ...     ...   ...    ...    ...      ...      ...     ...   \n",
       "886         0       2    male  27.0      0      0  13.0000        S  Second   \n",
       "887         1       1  female  19.0      0      0  30.0000        S   First   \n",
       "888         0       3  female   NaN      1      2  23.4500        S   Third   \n",
       "889         1       1    male  26.0      0      0  30.0000        C   First   \n",
       "890         0       3    male  32.0      0      0   7.7500        Q   Third   \n",
       "\n",
       "       who  adult_male deck  embark_town alive  alone  \n",
       "0      man        True  NaN  Southampton    no  False  \n",
       "1    woman       False    C    Cherbourg   yes  False  \n",
       "2    woman       False  NaN  Southampton   yes   True  \n",
       "3    woman       False    C  Southampton   yes  False  \n",
       "4      man        True  NaN  Southampton    no   True  \n",
       "..     ...         ...  ...          ...   ...    ...  \n",
       "886    man        True  NaN  Southampton    no   True  \n",
       "887  woman       False    B  Southampton   yes   True  \n",
       "888  woman       False  NaN  Southampton    no  False  \n",
       "889    man        True    C    Cherbourg   yes   True  \n",
       "890    man        True  NaN   Queenstown    no   True  \n",
       "\n",
       "[891 rows x 15 columns]"
      ]
     },
     "execution_count": 36,
     "metadata": {},
     "output_type": "execute_result"
    }
   ],
   "source": [
    "#check the data\n",
    "df"
   ]
  },
  {
   "cell_type": "markdown",
   "id": "7572fe22",
   "metadata": {},
   "source": [
    "## Missing values and imputing them"
   ]
  },
  {
   "cell_type": "code",
   "execution_count": 37,
   "id": "f5ec1804",
   "metadata": {},
   "outputs": [
    {
     "data": {
      "application/vnd.microsoft.datawrangler.viewer.v0+json": {
       "columns": [
        {
         "name": "index",
         "rawType": "object",
         "type": "string"
        },
        {
         "name": "0",
         "rawType": "float64",
         "type": "float"
        }
       ],
       "ref": "b37ddf8f-6559-4ffb-8573-5ab52ce66137",
       "rows": [
        [
         "survived",
         "0.0"
        ],
        [
         "pclass",
         "0.0"
        ],
        [
         "sex",
         "0.0"
        ],
        [
         "age",
         "19.865319865319865"
        ],
        [
         "sibsp",
         "0.0"
        ],
        [
         "parch",
         "0.0"
        ],
        [
         "fare",
         "0.0"
        ],
        [
         "embarked",
         "0.22446689113355783"
        ],
        [
         "class",
         "0.0"
        ],
        [
         "who",
         "0.0"
        ],
        [
         "adult_male",
         "0.0"
        ],
        [
         "deck",
         "77.21661054994388"
        ],
        [
         "embark_town",
         "0.22446689113355783"
        ],
        [
         "alive",
         "0.0"
        ],
        [
         "alone",
         "0.0"
        ]
       ],
       "shape": {
        "columns": 1,
        "rows": 15
       }
      },
      "text/plain": [
       "survived        0.000000\n",
       "pclass          0.000000\n",
       "sex             0.000000\n",
       "age            19.865320\n",
       "sibsp           0.000000\n",
       "parch           0.000000\n",
       "fare            0.000000\n",
       "embarked        0.224467\n",
       "class           0.000000\n",
       "who             0.000000\n",
       "adult_male      0.000000\n",
       "deck           77.216611\n",
       "embark_town     0.224467\n",
       "alive           0.000000\n",
       "alone           0.000000\n",
       "dtype: float64"
      ]
     },
     "execution_count": 37,
     "metadata": {},
     "output_type": "execute_result"
    }
   ],
   "source": [
    "# Find out the percentage of missing values\n",
    "df.isnull().sum() / len(df) * 100"
   ]
  },
  {
   "cell_type": "code",
   "execution_count": 38,
   "id": "b6e159a2",
   "metadata": {},
   "outputs": [],
   "source": [
    "# drop the deck column from dataset\n",
    "df.drop('deck', axis=1, inplace=True)"
   ]
  },
  {
   "cell_type": "code",
   "execution_count": 39,
   "id": "6a2e5027",
   "metadata": {},
   "outputs": [
    {
     "data": {
      "text/plain": [
       "Index(['survived', 'pclass', 'sex', 'age', 'sibsp', 'parch', 'fare',\n",
       "       'embarked', 'class', 'who', 'adult_male', 'embark_town', 'alive',\n",
       "       'alone'],\n",
       "      dtype='object')"
      ]
     },
     "execution_count": 39,
     "metadata": {},
     "output_type": "execute_result"
    }
   ],
   "source": [
    "df.columns"
   ]
  },
  {
   "cell_type": "code",
   "execution_count": 40,
   "id": "857db543",
   "metadata": {},
   "outputs": [
    {
     "data": {
      "text/plain": [
       "np.float64(29.69911764705882)"
      ]
     },
     "execution_count": 40,
     "metadata": {},
     "output_type": "execute_result"
    }
   ],
   "source": [
    "df['age'].mean()"
   ]
  },
  {
   "cell_type": "code",
   "execution_count": 41,
   "id": "6561576d",
   "metadata": {},
   "outputs": [
    {
     "data": {
      "text/plain": [
       "28.0"
      ]
     },
     "execution_count": 41,
     "metadata": {},
     "output_type": "execute_result"
    }
   ],
   "source": [
    "df['age'].median()"
   ]
  },
  {
   "cell_type": "code",
   "execution_count": 42,
   "id": "77d38b0f",
   "metadata": {},
   "outputs": [
    {
     "data": {
      "text/plain": [
       "np.float64(24.0)"
      ]
     },
     "execution_count": 42,
     "metadata": {},
     "output_type": "execute_result"
    }
   ],
   "source": [
    "df['age'].mode()[0]"
   ]
  },
  {
   "cell_type": "code",
   "execution_count": 43,
   "id": "f23e109e",
   "metadata": {},
   "outputs": [
    {
     "name": "stderr",
     "output_type": "stream",
     "text": [
      "C:\\Users\\Dell\\AppData\\Local\\Temp\\ipykernel_744\\1697198352.py:2: FutureWarning: A value is trying to be set on a copy of a DataFrame or Series through chained assignment using an inplace method.\n",
      "The behavior will change in pandas 3.0. This inplace method will never work because the intermediate object on which we are setting values always behaves as a copy.\n",
      "\n",
      "For example, when doing 'df[col].method(value, inplace=True)', try using 'df.method({col: value}, inplace=True)' or df[col] = df[col].method(value) instead, to perform the operation inplace on the original object.\n",
      "\n",
      "\n",
      "  df['age'].fillna(df['age'].mean(), inplace=True)\n"
     ]
    }
   ],
   "source": [
    "# 2- filling missing values of age by the mean of age\n",
    "df['age'].fillna(df['age'].mean(), inplace=True)"
   ]
  },
  {
   "cell_type": "code",
   "execution_count": 44,
   "id": "f8ea8c6e",
   "metadata": {},
   "outputs": [
    {
     "data": {
      "application/vnd.microsoft.datawrangler.viewer.v0+json": {
       "columns": [
        {
         "name": "index",
         "rawType": "object",
         "type": "string"
        },
        {
         "name": "0",
         "rawType": "int64",
         "type": "integer"
        }
       ],
       "ref": "7359e63b-9458-408f-8294-8ca3fe957ad3",
       "rows": [
        [
         "survived",
         "0"
        ],
        [
         "pclass",
         "0"
        ],
        [
         "sex",
         "0"
        ],
        [
         "age",
         "0"
        ],
        [
         "sibsp",
         "0"
        ],
        [
         "parch",
         "0"
        ],
        [
         "fare",
         "0"
        ],
        [
         "embarked",
         "2"
        ],
        [
         "class",
         "0"
        ],
        [
         "who",
         "0"
        ],
        [
         "adult_male",
         "0"
        ],
        [
         "embark_town",
         "2"
        ],
        [
         "alive",
         "0"
        ],
        [
         "alone",
         "0"
        ]
       ],
       "shape": {
        "columns": 1,
        "rows": 14
       }
      },
      "text/plain": [
       "survived       0\n",
       "pclass         0\n",
       "sex            0\n",
       "age            0\n",
       "sibsp          0\n",
       "parch          0\n",
       "fare           0\n",
       "embarked       2\n",
       "class          0\n",
       "who            0\n",
       "adult_male     0\n",
       "embark_town    2\n",
       "alive          0\n",
       "alone          0\n",
       "dtype: int64"
      ]
     },
     "execution_count": 44,
     "metadata": {},
     "output_type": "execute_result"
    }
   ],
   "source": [
    "df.isnull().sum()"
   ]
  },
  {
   "cell_type": "code",
   "execution_count": 45,
   "id": "e60f1c13",
   "metadata": {},
   "outputs": [
    {
     "name": "stderr",
     "output_type": "stream",
     "text": [
      "C:\\Users\\Dell\\AppData\\Local\\Temp\\ipykernel_744\\4288331185.py:2: FutureWarning: A value is trying to be set on a copy of a DataFrame or Series through chained assignment using an inplace method.\n",
      "The behavior will change in pandas 3.0. This inplace method will never work because the intermediate object on which we are setting values always behaves as a copy.\n",
      "\n",
      "For example, when doing 'df[col].method(value, inplace=True)', try using 'df.method({col: value}, inplace=True)' or df[col] = df[col].method(value) instead, to perform the operation inplace on the original object.\n",
      "\n",
      "\n",
      "  df['embark_town'].fillna(df['embark_town'].mode()[0], inplace=True)\n",
      "C:\\Users\\Dell\\AppData\\Local\\Temp\\ipykernel_744\\4288331185.py:3: FutureWarning: A value is trying to be set on a copy of a DataFrame or Series through chained assignment using an inplace method.\n",
      "The behavior will change in pandas 3.0. This inplace method will never work because the intermediate object on which we are setting values always behaves as a copy.\n",
      "\n",
      "For example, when doing 'df[col].method(value, inplace=True)', try using 'df.method({col: value}, inplace=True)' or df[col] = df[col].method(value) instead, to perform the operation inplace on the original object.\n",
      "\n",
      "\n",
      "  df['embarked'].fillna(df['embarked'].mode()[0], inplace=True)\n"
     ]
    }
   ],
   "source": [
    "#fill embarked and embark_town with mode\n",
    "df['embark_town'].fillna(df['embark_town'].mode()[0], inplace=True)\n",
    "df['embarked'].fillna(df['embarked'].mode()[0], inplace=True)"
   ]
  },
  {
   "cell_type": "code",
   "execution_count": 46,
   "id": "0f23f6b5",
   "metadata": {},
   "outputs": [
    {
     "data": {
      "text/plain": [
       "<Axes: >"
      ]
     },
     "execution_count": 46,
     "metadata": {},
     "output_type": "execute_result"
    },
    {
     "data": {
      "image/png": "[encoded data removed]",
      "text/plain": [
       "<Figure size 640x480 with 2 Axes>"
      ]
     },
     "metadata": {},
     "output_type": "display_data"
    }
   ],
   "source": [
    "sns.heatmap(df.isnull())"
   ]
  },
  {
   "cell_type": "markdown",
   "id": "58fcf30d",
   "metadata": {},
   "source": [
    "# *binnig*"
   ]
  },
  {
   "cell_type": "code",
   "execution_count": 47,
   "id": "46a99195",
   "metadata": {},
   "outputs": [
    {
     "data": {
      "application/vnd.microsoft.datawrangler.viewer.v0+json": {
       "columns": [
        {
         "name": "index",
         "rawType": "int64",
         "type": "integer"
        },
        {
         "name": "survived",
         "rawType": "int64",
         "type": "integer"
        },
        {
         "name": "pclass",
         "rawType": "int64",
         "type": "integer"
        },
        {
         "name": "sex",
         "rawType": "object",
         "type": "string"
        },
        {
         "name": "age",
         "rawType": "float64",
         "type": "float"
        },
        {
         "name": "sibsp",
         "rawType": "int64",
         "type": "integer"
        },
        {
         "name": "parch",
         "rawType": "int64",
         "type": "integer"
        },
        {
         "name": "fare",
         "rawType": "float64",
         "type": "float"
        },
        {
         "name": "embarked",
         "rawType": "object",
         "type": "string"
        },
        {
         "name": "class",
         "rawType": "category",
         "type": "unknown"
        },
        {
         "name": "who",
         "rawType": "object",
         "type": "string"
        },
        {
         "name": "adult_male",
         "rawType": "bool",
         "type": "boolean"
        },
        {
         "name": "embark_town",
         "rawType": "object",
         "type": "string"
        },
        {
         "name": "alive",
         "rawType": "object",
         "type": "string"
        },
        {
         "name": "alone",
         "rawType": "bool",
         "type": "boolean"
        }
       ],
       "ref": "e2159821-06f2-4f2f-8396-9ebf4562ebc3",
       "rows": [
        [
         "0",
         "0",
         "3",
         "male",
         "22.0",
         "1",
         "0",
         "7.25",
         "S",
         "Third",
         "man",
         "True",
         "Southampton",
         "no",
         "False"
        ],
        [
         "1",
         "1",
         "1",
         "female",
         "38.0",
         "1",
         "0",
         "71.2833",
         "C",
         "First",
         "woman",
         "False",
         "Cherbourg",
         "yes",
         "False"
        ],
        [
         "2",
         "1",
         "3",
         "female",
         "26.0",
         "0",
         "0",
         "7.925",
         "S",
         "Third",
         "woman",
         "False",
         "Southampton",
         "yes",
         "True"
        ],
        [
         "3",
         "1",
         "1",
         "female",
         "35.0",
         "1",
         "0",
         "53.1",
         "S",
         "First",
         "woman",
         "False",
         "Southampton",
         "yes",
         "False"
        ],
        [
         "4",
         "0",
         "3",
         "male",
         "35.0",
         "0",
         "0",
         "8.05",
         "S",
         "Third",
         "man",
         "True",
         "Southampton",
         "no",
         "True"
        ]
       ],
       "shape": {
        "columns": 14,
        "rows": 5
       }
      },
      "text/html": [
       "<div>\n",
       "<style scoped>\n",
       "    .dataframe tbody tr th:only-of-type {\n",
       "        vertical-align: middle;\n",
       "    }\n",
       "\n",
       "    .dataframe tbody tr th {\n",
       "        vertical-align: top;\n",
       "    }\n",
       "\n",
       "    .dataframe thead th {\n",
       "        text-align: right;\n",
       "    }\n",
       "</style>\n",
       "<table border=\"1\" class=\"dataframe\">\n",
       "  <thead>\n",
       "    <tr style=\"text-align: right;\">\n",
       "      <th></th>\n",
       "      <th>survived</th>\n",
       "      <th>pclass</th>\n",
       "      <th>sex</th>\n",
       "      <th>age</th>\n",
       "      <th>sibsp</th>\n",
       "      <th>parch</th>\n",
       "      <th>fare</th>\n",
       "      <th>embarked</th>\n",
       "      <th>class</th>\n",
       "      <th>who</th>\n",
       "      <th>adult_male</th>\n",
       "      <th>embark_town</th>\n",
       "      <th>alive</th>\n",
       "      <th>alone</th>\n",
       "    </tr>\n",
       "  </thead>\n",
       "  <tbody>\n",
       "    <tr>\n",
       "      <th>0</th>\n",
       "      <td>0</td>\n",
       "      <td>3</td>\n",
       "      <td>male</td>\n",
       "      <td>22.0</td>\n",
       "      <td>1</td>\n",
       "      <td>0</td>\n",
       "      <td>7.2500</td>\n",
       "      <td>S</td>\n",
       "      <td>Third</td>\n",
       "      <td>man</td>\n",
       "      <td>True</td>\n",
       "      <td>Southampton</td>\n",
       "      <td>no</td>\n",
       "      <td>False</td>\n",
       "    </tr>\n",
       "    <tr>\n",
       "      <th>1</th>\n",
       "      <td>1</td>\n",
       "      <td>1</td>\n",
       "      <td>female</td>\n",
       "      <td>38.0</td>\n",
       "      <td>1</td>\n",
       "      <td>0</td>\n",
       "      <td>71.2833</td>\n",
       "      <td>C</td>\n",
       "      <td>First</td>\n",
       "      <td>woman</td>\n",
       "      <td>False</td>\n",
       "      <td>Cherbourg</td>\n",
       "      <td>yes</td>\n",
       "      <td>False</td>\n",
       "    </tr>\n",
       "    <tr>\n",
       "      <th>2</th>\n",
       "      <td>1</td>\n",
       "      <td>3</td>\n",
       "      <td>female</td>\n",
       "      <td>26.0</td>\n",
       "      <td>0</td>\n",
       "      <td>0</td>\n",
       "      <td>7.9250</td>\n",
       "      <td>S</td>\n",
       "      <td>Third</td>\n",
       "      <td>woman</td>\n",
       "      <td>False</td>\n",
       "      <td>Southampton</td>\n",
       "      <td>yes</td>\n",
       "      <td>True</td>\n",
       "    </tr>\n",
       "    <tr>\n",
       "      <th>3</th>\n",
       "      <td>1</td>\n",
       "      <td>1</td>\n",
       "      <td>female</td>\n",
       "      <td>35.0</td>\n",
       "      <td>1</td>\n",
       "      <td>0</td>\n",
       "      <td>53.1000</td>\n",
       "      <td>S</td>\n",
       "      <td>First</td>\n",
       "      <td>woman</td>\n",
       "      <td>False</td>\n",
       "      <td>Southampton</td>\n",
       "      <td>yes</td>\n",
       "      <td>False</td>\n",
       "    </tr>\n",
       "    <tr>\n",
       "      <th>4</th>\n",
       "      <td>0</td>\n",
       "      <td>3</td>\n",
       "      <td>male</td>\n",
       "      <td>35.0</td>\n",
       "      <td>0</td>\n",
       "      <td>0</td>\n",
       "      <td>8.0500</td>\n",
       "      <td>S</td>\n",
       "      <td>Third</td>\n",
       "      <td>man</td>\n",
       "      <td>True</td>\n",
       "      <td>Southampton</td>\n",
       "      <td>no</td>\n",
       "      <td>True</td>\n",
       "    </tr>\n",
       "  </tbody>\n",
       "</table>\n",
       "</div>"
      ],
      "text/plain": [
       "   survived  pclass     sex   age  sibsp  parch     fare embarked  class  \\\n",
       "0         0       3    male  22.0      1      0   7.2500        S  Third   \n",
       "1         1       1  female  38.0      1      0  71.2833        C  First   \n",
       "2         1       3  female  26.0      0      0   7.9250        S  Third   \n",
       "3         1       1  female  35.0      1      0  53.1000        S  First   \n",
       "4         0       3    male  35.0      0      0   8.0500        S  Third   \n",
       "\n",
       "     who  adult_male  embark_town alive  alone  \n",
       "0    man        True  Southampton    no  False  \n",
       "1  woman       False    Cherbourg   yes  False  \n",
       "2  woman       False  Southampton   yes   True  \n",
       "3  woman       False  Southampton   yes  False  \n",
       "4    man        True  Southampton    no   True  "
      ]
     },
     "execution_count": 47,
     "metadata": {},
     "output_type": "execute_result"
    }
   ],
   "source": [
    "df.head()"
   ]
  },
  {
   "cell_type": "code",
   "execution_count": 48,
   "id": "4afeee65",
   "metadata": {},
   "outputs": [
    {
     "data": {
      "text/plain": [
       "0.42"
      ]
     },
     "execution_count": 48,
     "metadata": {},
     "output_type": "execute_result"
    }
   ],
   "source": [
    "df['age'].min()"
   ]
  },
  {
   "cell_type": "code",
   "execution_count": 49,
   "id": "2d9a1f25",
   "metadata": {},
   "outputs": [
    {
     "data": {
      "text/plain": [
       "80.0"
      ]
     },
     "execution_count": 49,
     "metadata": {},
     "output_type": "execute_result"
    }
   ],
   "source": [
    "df['age'].max()"
   ]
  },
  {
   "cell_type": "code",
   "execution_count": 50,
   "id": "e36244f3",
   "metadata": {},
   "outputs": [
    {
     "data": {
      "text/plain": [
       "<Axes: xlabel='age', ylabel='Count'>"
      ]
     },
     "execution_count": 50,
     "metadata": {},
     "output_type": "execute_result"
    },
    {
     "data": {
      "image/png": "[encoded data removed]",
      "text/plain": [
       "<Figure size 640x480 with 1 Axes>"
      ]
     },
     "metadata": {},
     "output_type": "display_data"
    }
   ],
   "source": [
    "sns.histplot(df['age'])"
   ]
  },
  {
   "cell_type": "code",
   "execution_count": 51,
   "id": "3c872bac",
   "metadata": {},
   "outputs": [
    {
     "data": {
      "application/vnd.microsoft.datawrangler.viewer.v0+json": {
       "columns": [
        {
         "name": "index",
         "rawType": "int64",
         "type": "integer"
        },
        {
         "name": "age",
         "rawType": "category",
         "type": "unknown"
        }
       ],
       "ref": "ab2c74f0-abc8-4344-83d7-0565cb516287",
       "rows": [
        [
         "0",
         "young"
        ],
        [
         "1",
         "middle aged"
        ],
        [
         "2",
         "young"
        ],
        [
         "3",
         "middle aged"
        ],
        [
         "4",
         "middle aged"
        ],
        [
         "5",
         "young"
        ],
        [
         "6",
         "old"
        ],
        [
         "7",
         "toddlers"
        ],
        [
         "8",
         "young"
        ],
        [
         "9",
         "teens"
        ],
        [
         "10",
         "toddlers"
        ],
        [
         "11",
         "old"
        ],
        [
         "12",
         "young"
        ],
        [
         "13",
         "middle aged"
        ],
        [
         "14",
         "teens"
        ],
        [
         "15",
         "old"
        ],
        [
         "16",
         "toddlers"
        ],
        [
         "17",
         "young"
        ],
        [
         "18",
         "middle aged"
        ],
        [
         "19",
         "young"
        ],
        [
         "20",
         "middle aged"
        ],
        [
         "21",
         "middle aged"
        ],
        [
         "22",
         "teens"
        ],
        [
         "23",
         "young"
        ],
        [
         "24",
         "kids"
        ],
        [
         "25",
         "middle aged"
        ],
        [
         "26",
         "young"
        ],
        [
         "27",
         "young"
        ],
        [
         "28",
         "young"
        ],
        [
         "29",
         "young"
        ],
        [
         "30",
         "middle aged"
        ],
        [
         "31",
         "young"
        ],
        [
         "32",
         "young"
        ],
        [
         "33",
         "old"
        ],
        [
         "34",
         "young"
        ],
        [
         "35",
         "middle aged"
        ],
        [
         "36",
         "young"
        ],
        [
         "37",
         "young"
        ],
        [
         "38",
         "teens"
        ],
        [
         "39",
         "teens"
        ],
        [
         "40",
         "middle aged"
        ],
        [
         "41",
         "young"
        ],
        [
         "42",
         "young"
        ],
        [
         "43",
         "toddlers"
        ],
        [
         "44",
         "young"
        ],
        [
         "45",
         "young"
        ],
        [
         "46",
         "young"
        ],
        [
         "47",
         "young"
        ],
        [
         "48",
         "young"
        ],
        [
         "49",
         "teens"
        ]
       ],
       "shape": {
        "columns": 1,
        "rows": 891
       }
      },
      "text/plain": [
       "0            young\n",
       "1      middle aged\n",
       "2            young\n",
       "3      middle aged\n",
       "4      middle aged\n",
       "          ...     \n",
       "886          young\n",
       "887          young\n",
       "888          young\n",
       "889          young\n",
       "890    middle aged\n",
       "Name: age, Length: 891, dtype: category\n",
       "Categories (7, object): ['Infants' < 'toddlers' < 'kids' < 'teens' < 'young' < 'middle aged' < 'old']"
      ]
     },
     "execution_count": 51,
     "metadata": {},
     "output_type": "execute_result"
    }
   ],
   "source": [
    "# binnig of age column into 7 caterories\n",
    "bins = [0,1,5,12,18,30,50,80]\n",
    "labels = ['Infants', 'toddlers', 'kids', 'teens', 'young', 'middle aged', 'old']\n",
    "#kis column ko bins main canvert karna hai\n",
    "pd.cut(df['age'], bins=bins, labels=labels)"
   ]
  },
  {
   "cell_type": "code",
   "execution_count": 52,
   "id": "db37eea6",
   "metadata": {},
   "outputs": [
    {
     "data": {
      "application/vnd.microsoft.datawrangler.viewer.v0+json": {
       "columns": [
        {
         "name": "index",
         "rawType": "int64",
         "type": "integer"
        },
        {
         "name": "survived",
         "rawType": "int64",
         "type": "integer"
        },
        {
         "name": "pclass",
         "rawType": "int64",
         "type": "integer"
        },
        {
         "name": "sex",
         "rawType": "object",
         "type": "string"
        },
        {
         "name": "age",
         "rawType": "float64",
         "type": "float"
        },
        {
         "name": "sibsp",
         "rawType": "int64",
         "type": "integer"
        },
        {
         "name": "parch",
         "rawType": "int64",
         "type": "integer"
        },
        {
         "name": "fare",
         "rawType": "float64",
         "type": "float"
        },
        {
         "name": "embarked",
         "rawType": "object",
         "type": "string"
        },
        {
         "name": "class",
         "rawType": "category",
         "type": "unknown"
        },
        {
         "name": "who",
         "rawType": "object",
         "type": "string"
        },
        {
         "name": "adult_male",
         "rawType": "bool",
         "type": "boolean"
        },
        {
         "name": "embark_town",
         "rawType": "object",
         "type": "string"
        },
        {
         "name": "alive",
         "rawType": "object",
         "type": "string"
        },
        {
         "name": "alone",
         "rawType": "bool",
         "type": "boolean"
        }
       ],
       "ref": "655223d4-c27f-4f12-8a16-5fb97a3513b9",
       "rows": [
        [
         "0",
         "0",
         "3",
         "male",
         "22.0",
         "1",
         "0",
         "7.25",
         "S",
         "Third",
         "man",
         "True",
         "Southampton",
         "no",
         "False"
        ],
        [
         "1",
         "1",
         "1",
         "female",
         "38.0",
         "1",
         "0",
         "71.2833",
         "C",
         "First",
         "woman",
         "False",
         "Cherbourg",
         "yes",
         "False"
        ],
        [
         "2",
         "1",
         "3",
         "female",
         "26.0",
         "0",
         "0",
         "7.925",
         "S",
         "Third",
         "woman",
         "False",
         "Southampton",
         "yes",
         "True"
        ],
        [
         "3",
         "1",
         "1",
         "female",
         "35.0",
         "1",
         "0",
         "53.1",
         "S",
         "First",
         "woman",
         "False",
         "Southampton",
         "yes",
         "False"
        ],
        [
         "4",
         "0",
         "3",
         "male",
         "35.0",
         "0",
         "0",
         "8.05",
         "S",
         "Third",
         "man",
         "True",
         "Southampton",
         "no",
         "True"
        ]
       ],
       "shape": {
        "columns": 14,
        "rows": 5
       }
      },
      "text/html": [
       "<div>\n",
       "<style scoped>\n",
       "    .dataframe tbody tr th:only-of-type {\n",
       "        vertical-align: middle;\n",
       "    }\n",
       "\n",
       "    .dataframe tbody tr th {\n",
       "        vertical-align: top;\n",
       "    }\n",
       "\n",
       "    .dataframe thead th {\n",
       "        text-align: right;\n",
       "    }\n",
       "</style>\n",
       "<table border=\"1\" class=\"dataframe\">\n",
       "  <thead>\n",
       "    <tr style=\"text-align: right;\">\n",
       "      <th></th>\n",
       "      <th>survived</th>\n",
       "      <th>pclass</th>\n",
       "      <th>sex</th>\n",
       "      <th>age</th>\n",
       "      <th>sibsp</th>\n",
       "      <th>parch</th>\n",
       "      <th>fare</th>\n",
       "      <th>embarked</th>\n",
       "      <th>class</th>\n",
       "      <th>who</th>\n",
       "      <th>adult_male</th>\n",
       "      <th>embark_town</th>\n",
       "      <th>alive</th>\n",
       "      <th>alone</th>\n",
       "    </tr>\n",
       "  </thead>\n",
       "  <tbody>\n",
       "    <tr>\n",
       "      <th>0</th>\n",
       "      <td>0</td>\n",
       "      <td>3</td>\n",
       "      <td>male</td>\n",
       "      <td>22.0</td>\n",
       "      <td>1</td>\n",
       "      <td>0</td>\n",
       "      <td>7.2500</td>\n",
       "      <td>S</td>\n",
       "      <td>Third</td>\n",
       "      <td>man</td>\n",
       "      <td>True</td>\n",
       "      <td>Southampton</td>\n",
       "      <td>no</td>\n",
       "      <td>False</td>\n",
       "    </tr>\n",
       "    <tr>\n",
       "      <th>1</th>\n",
       "      <td>1</td>\n",
       "      <td>1</td>\n",
       "      <td>female</td>\n",
       "      <td>38.0</td>\n",
       "      <td>1</td>\n",
       "      <td>0</td>\n",
       "      <td>71.2833</td>\n",
       "      <td>C</td>\n",
       "      <td>First</td>\n",
       "      <td>woman</td>\n",
       "      <td>False</td>\n",
       "      <td>Cherbourg</td>\n",
       "      <td>yes</td>\n",
       "      <td>False</td>\n",
       "    </tr>\n",
       "    <tr>\n",
       "      <th>2</th>\n",
       "      <td>1</td>\n",
       "      <td>3</td>\n",
       "      <td>female</td>\n",
       "      <td>26.0</td>\n",
       "      <td>0</td>\n",
       "      <td>0</td>\n",
       "      <td>7.9250</td>\n",
       "      <td>S</td>\n",
       "      <td>Third</td>\n",
       "      <td>woman</td>\n",
       "      <td>False</td>\n",
       "      <td>Southampton</td>\n",
       "      <td>yes</td>\n",
       "      <td>True</td>\n",
       "    </tr>\n",
       "    <tr>\n",
       "      <th>3</th>\n",
       "      <td>1</td>\n",
       "      <td>1</td>\n",
       "      <td>female</td>\n",
       "      <td>35.0</td>\n",
       "      <td>1</td>\n",
       "      <td>0</td>\n",
       "      <td>53.1000</td>\n",
       "      <td>S</td>\n",
       "      <td>First</td>\n",
       "      <td>woman</td>\n",
       "      <td>False</td>\n",
       "      <td>Southampton</td>\n",
       "      <td>yes</td>\n",
       "      <td>False</td>\n",
       "    </tr>\n",
       "    <tr>\n",
       "      <th>4</th>\n",
       "      <td>0</td>\n",
       "      <td>3</td>\n",
       "      <td>male</td>\n",
       "      <td>35.0</td>\n",
       "      <td>0</td>\n",
       "      <td>0</td>\n",
       "      <td>8.0500</td>\n",
       "      <td>S</td>\n",
       "      <td>Third</td>\n",
       "      <td>man</td>\n",
       "      <td>True</td>\n",
       "      <td>Southampton</td>\n",
       "      <td>no</td>\n",
       "      <td>True</td>\n",
       "    </tr>\n",
       "  </tbody>\n",
       "</table>\n",
       "</div>"
      ],
      "text/plain": [
       "   survived  pclass     sex   age  sibsp  parch     fare embarked  class  \\\n",
       "0         0       3    male  22.0      1      0   7.2500        S  Third   \n",
       "1         1       1  female  38.0      1      0  71.2833        C  First   \n",
       "2         1       3  female  26.0      0      0   7.9250        S  Third   \n",
       "3         1       1  female  35.0      1      0  53.1000        S  First   \n",
       "4         0       3    male  35.0      0      0   8.0500        S  Third   \n",
       "\n",
       "     who  adult_male  embark_town alive  alone  \n",
       "0    man        True  Southampton    no  False  \n",
       "1  woman       False    Cherbourg   yes  False  \n",
       "2  woman       False  Southampton   yes   True  \n",
       "3  woman       False  Southampton   yes  False  \n",
       "4    man        True  Southampton    no   True  "
      ]
     },
     "execution_count": 52,
     "metadata": {},
     "output_type": "execute_result"
    }
   ],
   "source": [
    "df.head()"
   ]
  },
  {
   "cell_type": "markdown",
   "id": "e555636b",
   "metadata": {},
   "source": [
    "# feature enginering\n"
   ]
  },
  {
   "cell_type": "code",
   "execution_count": 53,
   "id": "6154f056",
   "metadata": {},
   "outputs": [],
   "source": [
    "bins = [0,1,5,12,18,30,50,80]\n",
    "labels = ['Infants', 'toddlers', 'kids', 'teens', 'young', 'middle aged', 'old']\n",
    "#kis column ko bins main canvert karna hai\n",
    "df['binned_age'] = pd.cut(df['age'], bins=bins, labels=labels)"
   ]
  },
  {
   "cell_type": "code",
   "execution_count": 54,
   "id": "1bf67222",
   "metadata": {},
   "outputs": [
    {
     "data": {
      "application/vnd.microsoft.datawrangler.viewer.v0+json": {
       "columns": [
        {
         "name": "index",
         "rawType": "int64",
         "type": "integer"
        },
        {
         "name": "survived",
         "rawType": "int64",
         "type": "integer"
        },
        {
         "name": "pclass",
         "rawType": "int64",
         "type": "integer"
        },
        {
         "name": "sex",
         "rawType": "object",
         "type": "string"
        },
        {
         "name": "age",
         "rawType": "float64",
         "type": "float"
        },
        {
         "name": "sibsp",
         "rawType": "int64",
         "type": "integer"
        },
        {
         "name": "parch",
         "rawType": "int64",
         "type": "integer"
        },
        {
         "name": "fare",
         "rawType": "float64",
         "type": "float"
        },
        {
         "name": "embarked",
         "rawType": "object",
         "type": "string"
        },
        {
         "name": "class",
         "rawType": "category",
         "type": "unknown"
        },
        {
         "name": "who",
         "rawType": "object",
         "type": "string"
        },
        {
         "name": "adult_male",
         "rawType": "bool",
         "type": "boolean"
        },
        {
         "name": "embark_town",
         "rawType": "object",
         "type": "string"
        },
        {
         "name": "alive",
         "rawType": "object",
         "type": "string"
        },
        {
         "name": "alone",
         "rawType": "bool",
         "type": "boolean"
        },
        {
         "name": "binned_age",
         "rawType": "category",
         "type": "unknown"
        }
       ],
       "ref": "587070ac-965e-4412-8319-1eee888183ce",
       "rows": [
        [
         "0",
         "0",
         "3",
         "male",
         "22.0",
         "1",
         "0",
         "7.25",
         "S",
         "Third",
         "man",
         "True",
         "Southampton",
         "no",
         "False",
         "young"
        ],
        [
         "1",
         "1",
         "1",
         "female",
         "38.0",
         "1",
         "0",
         "71.2833",
         "C",
         "First",
         "woman",
         "False",
         "Cherbourg",
         "yes",
         "False",
         "middle aged"
        ],
        [
         "2",
         "1",
         "3",
         "female",
         "26.0",
         "0",
         "0",
         "7.925",
         "S",
         "Third",
         "woman",
         "False",
         "Southampton",
         "yes",
         "True",
         "young"
        ],
        [
         "3",
         "1",
         "1",
         "female",
         "35.0",
         "1",
         "0",
         "53.1",
         "S",
         "First",
         "woman",
         "False",
         "Southampton",
         "yes",
         "False",
         "middle aged"
        ],
        [
         "4",
         "0",
         "3",
         "male",
         "35.0",
         "0",
         "0",
         "8.05",
         "S",
         "Third",
         "man",
         "True",
         "Southampton",
         "no",
         "True",
         "middle aged"
        ]
       ],
       "shape": {
        "columns": 15,
        "rows": 5
       }
      },
      "text/html": [
       "<div>\n",
       "<style scoped>\n",
       "    .dataframe tbody tr th:only-of-type {\n",
       "        vertical-align: middle;\n",
       "    }\n",
       "\n",
       "    .dataframe tbody tr th {\n",
       "        vertical-align: top;\n",
       "    }\n",
       "\n",
       "    .dataframe thead th {\n",
       "        text-align: right;\n",
       "    }\n",
       "</style>\n",
       "<table border=\"1\" class=\"dataframe\">\n",
       "  <thead>\n",
       "    <tr style=\"text-align: right;\">\n",
       "      <th></th>\n",
       "      <th>survived</th>\n",
       "      <th>pclass</th>\n",
       "      <th>sex</th>\n",
       "      <th>age</th>\n",
       "      <th>sibsp</th>\n",
       "      <th>parch</th>\n",
       "      <th>fare</th>\n",
       "      <th>embarked</th>\n",
       "      <th>class</th>\n",
       "      <th>who</th>\n",
       "      <th>adult_male</th>\n",
       "      <th>embark_town</th>\n",
       "      <th>alive</th>\n",
       "      <th>alone</th>\n",
       "      <th>binned_age</th>\n",
       "    </tr>\n",
       "  </thead>\n",
       "  <tbody>\n",
       "    <tr>\n",
       "      <th>0</th>\n",
       "      <td>0</td>\n",
       "      <td>3</td>\n",
       "      <td>male</td>\n",
       "      <td>22.0</td>\n",
       "      <td>1</td>\n",
       "      <td>0</td>\n",
       "      <td>7.2500</td>\n",
       "      <td>S</td>\n",
       "      <td>Third</td>\n",
       "      <td>man</td>\n",
       "      <td>True</td>\n",
       "      <td>Southampton</td>\n",
       "      <td>no</td>\n",
       "      <td>False</td>\n",
       "      <td>young</td>\n",
       "    </tr>\n",
       "    <tr>\n",
       "      <th>1</th>\n",
       "      <td>1</td>\n",
       "      <td>1</td>\n",
       "      <td>female</td>\n",
       "      <td>38.0</td>\n",
       "      <td>1</td>\n",
       "      <td>0</td>\n",
       "      <td>71.2833</td>\n",
       "      <td>C</td>\n",
       "      <td>First</td>\n",
       "      <td>woman</td>\n",
       "      <td>False</td>\n",
       "      <td>Cherbourg</td>\n",
       "      <td>yes</td>\n",
       "      <td>False</td>\n",
       "      <td>middle aged</td>\n",
       "    </tr>\n",
       "    <tr>\n",
       "      <th>2</th>\n",
       "      <td>1</td>\n",
       "      <td>3</td>\n",
       "      <td>female</td>\n",
       "      <td>26.0</td>\n",
       "      <td>0</td>\n",
       "      <td>0</td>\n",
       "      <td>7.9250</td>\n",
       "      <td>S</td>\n",
       "      <td>Third</td>\n",
       "      <td>woman</td>\n",
       "      <td>False</td>\n",
       "      <td>Southampton</td>\n",
       "      <td>yes</td>\n",
       "      <td>True</td>\n",
       "      <td>young</td>\n",
       "    </tr>\n",
       "    <tr>\n",
       "      <th>3</th>\n",
       "      <td>1</td>\n",
       "      <td>1</td>\n",
       "      <td>female</td>\n",
       "      <td>35.0</td>\n",
       "      <td>1</td>\n",
       "      <td>0</td>\n",
       "      <td>53.1000</td>\n",
       "      <td>S</td>\n",
       "      <td>First</td>\n",
       "      <td>woman</td>\n",
       "      <td>False</td>\n",
       "      <td>Southampton</td>\n",
       "      <td>yes</td>\n",
       "      <td>False</td>\n",
       "      <td>middle aged</td>\n",
       "    </tr>\n",
       "    <tr>\n",
       "      <th>4</th>\n",
       "      <td>0</td>\n",
       "      <td>3</td>\n",
       "      <td>male</td>\n",
       "      <td>35.0</td>\n",
       "      <td>0</td>\n",
       "      <td>0</td>\n",
       "      <td>8.0500</td>\n",
       "      <td>S</td>\n",
       "      <td>Third</td>\n",
       "      <td>man</td>\n",
       "      <td>True</td>\n",
       "      <td>Southampton</td>\n",
       "      <td>no</td>\n",
       "      <td>True</td>\n",
       "      <td>middle aged</td>\n",
       "    </tr>\n",
       "  </tbody>\n",
       "</table>\n",
       "</div>"
      ],
      "text/plain": [
       "   survived  pclass     sex   age  sibsp  parch     fare embarked  class  \\\n",
       "0         0       3    male  22.0      1      0   7.2500        S  Third   \n",
       "1         1       1  female  38.0      1      0  71.2833        C  First   \n",
       "2         1       3  female  26.0      0      0   7.9250        S  Third   \n",
       "3         1       1  female  35.0      1      0  53.1000        S  First   \n",
       "4         0       3    male  35.0      0      0   8.0500        S  Third   \n",
       "\n",
       "     who  adult_male  embark_town alive  alone   binned_age  \n",
       "0    man        True  Southampton    no  False        young  \n",
       "1  woman       False    Cherbourg   yes  False  middle aged  \n",
       "2  woman       False  Southampton   yes   True        young  \n",
       "3  woman       False  Southampton   yes  False  middle aged  \n",
       "4    man        True  Southampton    no   True  middle aged  "
      ]
     },
     "execution_count": 54,
     "metadata": {},
     "output_type": "execute_result"
    }
   ],
   "source": [
    "df.head()"
   ]
  },
  {
   "cell_type": "code",
   "execution_count": 55,
   "id": "f37d4919",
   "metadata": {},
   "outputs": [
    {
     "data": {
      "application/vnd.microsoft.datawrangler.viewer.v0+json": {
       "columns": [
        {
         "name": "binned_age",
         "rawType": "category",
         "type": "unknown"
        },
        {
         "name": "count",
         "rawType": "int64",
         "type": "integer"
        }
       ],
       "ref": "d90f9235-8671-4ad6-982b-e3d0e4f55ebf",
       "rows": [
        [
         "young",
         "447"
        ],
        [
         "middle aged",
         "241"
        ],
        [
         "teens",
         "70"
        ],
        [
         "old",
         "64"
        ],
        [
         "toddlers",
         "30"
        ],
        [
         "kids",
         "25"
        ],
        [
         "Infants",
         "14"
        ]
       ],
       "shape": {
        "columns": 1,
        "rows": 7
       }
      },
      "text/plain": [
       "binned_age\n",
       "young          447\n",
       "middle aged    241\n",
       "teens           70\n",
       "old             64\n",
       "toddlers        30\n",
       "kids            25\n",
       "Infants         14\n",
       "Name: count, dtype: int64"
      ]
     },
     "execution_count": 55,
     "metadata": {},
     "output_type": "execute_result"
    }
   ],
   "source": [
    "df['binned_age'].value_counts()"
   ]
  },
  {
   "cell_type": "markdown",
   "id": "1097650d",
   "metadata": {},
   "source": [
    "# renaming column"
   ]
  },
  {
   "cell_type": "code",
   "execution_count": 56,
   "id": "918e5b6e",
   "metadata": {},
   "outputs": [],
   "source": [
    "df.rename(columns = {'binned_age' : 'age_groups'}, inplace=True)"
   ]
  },
  {
   "cell_type": "code",
   "execution_count": 57,
   "id": "7b053be8",
   "metadata": {},
   "outputs": [
    {
     "data": {
      "application/vnd.microsoft.datawrangler.viewer.v0+json": {
       "columns": [
        {
         "name": "index",
         "rawType": "int64",
         "type": "integer"
        },
        {
         "name": "survived",
         "rawType": "int64",
         "type": "integer"
        },
        {
         "name": "pclass",
         "rawType": "int64",
         "type": "integer"
        },
        {
         "name": "sex",
         "rawType": "object",
         "type": "string"
        },
        {
         "name": "age",
         "rawType": "float64",
         "type": "float"
        },
        {
         "name": "sibsp",
         "rawType": "int64",
         "type": "integer"
        },
        {
         "name": "parch",
         "rawType": "int64",
         "type": "integer"
        },
        {
         "name": "fare",
         "rawType": "float64",
         "type": "float"
        },
        {
         "name": "embarked",
         "rawType": "object",
         "type": "string"
        },
        {
         "name": "class",
         "rawType": "category",
         "type": "unknown"
        },
        {
         "name": "who",
         "rawType": "object",
         "type": "string"
        },
        {
         "name": "adult_male",
         "rawType": "bool",
         "type": "boolean"
        },
        {
         "name": "embark_town",
         "rawType": "object",
         "type": "string"
        },
        {
         "name": "alive",
         "rawType": "object",
         "type": "string"
        },
        {
         "name": "alone",
         "rawType": "bool",
         "type": "boolean"
        },
        {
         "name": "age_groups",
         "rawType": "category",
         "type": "unknown"
        }
       ],
       "ref": "e1ccb6bb-971b-4599-8f49-a4ca852170a4",
       "rows": [
        [
         "0",
         "0",
         "3",
         "male",
         "22.0",
         "1",
         "0",
         "7.25",
         "S",
         "Third",
         "man",
         "True",
         "Southampton",
         "no",
         "False",
         "young"
        ],
        [
         "1",
         "1",
         "1",
         "female",
         "38.0",
         "1",
         "0",
         "71.2833",
         "C",
         "First",
         "woman",
         "False",
         "Cherbourg",
         "yes",
         "False",
         "middle aged"
        ],
        [
         "2",
         "1",
         "3",
         "female",
         "26.0",
         "0",
         "0",
         "7.925",
         "S",
         "Third",
         "woman",
         "False",
         "Southampton",
         "yes",
         "True",
         "young"
        ],
        [
         "3",
         "1",
         "1",
         "female",
         "35.0",
         "1",
         "0",
         "53.1",
         "S",
         "First",
         "woman",
         "False",
         "Southampton",
         "yes",
         "False",
         "middle aged"
        ],
        [
         "4",
         "0",
         "3",
         "male",
         "35.0",
         "0",
         "0",
         "8.05",
         "S",
         "Third",
         "man",
         "True",
         "Southampton",
         "no",
         "True",
         "middle aged"
        ]
       ],
       "shape": {
        "columns": 15,
        "rows": 5
       }
      },
      "text/html": [
       "<div>\n",
       "<style scoped>\n",
       "    .dataframe tbody tr th:only-of-type {\n",
       "        vertical-align: middle;\n",
       "    }\n",
       "\n",
       "    .dataframe tbody tr th {\n",
       "        vertical-align: top;\n",
       "    }\n",
       "\n",
       "    .dataframe thead th {\n",
       "        text-align: right;\n",
       "    }\n",
       "</style>\n",
       "<table border=\"1\" class=\"dataframe\">\n",
       "  <thead>\n",
       "    <tr style=\"text-align: right;\">\n",
       "      <th></th>\n",
       "      <th>survived</th>\n",
       "      <th>pclass</th>\n",
       "      <th>sex</th>\n",
       "      <th>age</th>\n",
       "      <th>sibsp</th>\n",
       "      <th>parch</th>\n",
       "      <th>fare</th>\n",
       "      <th>embarked</th>\n",
       "      <th>class</th>\n",
       "      <th>who</th>\n",
       "      <th>adult_male</th>\n",
       "      <th>embark_town</th>\n",
       "      <th>alive</th>\n",
       "      <th>alone</th>\n",
       "      <th>age_groups</th>\n",
       "    </tr>\n",
       "  </thead>\n",
       "  <tbody>\n",
       "    <tr>\n",
       "      <th>0</th>\n",
       "      <td>0</td>\n",
       "      <td>3</td>\n",
       "      <td>male</td>\n",
       "      <td>22.0</td>\n",
       "      <td>1</td>\n",
       "      <td>0</td>\n",
       "      <td>7.2500</td>\n",
       "      <td>S</td>\n",
       "      <td>Third</td>\n",
       "      <td>man</td>\n",
       "      <td>True</td>\n",
       "      <td>Southampton</td>\n",
       "      <td>no</td>\n",
       "      <td>False</td>\n",
       "      <td>young</td>\n",
       "    </tr>\n",
       "    <tr>\n",
       "      <th>1</th>\n",
       "      <td>1</td>\n",
       "      <td>1</td>\n",
       "      <td>female</td>\n",
       "      <td>38.0</td>\n",
       "      <td>1</td>\n",
       "      <td>0</td>\n",
       "      <td>71.2833</td>\n",
       "      <td>C</td>\n",
       "      <td>First</td>\n",
       "      <td>woman</td>\n",
       "      <td>False</td>\n",
       "      <td>Cherbourg</td>\n",
       "      <td>yes</td>\n",
       "      <td>False</td>\n",
       "      <td>middle aged</td>\n",
       "    </tr>\n",
       "    <tr>\n",
       "      <th>2</th>\n",
       "      <td>1</td>\n",
       "      <td>3</td>\n",
       "      <td>female</td>\n",
       "      <td>26.0</td>\n",
       "      <td>0</td>\n",
       "      <td>0</td>\n",
       "      <td>7.9250</td>\n",
       "      <td>S</td>\n",
       "      <td>Third</td>\n",
       "      <td>woman</td>\n",
       "      <td>False</td>\n",
       "      <td>Southampton</td>\n",
       "      <td>yes</td>\n",
       "      <td>True</td>\n",
       "      <td>young</td>\n",
       "    </tr>\n",
       "    <tr>\n",
       "      <th>3</th>\n",
       "      <td>1</td>\n",
       "      <td>1</td>\n",
       "      <td>female</td>\n",
       "      <td>35.0</td>\n",
       "      <td>1</td>\n",
       "      <td>0</td>\n",
       "      <td>53.1000</td>\n",
       "      <td>S</td>\n",
       "      <td>First</td>\n",
       "      <td>woman</td>\n",
       "      <td>False</td>\n",
       "      <td>Southampton</td>\n",
       "      <td>yes</td>\n",
       "      <td>False</td>\n",
       "      <td>middle aged</td>\n",
       "    </tr>\n",
       "    <tr>\n",
       "      <th>4</th>\n",
       "      <td>0</td>\n",
       "      <td>3</td>\n",
       "      <td>male</td>\n",
       "      <td>35.0</td>\n",
       "      <td>0</td>\n",
       "      <td>0</td>\n",
       "      <td>8.0500</td>\n",
       "      <td>S</td>\n",
       "      <td>Third</td>\n",
       "      <td>man</td>\n",
       "      <td>True</td>\n",
       "      <td>Southampton</td>\n",
       "      <td>no</td>\n",
       "      <td>True</td>\n",
       "      <td>middle aged</td>\n",
       "    </tr>\n",
       "  </tbody>\n",
       "</table>\n",
       "</div>"
      ],
      "text/plain": [
       "   survived  pclass     sex   age  sibsp  parch     fare embarked  class  \\\n",
       "0         0       3    male  22.0      1      0   7.2500        S  Third   \n",
       "1         1       1  female  38.0      1      0  71.2833        C  First   \n",
       "2         1       3  female  26.0      0      0   7.9250        S  Third   \n",
       "3         1       1  female  35.0      1      0  53.1000        S  First   \n",
       "4         0       3    male  35.0      0      0   8.0500        S  Third   \n",
       "\n",
       "     who  adult_male  embark_town alive  alone   age_groups  \n",
       "0    man        True  Southampton    no  False        young  \n",
       "1  woman       False    Cherbourg   yes  False  middle aged  \n",
       "2  woman       False  Southampton   yes   True        young  \n",
       "3  woman       False  Southampton   yes  False  middle aged  \n",
       "4    man        True  Southampton    no   True  middle aged  "
      ]
     },
     "execution_count": 57,
     "metadata": {},
     "output_type": "execute_result"
    }
   ],
   "source": [
    "df.head()"
   ]
  },
  {
   "cell_type": "markdown",
   "id": "d5f7b4ac",
   "metadata": {},
   "source": [
    "# Data filteration"
   ]
  },
  {
   "cell_type": "code",
   "execution_count": 58,
   "id": "587fae15",
   "metadata": {},
   "outputs": [
    {
     "data": {
      "text/plain": [
       "Index(['survived', 'pclass', 'sex', 'age', 'sibsp', 'parch', 'fare',\n",
       "       'embarked', 'class', 'who', 'adult_male', 'embark_town', 'alive',\n",
       "       'alone', 'age_groups'],\n",
       "      dtype='object')"
      ]
     },
     "execution_count": 58,
     "metadata": {},
     "output_type": "execute_result"
    }
   ],
   "source": [
    "#based on columns\n",
    "df.columns"
   ]
  },
  {
   "cell_type": "code",
   "execution_count": 59,
   "id": "954ac0c1",
   "metadata": {},
   "outputs": [],
   "source": [
    "df_01 = df[['survived','age_groups','fare', 'class']]"
   ]
  },
  {
   "cell_type": "code",
   "execution_count": 60,
   "id": "1302b061",
   "metadata": {},
   "outputs": [
    {
     "name": "stdout",
     "output_type": "stream",
     "text": [
      "<class 'pandas.core.frame.DataFrame'>\n",
      "RangeIndex: 891 entries, 0 to 890\n",
      "Data columns (total 4 columns):\n",
      " #   Column      Non-Null Count  Dtype   \n",
      "---  ------      --------------  -----   \n",
      " 0   survived    891 non-null    int64   \n",
      " 1   age_groups  891 non-null    category\n",
      " 2   fare        891 non-null    float64 \n",
      " 3   class       891 non-null    category\n",
      "dtypes: category(2), float64(1), int64(1)\n",
      "memory usage: 16.3 KB\n"
     ]
    }
   ],
   "source": [
    "df_01.info()"
   ]
  },
  {
   "cell_type": "code",
   "execution_count": 61,
   "id": "72c8f7ce",
   "metadata": {},
   "outputs": [
    {
     "data": {
      "application/vnd.microsoft.datawrangler.viewer.v0+json": {
       "columns": [
        {
         "name": "class",
         "rawType": "category",
         "type": "unknown"
        },
        {
         "name": "count",
         "rawType": "int64",
         "type": "integer"
        }
       ],
       "ref": "2e83088e-469d-4abf-bd9d-94c284f04a81",
       "rows": [
        [
         "Third",
         "491"
        ],
        [
         "First",
         "216"
        ],
        [
         "Second",
         "184"
        ]
       ],
       "shape": {
        "columns": 1,
        "rows": 3
       }
      },
      "text/plain": [
       "class\n",
       "Third     491\n",
       "First     216\n",
       "Second    184\n",
       "Name: count, dtype: int64"
      ]
     },
     "execution_count": 61,
     "metadata": {},
     "output_type": "execute_result"
    }
   ],
   "source": [
    "df['class'].value_counts()"
   ]
  },
  {
   "cell_type": "code",
   "execution_count": 62,
   "id": "4fccda64",
   "metadata": {},
   "outputs": [],
   "source": [
    "#filter the data based on filter criteria\n",
    "df_First = df_01[df_01['class'] == 'First']"
   ]
  },
  {
   "cell_type": "code",
   "execution_count": 63,
   "id": "e11bb45f",
   "metadata": {},
   "outputs": [],
   "source": [
    "#lets select only those rows which have paid more than 200 Pounds\n",
    "df_200 = df_01[df_01['fare'] > 200]"
   ]
  },
  {
   "cell_type": "code",
   "execution_count": 64,
   "id": "c73e7766",
   "metadata": {},
   "outputs": [
    {
     "data": {
      "application/vnd.microsoft.datawrangler.viewer.v0+json": {
       "columns": [
        {
         "name": "class",
         "rawType": "category",
         "type": "unknown"
        },
        {
         "name": "count",
         "rawType": "int64",
         "type": "integer"
        }
       ],
       "ref": "5156a213-8eab-4a8d-8448-12e7a8ac39f8",
       "rows": [
        [
         "First",
         "20"
        ],
        [
         "Second",
         "0"
        ],
        [
         "Third",
         "0"
        ]
       ],
       "shape": {
        "columns": 1,
        "rows": 3
       }
      },
      "text/plain": [
       "class\n",
       "First     20\n",
       "Second     0\n",
       "Third      0\n",
       "Name: count, dtype: int64"
      ]
     },
     "execution_count": 64,
     "metadata": {},
     "output_type": "execute_result"
    }
   ],
   "source": [
    "df_200['class'].value_counts()"
   ]
  },
  {
   "cell_type": "code",
   "execution_count": 65,
   "id": "fbd7fc61",
   "metadata": {},
   "outputs": [
    {
     "data": {
      "application/vnd.microsoft.datawrangler.viewer.v0+json": {
       "columns": [
        {
         "name": "index",
         "rawType": "int64",
         "type": "integer"
        },
        {
         "name": "survived",
         "rawType": "int64",
         "type": "integer"
        },
        {
         "name": "age_groups",
         "rawType": "category",
         "type": "unknown"
        },
        {
         "name": "fare",
         "rawType": "float64",
         "type": "float"
        },
        {
         "name": "class",
         "rawType": "category",
         "type": "unknown"
        }
       ],
       "ref": "4abcaaed-ebb3-45e8-9c2b-fe76fe93bfc5",
       "rows": [
        [
         "540",
         "1",
         "middle aged",
         "71.0",
         "First"
        ],
        [
         "745",
         "0",
         "old",
         "71.0",
         "First"
        ],
        [
         "1",
         "1",
         "middle aged",
         "71.2833",
         "First"
        ],
        [
         "366",
         "1",
         "old",
         "75.25",
         "First"
        ],
        [
         "218",
         "1",
         "middle aged",
         "76.2917",
         "First"
        ],
        [
         "52",
         "1",
         "middle aged",
         "76.7292",
         "First"
        ],
        [
         "681",
         "1",
         "young",
         "76.7292",
         "First"
        ],
        [
         "645",
         "1",
         "middle aged",
         "76.7292",
         "First"
        ],
        [
         "124",
         "0",
         "old",
         "77.2875",
         "First"
        ],
        [
         "102",
         "0",
         "young",
         "77.2875",
         "First"
        ],
        [
         "627",
         "1",
         "young",
         "77.9583",
         "First"
        ],
        [
         "765",
         "1",
         "old",
         "77.9583",
         "First"
        ],
        [
         "275",
         "1",
         "old",
         "77.9583",
         "First"
        ],
        [
         "496",
         "1",
         "old",
         "78.2667",
         "First"
        ],
        [
         "591",
         "1",
         "old",
         "78.2667",
         "First"
        ],
        [
         "290",
         "1",
         "young",
         "78.85",
         "First"
        ],
        [
         "741",
         "0",
         "middle aged",
         "78.85",
         "First"
        ],
        [
         "587",
         "1",
         "old",
         "79.2",
         "First"
        ],
        [
         "256",
         "1",
         "young",
         "79.2",
         "First"
        ],
        [
         "139",
         "0",
         "young",
         "79.2",
         "First"
        ],
        [
         "789",
         "0",
         "middle aged",
         "79.2",
         "First"
        ],
        [
         "262",
         "0",
         "old",
         "79.65",
         "First"
        ],
        [
         "558",
         "1",
         "middle aged",
         "79.65",
         "First"
        ],
        [
         "585",
         "1",
         "teens",
         "79.65",
         "First"
        ],
        [
         "829",
         "1",
         "old",
         "80.0",
         "First"
        ],
        [
         "61",
         "1",
         "middle aged",
         "80.0",
         "First"
        ],
        [
         "445",
         "1",
         "toddlers",
         "81.8583",
         "First"
        ],
        [
         "34",
         "0",
         "young",
         "82.1708",
         "First"
        ],
        [
         "375",
         "1",
         "young",
         "82.1708",
         "First"
        ],
        [
         "310",
         "1",
         "young",
         "83.1583",
         "First"
        ],
        [
         "835",
         "1",
         "middle aged",
         "83.1583",
         "First"
        ],
        [
         "879",
         "1",
         "old",
         "83.1583",
         "First"
        ],
        [
         "62",
         "0",
         "middle aged",
         "83.475",
         "First"
        ],
        [
         "230",
         "1",
         "middle aged",
         "83.475",
         "First"
        ],
        [
         "257",
         "1",
         "young",
         "86.5",
         "First"
        ],
        [
         "759",
         "1",
         "middle aged",
         "86.5",
         "First"
        ],
        [
         "504",
         "1",
         "teens",
         "86.5",
         "First"
        ],
        [
         "849",
         "1",
         "young",
         "89.1042",
         "First"
        ],
        [
         "453",
         "1",
         "middle aged",
         "89.1042",
         "First"
        ],
        [
         "412",
         "1",
         "middle aged",
         "90.0",
         "First"
        ],
        [
         "245",
         "0",
         "middle aged",
         "90.0",
         "First"
        ],
        [
         "224",
         "1",
         "middle aged",
         "90.0",
         "First"
        ],
        [
         "486",
         "1",
         "middle aged",
         "90.0",
         "First"
        ],
        [
         "291",
         "1",
         "young",
         "91.0792",
         "First"
        ],
        [
         "484",
         "1",
         "young",
         "91.0792",
         "First"
        ],
        [
         "520",
         "1",
         "young",
         "93.5",
         "First"
        ],
        [
         "820",
         "1",
         "old",
         "93.5",
         "First"
        ],
        [
         "544",
         "0",
         "middle aged",
         "106.425",
         "First"
        ],
        [
         "537",
         "1",
         "young",
         "106.425",
         "First"
        ],
        [
         "505",
         "0",
         "teens",
         "108.9",
         "First"
        ]
       ],
       "shape": {
        "columns": 4,
        "rows": 100
       }
      },
      "text/html": [
       "<div>\n",
       "<style scoped>\n",
       "    .dataframe tbody tr th:only-of-type {\n",
       "        vertical-align: middle;\n",
       "    }\n",
       "\n",
       "    .dataframe tbody tr th {\n",
       "        vertical-align: top;\n",
       "    }\n",
       "\n",
       "    .dataframe thead th {\n",
       "        text-align: right;\n",
       "    }\n",
       "</style>\n",
       "<table border=\"1\" class=\"dataframe\">\n",
       "  <thead>\n",
       "    <tr style=\"text-align: right;\">\n",
       "      <th></th>\n",
       "      <th>survived</th>\n",
       "      <th>age_groups</th>\n",
       "      <th>fare</th>\n",
       "      <th>class</th>\n",
       "    </tr>\n",
       "  </thead>\n",
       "  <tbody>\n",
       "    <tr>\n",
       "      <th>540</th>\n",
       "      <td>1</td>\n",
       "      <td>middle aged</td>\n",
       "      <td>71.0000</td>\n",
       "      <td>First</td>\n",
       "    </tr>\n",
       "    <tr>\n",
       "      <th>745</th>\n",
       "      <td>0</td>\n",
       "      <td>old</td>\n",
       "      <td>71.0000</td>\n",
       "      <td>First</td>\n",
       "    </tr>\n",
       "    <tr>\n",
       "      <th>1</th>\n",
       "      <td>1</td>\n",
       "      <td>middle aged</td>\n",
       "      <td>71.2833</td>\n",
       "      <td>First</td>\n",
       "    </tr>\n",
       "    <tr>\n",
       "      <th>366</th>\n",
       "      <td>1</td>\n",
       "      <td>old</td>\n",
       "      <td>75.2500</td>\n",
       "      <td>First</td>\n",
       "    </tr>\n",
       "    <tr>\n",
       "      <th>218</th>\n",
       "      <td>1</td>\n",
       "      <td>middle aged</td>\n",
       "      <td>76.2917</td>\n",
       "      <td>First</td>\n",
       "    </tr>\n",
       "    <tr>\n",
       "      <th>...</th>\n",
       "      <td>...</td>\n",
       "      <td>...</td>\n",
       "      <td>...</td>\n",
       "      <td>...</td>\n",
       "    </tr>\n",
       "    <tr>\n",
       "      <th>341</th>\n",
       "      <td>1</td>\n",
       "      <td>young</td>\n",
       "      <td>263.0000</td>\n",
       "      <td>First</td>\n",
       "    </tr>\n",
       "    <tr>\n",
       "      <th>438</th>\n",
       "      <td>0</td>\n",
       "      <td>old</td>\n",
       "      <td>263.0000</td>\n",
       "      <td>First</td>\n",
       "    </tr>\n",
       "    <tr>\n",
       "      <th>258</th>\n",
       "      <td>1</td>\n",
       "      <td>middle aged</td>\n",
       "      <td>512.3292</td>\n",
       "      <td>First</td>\n",
       "    </tr>\n",
       "    <tr>\n",
       "      <th>737</th>\n",
       "      <td>1</td>\n",
       "      <td>middle aged</td>\n",
       "      <td>512.3292</td>\n",
       "      <td>First</td>\n",
       "    </tr>\n",
       "    <tr>\n",
       "      <th>679</th>\n",
       "      <td>1</td>\n",
       "      <td>middle aged</td>\n",
       "      <td>512.3292</td>\n",
       "      <td>First</td>\n",
       "    </tr>\n",
       "  </tbody>\n",
       "</table>\n",
       "<p>100 rows × 4 columns</p>\n",
       "</div>"
      ],
      "text/plain": [
       "     survived   age_groups      fare  class\n",
       "540         1  middle aged   71.0000  First\n",
       "745         0          old   71.0000  First\n",
       "1           1  middle aged   71.2833  First\n",
       "366         1          old   75.2500  First\n",
       "218         1  middle aged   76.2917  First\n",
       "..        ...          ...       ...    ...\n",
       "341         1        young  263.0000  First\n",
       "438         0          old  263.0000  First\n",
       "258         1  middle aged  512.3292  First\n",
       "737         1  middle aged  512.3292  First\n",
       "679         1  middle aged  512.3292  First\n",
       "\n",
       "[100 rows x 4 columns]"
      ]
     },
     "execution_count": 65,
     "metadata": {},
     "output_type": "execute_result"
    }
   ],
   "source": [
    "#how to add two filter\n",
    "df_01[(df_01['fare'] > 70) & (df_01['class'] == 'First')].sort_values(by= 'fare')\n"
   ]
  }
 ],
 "metadata": {
  "kernelspec": {
   "display_name": "Python 3",
   "language": "python",
   "name": "python3"
  },
  "language_info": {
   "codemirror_mode": {
    "name": "ipython",
    "version": 3
   },
   "file_extension": ".py",
   "mimetype": "text/x-python",
   "name": "python",
   "nbconvert_exporter": "python",
   "pygments_lexer": "ipython3",
   "version": "3.10.18"
  }
 },
 "nbformat": 4,
 "nbformat_minor": 5
}
