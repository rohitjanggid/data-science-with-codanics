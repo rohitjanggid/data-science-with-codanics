{
 "cells": [
  {
   "cell_type": "markdown",
   "id": "fbcfa294",
   "metadata": {},
   "source": [
    "# Automatic EDA using `ydata_profiling`"
   ]
  },
  {
   "cell_type": "code",
   "execution_count": 1,
   "id": "cf3a82da",
   "metadata": {},
   "outputs": [
    {
     "name": "stderr",
     "output_type": "stream",
     "text": [
      "c:\\Users\\Dell\\.conda\\envs\\python_eda\\lib\\site-packages\\tqdm\\auto.py:21: TqdmWarning: IProgress not found. Please update jupyter and ipywidgets. See https://ipywidgets.readthedocs.io/en/stable/user_install.html\n",
      "  from .autonotebook import tqdm as notebook_tqdm\n"
     ]
    },
    {
     "data": {
      "text/html": [
       "\n",
       "            <div>\n",
       "                <ins><a href=\"https://ydata.ai/register\">Upgrade to ydata-sdk</a></ins>\n",
       "                <p>\n",
       "                    Improve your data and profiling with ydata-sdk, featuring data quality scoring, redundancy detection, outlier identification, text validation, and synthetic data generation.\n",
       "                </p>\n",
       "            </div>\n",
       "            "
      ],
      "text/plain": [
       "<IPython.core.display.HTML object>"
      ]
     },
     "metadata": {},
     "output_type": "display_data"
    }
   ],
   "source": [
    "#import libraries\n",
    "import pandas as pd\n",
    "import seaborn as sns\n",
    "import ydata_profiling as yd"
   ]
  },
  {
   "cell_type": "code",
   "execution_count": 2,
   "id": "f7bcc131",
   "metadata": {},
   "outputs": [],
   "source": [
    "#import dataset from seaborn\n",
    "df = sns.load_dataset('titanic')"
   ]
  },
  {
   "cell_type": "code",
   "execution_count": 3,
   "id": "04f7e694",
   "metadata": {},
   "outputs": [
    {
     "name": "stderr",
     "output_type": "stream",
     "text": [
      "100%|██████████| 15/15 [00:00<00:00, 684.90it/s]<00:00, 47.24it/s, Describe variable: alone]     \n",
      "Summarize dataset: 100%|██████████| 41/41 [00:03<00:00, 12.89it/s, Completed]                 \n",
      "Generate report structure: 100%|██████████| 1/1 [00:02<00:00,  2.66s/it]\n",
      "Render HTML: 100%|██████████| 1/1 [00:01<00:00,  1.64s/it]\n",
      "Export report to file: 100%|██████████| 1/1 [00:00<00:00, 45.83it/s]\n"
     ]
    }
   ],
   "source": [
    "#ydata profile report\n",
    "profile = yd.ProfileReport(df)\n",
    "profile.to_file(output_file = './outputs/03_ydata_titanic.html')"
   ]
  },
  {
   "cell_type": "code",
   "execution_count": 4,
   "id": "58b20f38",
   "metadata": {},
   "outputs": [
    {
     "name": "stderr",
     "output_type": "stream",
     "text": [
      "100%|██████████| 21/21 [00:00<00:00, 385.36it/s]<00:00, 51.88it/s, Describe variable: ANNUAL GROWTH RATE (URBAN)]\n",
      "Summarize dataset: 100%|██████████| 319/319 [00:30<00:00, 10.37it/s, Completed]                                                     \n",
      "Generate report structure: 100%|██████████| 1/1 [00:06<00:00,  6.36s/it]\n",
      "Render HTML: 100%|██████████| 1/1 [00:09<00:00,  9.67s/it]\n",
      "Export report to file: 100%|██████████| 1/1 [00:00<00:00,  1.33it/s]\n"
     ]
    }
   ],
   "source": [
    "# Do it on pak population dataset\n",
    "df_pop = pd.read_csv(\"./data/population.csv\")\n",
    "profile = yd.ProfileReport(df_pop)\n",
    "profile.to_file(output_file = './outputs/03_ydata_population.html')"
   ]
  }
 ],
 "metadata": {
  "kernelspec": {
   "display_name": "python_eda",
   "language": "python",
   "name": "python3"
  },
  "language_info": {
   "codemirror_mode": {
    "name": "ipython",
    "version": 3
   },
   "file_extension": ".py",
   "mimetype": "text/x-python",
   "name": "python",
   "nbconvert_exporter": "python",
   "pygments_lexer": "ipython3",
   "version": "3.10.18"
  }
 },
 "nbformat": 4,
 "nbformat_minor": 5
}
